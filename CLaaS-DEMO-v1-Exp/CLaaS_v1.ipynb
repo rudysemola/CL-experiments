{
  "nbformat": 4,
  "nbformat_minor": 0,
  "metadata": {
    "colab": {
      "name": "CLaaS-v1.ipynb",
      "provenance": [],
      "authorship_tag": "ABX9TyPIpPensTJvgW144OZfaha2",
      "include_colab_link": true
    },
    "kernelspec": {
      "name": "python3",
      "display_name": "Python 3"
    },
    "language_info": {
      "name": "python"
    },
    "accelerator": "GPU"
  },
  "cells": [
    {
      "cell_type": "markdown",
      "metadata": {
        "id": "view-in-github",
        "colab_type": "text"
      },
      "source": [
        "<a href=\"https://colab.research.google.com/github/rudysemola/CL-experiments/blob/main/CLaaS-DEMO-v1-Exp/CLaaS_v1.ipynb\" target=\"_parent\"><img src=\"https://colab.research.google.com/assets/colab-badge.svg\" alt=\"Open In Colab\"/></a>"
      ]
    },
    {
      "cell_type": "markdown",
      "source": [
        "# CLaaS v1"
      ],
      "metadata": {
        "id": "iAJeP5EQjX8n"
      }
    },
    {
      "cell_type": "code",
      "execution_count": null,
      "metadata": {
        "id": "e_AE-sSdjTol"
      },
      "outputs": [],
      "source": [
        "!pip install git+https://github.com/ContinualAI/avalanche.git"
      ]
    },
    {
      "cell_type": "markdown",
      "source": [
        "# SplitMNIST "
      ],
      "metadata": {
        "id": "kCl_NeFllcI3"
      }
    },
    {
      "cell_type": "code",
      "source": [
        "import avalanche\n",
        "from avalanche.benchmarks.classic import SplitMNIST\n",
        "from avalanche.models import SimpleMLP\n",
        "from avalanche.training.plugins import EvaluationPlugin\n",
        "from avalanche.logging import InteractiveLogger\n",
        "from avalanche.evaluation.metrics import accuracy_metrics, \\\n",
        "    timing_metrics, cpu_usage_metrics, disk_usage_metrics, gpu_usage_metrics, ram_usage_metrics\n",
        "from avalanche.training.strategies import Replay\n",
        "from avalanche.training.strategies import Naive, Cumulative\n",
        "\n",
        "import torch\n",
        "from torch.optim import SGD\n",
        "from torch.nn import CrossEntropyLoss"
      ],
      "metadata": {
        "id": "RC0oRzsct5TU"
      },
      "execution_count": 5,
      "outputs": []
    },
    {
      "cell_type": "code",
      "source": [
        "# scenario\n",
        "scenario = SplitMNIST(n_experiences=5)\n",
        "\n",
        "# MODEL CREATION\n",
        "model = SimpleMLP(num_classes=scenario.n_classes)\n",
        "\n",
        "#logger\n",
        "monitoring_logger = InteractiveLogger()\n",
        "\n",
        "#gpu\n",
        "device = torch.device(f\"cuda:{0}\" if torch.cuda.is_available() else \"cpu\")\n",
        "#Eval plugin\n",
        "eval_plugin = EvaluationPlugin(\n",
        "            accuracy_metrics(epoch=True, experience=True, stream=True),\n",
        "            timing_metrics(epoch=True, experience=True),\n",
        "            cpu_usage_metrics(experience=True),\n",
        "            disk_usage_metrics(epoch=True, experience=True, stream=True),\n",
        "            ram_usage_metrics(epoch=True, experience=True, stream=True),\n",
        "            gpu_usage_metrics(gpu_id=device.index,epoch=True, experience=True, stream=True),\n",
        "            loggers=[monitoring_logger]\n",
        "        ) "
      ],
      "metadata": {
        "colab": {
          "base_uri": "https://localhost:8080/"
        },
        "id": "uixcLWH9loWh",
        "outputId": "b711d6a1-3ad7-480b-cbc7-c870f1700b67"
      },
      "execution_count": 12,
      "outputs": [
        {
          "output_type": "stream",
          "name": "stderr",
          "text": [
            "/usr/local/lib/python3.7/dist-packages/avalanche/training/plugins/evaluation.py:85: UserWarning: No benchmark provided to the evaluation plugin. Metrics may be computed on inconsistent portion of streams, use at your own risk.\n",
            "  \"No benchmark provided to the evaluation plugin. \"\n"
          ]
        }
      ]
    },
    {
      "cell_type": "markdown",
      "source": [
        "## Naive"
      ],
      "metadata": {
        "id": "JaONDN7XlowO"
      }
    },
    {
      "cell_type": "code",
      "source": [
        "# CREATE THE STRATEGY INSTANCE (NAIVE)\n",
        "naive_strategy = Naive(\n",
        "    model, SGD(model.parameters(), lr=0.001, momentum=0.9),\n",
        "    CrossEntropyLoss(), train_mb_size=500, train_epochs=1, eval_mb_size=100,\n",
        "    evaluator=eval_plugin)\n",
        "\n",
        "# TRAINING LOOP\n",
        "print('Starting experiment...')\n",
        "results_naive = []\n",
        "for experience in scenario.train_stream:\n",
        "    print(\"Start of experience: \", experience.current_experience)\n",
        "    print(\"Current Classes: \", experience.classes_in_this_experience)\n",
        "\n",
        "    # train returns a dictionary which contains all the metric values\n",
        "    res_naive = naive_strategy.train(experience, num_workers=4)\n",
        "    print('Training completed')\n",
        "\n",
        "    print('Computing accuracy on the whole test set')\n",
        "    # eval also returns a dictionary which contains all the metric values\n",
        "    results_naive.append(naive_strategy.eval(scenario.test_stream, num_workers=4))"
      ],
      "metadata": {
        "colab": {
          "base_uri": "https://localhost:8080/"
        },
        "id": "urecCAzAlrHk",
        "outputId": "29f1651c-9742-4836-cb4f-f605324d2419"
      },
      "execution_count": 18,
      "outputs": [
        {
          "output_type": "stream",
          "name": "stdout",
          "text": [
            "Starting experiment...\n",
            "Start of experience:  0\n",
            "Current Classes:  [3, 4]\n",
            "-- >> Start of training phase << --\n",
            "-- Starting training on experience 0 (Task 0) from train stream --\n"
          ]
        },
        {
          "output_type": "stream",
          "name": "stderr",
          "text": [
            "/usr/local/lib/python3.7/dist-packages/torch/utils/data/dataloader.py:481: UserWarning: This DataLoader will create 4 worker processes in total. Our suggested max number of worker in current system is 2, which is smaller than what this DataLoader is going to create. Please be aware that excessive worker creation might get DataLoader running slow or even freeze, lower the worker number to avoid potential slowness/freeze if necessary.\n",
            "  cpuset_checked))\n"
          ]
        },
        {
          "output_type": "stream",
          "name": "stdout",
          "text": [
            "100%|██████████| 24/24 [00:05<00:00,  4.43it/s]\n",
            "Epoch 0 ended.\n",
            "\tDiskUsage_Epoch/train_phase/train_stream/Task000 = 55532.3242\n",
            "\tMaxGPU0Usage_Epoch/train_phase/train_stream/Task000 = 0\n",
            "\tMaxRAMUsage_Epoch/train_phase/train_stream/Task000 = 3303.4922\n",
            "\tTime_Epoch/train_phase/train_stream/Task000 = 5.2530\n",
            "\tTop1_Acc_Epoch/train_phase/train_stream/Task000 = 0.7837\n",
            "-- >> End of training phase << --\n",
            "Training completed\n",
            "Computing accuracy on the whole test set\n",
            "-- >> Start of eval phase << --\n",
            "-- Starting eval on experience 0 (Task 0) from test stream --\n"
          ]
        },
        {
          "output_type": "stream",
          "name": "stderr",
          "text": [
            "/usr/local/lib/python3.7/dist-packages/torch/utils/data/dataloader.py:481: UserWarning: This DataLoader will create 4 worker processes in total. Our suggested max number of worker in current system is 2, which is smaller than what this DataLoader is going to create. Please be aware that excessive worker creation might get DataLoader running slow or even freeze, lower the worker number to avoid potential slowness/freeze if necessary.\n",
            "  cpuset_checked))\n"
          ]
        },
        {
          "output_type": "stream",
          "name": "stdout",
          "text": [
            "100%|██████████| 20/20 [00:02<00:00,  8.12it/s]\n",
            "> Eval on experience 0 (Task 0) from test stream ended.\n",
            "\tCPUUsage_Exp/eval_phase/test_stream/Task000/Exp000 = 31.1500\n",
            "\tDiskUsage_Exp/eval_phase/test_stream/Task000/Exp000 = 55532.3242\n",
            "\tMaxGPU0Usage_Experience/eval_phase/test_stream/Task000/Exp000 = 0\n",
            "\tMaxRAMUsage_Experience/eval_phase/test_stream/Task000/Exp000 = 3303.4961\n",
            "\tTime_Exp/eval_phase/test_stream/Task000/Exp000 = 2.2151\n",
            "\tTop1_Acc_Exp/eval_phase/test_stream/Task000/Exp000 = 0.9864\n",
            "-- Starting eval on experience 1 (Task 0) from test stream --\n"
          ]
        },
        {
          "output_type": "stream",
          "name": "stderr",
          "text": [
            "/usr/local/lib/python3.7/dist-packages/torch/utils/data/dataloader.py:481: UserWarning: This DataLoader will create 4 worker processes in total. Our suggested max number of worker in current system is 2, which is smaller than what this DataLoader is going to create. Please be aware that excessive worker creation might get DataLoader running slow or even freeze, lower the worker number to avoid potential slowness/freeze if necessary.\n",
            "  cpuset_checked))\n"
          ]
        },
        {
          "output_type": "stream",
          "name": "stdout",
          "text": [
            "100%|██████████| 22/22 [00:02<00:00,  8.42it/s]\n",
            "> Eval on experience 1 (Task 0) from test stream ended.\n",
            "\tCPUUsage_Exp/eval_phase/test_stream/Task000/Exp001 = 33.2661\n",
            "\tDiskUsage_Exp/eval_phase/test_stream/Task000/Exp001 = 55532.3242\n",
            "\tMaxGPU0Usage_Experience/eval_phase/test_stream/Task000/Exp001 = 0\n",
            "\tMaxRAMUsage_Experience/eval_phase/test_stream/Task000/Exp001 = 3303.5117\n",
            "\tTime_Exp/eval_phase/test_stream/Task000/Exp001 = 2.2554\n",
            "\tTop1_Acc_Exp/eval_phase/test_stream/Task000/Exp001 = 0.7720\n",
            "-- Starting eval on experience 2 (Task 0) from test stream --\n"
          ]
        },
        {
          "output_type": "stream",
          "name": "stderr",
          "text": [
            "/usr/local/lib/python3.7/dist-packages/torch/utils/data/dataloader.py:481: UserWarning: This DataLoader will create 4 worker processes in total. Our suggested max number of worker in current system is 2, which is smaller than what this DataLoader is going to create. Please be aware that excessive worker creation might get DataLoader running slow or even freeze, lower the worker number to avoid potential slowness/freeze if necessary.\n",
            "  cpuset_checked))\n"
          ]
        },
        {
          "output_type": "stream",
          "name": "stdout",
          "text": [
            "100%|██████████| 20/20 [00:02<00:00,  8.52it/s]\n",
            "> Eval on experience 2 (Task 0) from test stream ended.\n",
            "\tCPUUsage_Exp/eval_phase/test_stream/Task000/Exp002 = 28.2680\n",
            "\tDiskUsage_Exp/eval_phase/test_stream/Task000/Exp002 = 55532.3242\n",
            "\tMaxGPU0Usage_Experience/eval_phase/test_stream/Task000/Exp002 = 0\n",
            "\tMaxRAMUsage_Experience/eval_phase/test_stream/Task000/Exp002 = 3303.5117\n",
            "\tTime_Exp/eval_phase/test_stream/Task000/Exp002 = 2.2292\n",
            "\tTop1_Acc_Exp/eval_phase/test_stream/Task000/Exp002 = 0.1150\n",
            "-- Starting eval on experience 3 (Task 0) from test stream --\n"
          ]
        },
        {
          "output_type": "stream",
          "name": "stderr",
          "text": [
            "/usr/local/lib/python3.7/dist-packages/torch/utils/data/dataloader.py:481: UserWarning: This DataLoader will create 4 worker processes in total. Our suggested max number of worker in current system is 2, which is smaller than what this DataLoader is going to create. Please be aware that excessive worker creation might get DataLoader running slow or even freeze, lower the worker number to avoid potential slowness/freeze if necessary.\n",
            "  cpuset_checked))\n"
          ]
        },
        {
          "output_type": "stream",
          "name": "stdout",
          "text": [
            "100%|██████████| 19/19 [00:02<00:00,  8.87it/s]\n",
            "> Eval on experience 3 (Task 0) from test stream ended.\n",
            "\tCPUUsage_Exp/eval_phase/test_stream/Task000/Exp003 = 30.6176\n",
            "\tDiskUsage_Exp/eval_phase/test_stream/Task000/Exp003 = 55532.3242\n",
            "\tMaxGPU0Usage_Experience/eval_phase/test_stream/Task000/Exp003 = 0\n",
            "\tMaxRAMUsage_Experience/eval_phase/test_stream/Task000/Exp003 = 3303.5039\n",
            "\tTime_Exp/eval_phase/test_stream/Task000/Exp003 = 1.9930\n",
            "\tTop1_Acc_Exp/eval_phase/test_stream/Task000/Exp003 = 0.5395\n",
            "-- Starting eval on experience 4 (Task 0) from test stream --\n"
          ]
        },
        {
          "output_type": "stream",
          "name": "stderr",
          "text": [
            "/usr/local/lib/python3.7/dist-packages/torch/utils/data/dataloader.py:481: UserWarning: This DataLoader will create 4 worker processes in total. Our suggested max number of worker in current system is 2, which is smaller than what this DataLoader is going to create. Please be aware that excessive worker creation might get DataLoader running slow or even freeze, lower the worker number to avoid potential slowness/freeze if necessary.\n",
            "  cpuset_checked))\n"
          ]
        },
        {
          "output_type": "stream",
          "name": "stdout",
          "text": [
            "\r0it [00:00, ?it/s]"
          ]
        },
        {
          "output_type": "stream",
          "name": "stderr",
          "text": [
            "/usr/local/lib/python3.7/dist-packages/torch/utils/data/dataloader.py:481: UserWarning: This DataLoader will create 4 worker processes in total. Our suggested max number of worker in current system is 2, which is smaller than what this DataLoader is going to create. Please be aware that excessive worker creation might get DataLoader running slow or even freeze, lower the worker number to avoid potential slowness/freeze if necessary.\n",
            "  cpuset_checked))\n"
          ]
        },
        {
          "output_type": "stream",
          "name": "stdout",
          "text": [
            "100%|██████████| 20/20 [00:02<00:00,  7.77it/s]\n",
            "> Eval on experience 4 (Task 0) from test stream ended.\n",
            "\tCPUUsage_Exp/eval_phase/test_stream/Task000/Exp004 = 31.8486\n",
            "\tDiskUsage_Exp/eval_phase/test_stream/Task000/Exp004 = 55532.3242\n",
            "\tMaxGPU0Usage_Experience/eval_phase/test_stream/Task000/Exp004 = 0\n",
            "\tMaxRAMUsage_Experience/eval_phase/test_stream/Task000/Exp004 = 3303.5117\n",
            "\tTime_Exp/eval_phase/test_stream/Task000/Exp004 = 2.3287\n",
            "\tTop1_Acc_Exp/eval_phase/test_stream/Task000/Exp004 = 0.8016\n",
            "-- >> End of eval phase << --\n",
            "\tDiskUsage_Stream/eval_phase/test_stream/Task000 = 55532.3242\n",
            "\tMaxGPU0Usage_Stream/eval_phase/test_stream/Task000 = 0\n",
            "\tMaxRAMUsage_Stream/eval_phase/test_stream/Task000 = 3303.5117\n",
            "\tTop1_Acc_Stream/eval_phase/test_stream/Task000 = 0.6468\n",
            "Start of experience:  1\n",
            "Current Classes:  [1, 2]\n",
            "-- >> Start of training phase << --\n",
            "-- Starting training on experience 1 (Task 0) from train stream --\n"
          ]
        },
        {
          "output_type": "stream",
          "name": "stderr",
          "text": [
            "/usr/local/lib/python3.7/dist-packages/torch/utils/data/dataloader.py:481: UserWarning: This DataLoader will create 4 worker processes in total. Our suggested max number of worker in current system is 2, which is smaller than what this DataLoader is going to create. Please be aware that excessive worker creation might get DataLoader running slow or even freeze, lower the worker number to avoid potential slowness/freeze if necessary.\n",
            "  cpuset_checked))\n"
          ]
        },
        {
          "output_type": "stream",
          "name": "stdout",
          "text": [
            "100%|██████████| 26/26 [00:07<00:00,  3.47it/s]\n",
            "Epoch 0 ended.\n",
            "\tDiskUsage_Epoch/train_phase/train_stream/Task000 = 55532.3242\n",
            "\tMaxGPU0Usage_Epoch/train_phase/train_stream/Task000 = 0\n",
            "\tMaxRAMUsage_Epoch/train_phase/train_stream/Task000 = 3303.4961\n",
            "\tTime_Epoch/train_phase/train_stream/Task000 = 7.4319\n",
            "\tTop1_Acc_Epoch/train_phase/train_stream/Task000 = 0.8865\n",
            "-- >> End of training phase << --\n",
            "Training completed\n",
            "Computing accuracy on the whole test set\n",
            "-- >> Start of eval phase << --\n",
            "-- Starting eval on experience 0 (Task 0) from test stream --\n"
          ]
        },
        {
          "output_type": "stream",
          "name": "stderr",
          "text": [
            "/usr/local/lib/python3.7/dist-packages/torch/utils/data/dataloader.py:481: UserWarning: This DataLoader will create 4 worker processes in total. Our suggested max number of worker in current system is 2, which is smaller than what this DataLoader is going to create. Please be aware that excessive worker creation might get DataLoader running slow or even freeze, lower the worker number to avoid potential slowness/freeze if necessary.\n",
            "  cpuset_checked))\n"
          ]
        },
        {
          "output_type": "stream",
          "name": "stdout",
          "text": [
            "\r0it [00:00, ?it/s]"
          ]
        },
        {
          "output_type": "stream",
          "name": "stderr",
          "text": [
            "/usr/local/lib/python3.7/dist-packages/torch/utils/data/dataloader.py:481: UserWarning: This DataLoader will create 4 worker processes in total. Our suggested max number of worker in current system is 2, which is smaller than what this DataLoader is going to create. Please be aware that excessive worker creation might get DataLoader running slow or even freeze, lower the worker number to avoid potential slowness/freeze if necessary.\n",
            "  cpuset_checked))\n"
          ]
        },
        {
          "output_type": "stream",
          "name": "stdout",
          "text": [
            "100%|██████████| 20/20 [00:01<00:00, 15.83it/s]\n",
            "> Eval on experience 0 (Task 0) from test stream ended.\n",
            "\tCPUUsage_Exp/eval_phase/test_stream/Task000/Exp000 = 51.3491\n",
            "\tDiskUsage_Exp/eval_phase/test_stream/Task000/Exp000 = 55532.3242\n",
            "\tMaxGPU0Usage_Experience/eval_phase/test_stream/Task000/Exp000 = 0\n",
            "\tMaxRAMUsage_Experience/eval_phase/test_stream/Task000/Exp000 = 3303.4961\n",
            "\tTime_Exp/eval_phase/test_stream/Task000/Exp000 = 1.2081\n",
            "\tTop1_Acc_Exp/eval_phase/test_stream/Task000/Exp000 = 0.9021\n",
            "-- Starting eval on experience 1 (Task 0) from test stream --\n"
          ]
        },
        {
          "output_type": "stream",
          "name": "stderr",
          "text": [
            "/usr/local/lib/python3.7/dist-packages/torch/utils/data/dataloader.py:481: UserWarning: This DataLoader will create 4 worker processes in total. Our suggested max number of worker in current system is 2, which is smaller than what this DataLoader is going to create. Please be aware that excessive worker creation might get DataLoader running slow or even freeze, lower the worker number to avoid potential slowness/freeze if necessary.\n",
            "  cpuset_checked))\n"
          ]
        },
        {
          "output_type": "stream",
          "name": "stdout",
          "text": [
            "100%|██████████| 22/22 [00:01<00:00, 12.75it/s]\n",
            "> Eval on experience 1 (Task 0) from test stream ended.\n",
            "\tCPUUsage_Exp/eval_phase/test_stream/Task000/Exp001 = 38.7024\n",
            "\tDiskUsage_Exp/eval_phase/test_stream/Task000/Exp001 = 55532.3242\n",
            "\tMaxGPU0Usage_Experience/eval_phase/test_stream/Task000/Exp001 = 0\n",
            "\tMaxRAMUsage_Experience/eval_phase/test_stream/Task000/Exp001 = 3303.5078\n",
            "\tTime_Exp/eval_phase/test_stream/Task000/Exp001 = 1.5772\n",
            "\tTop1_Acc_Exp/eval_phase/test_stream/Task000/Exp001 = 0.9672\n",
            "-- Starting eval on experience 2 (Task 0) from test stream --\n"
          ]
        },
        {
          "output_type": "stream",
          "name": "stderr",
          "text": [
            "/usr/local/lib/python3.7/dist-packages/torch/utils/data/dataloader.py:481: UserWarning: This DataLoader will create 4 worker processes in total. Our suggested max number of worker in current system is 2, which is smaller than what this DataLoader is going to create. Please be aware that excessive worker creation might get DataLoader running slow or even freeze, lower the worker number to avoid potential slowness/freeze if necessary.\n",
            "  cpuset_checked))\n"
          ]
        },
        {
          "output_type": "stream",
          "name": "stdout",
          "text": [
            "100%|██████████| 20/20 [00:01<00:00, 12.20it/s]\n",
            "> Eval on experience 2 (Task 0) from test stream ended.\n",
            "\tCPUUsage_Exp/eval_phase/test_stream/Task000/Exp002 = 39.9929\n",
            "\tDiskUsage_Exp/eval_phase/test_stream/Task000/Exp002 = 55532.3242\n",
            "\tMaxGPU0Usage_Experience/eval_phase/test_stream/Task000/Exp002 = 0\n",
            "\tMaxRAMUsage_Experience/eval_phase/test_stream/Task000/Exp002 = 3303.5156\n",
            "\tTime_Exp/eval_phase/test_stream/Task000/Exp002 = 1.5748\n",
            "\tTop1_Acc_Exp/eval_phase/test_stream/Task000/Exp002 = 0.1478\n",
            "-- Starting eval on experience 3 (Task 0) from test stream --\n"
          ]
        },
        {
          "output_type": "stream",
          "name": "stderr",
          "text": [
            "/usr/local/lib/python3.7/dist-packages/torch/utils/data/dataloader.py:481: UserWarning: This DataLoader will create 4 worker processes in total. Our suggested max number of worker in current system is 2, which is smaller than what this DataLoader is going to create. Please be aware that excessive worker creation might get DataLoader running slow or even freeze, lower the worker number to avoid potential slowness/freeze if necessary.\n",
            "  cpuset_checked))\n"
          ]
        },
        {
          "output_type": "stream",
          "name": "stdout",
          "text": [
            "100%|██████████| 19/19 [00:01<00:00, 11.83it/s]\n",
            "> Eval on experience 3 (Task 0) from test stream ended.\n",
            "\tCPUUsage_Exp/eval_phase/test_stream/Task000/Exp003 = 44.4082\n",
            "\tDiskUsage_Exp/eval_phase/test_stream/Task000/Exp003 = 55532.3242\n",
            "\tMaxGPU0Usage_Experience/eval_phase/test_stream/Task000/Exp003 = 0\n",
            "\tMaxRAMUsage_Experience/eval_phase/test_stream/Task000/Exp003 = 3303.5078\n",
            "\tTime_Exp/eval_phase/test_stream/Task000/Exp003 = 1.4180\n",
            "\tTop1_Acc_Exp/eval_phase/test_stream/Task000/Exp003 = 0.5673\n",
            "-- Starting eval on experience 4 (Task 0) from test stream --\n"
          ]
        },
        {
          "output_type": "stream",
          "name": "stderr",
          "text": [
            "/usr/local/lib/python3.7/dist-packages/torch/utils/data/dataloader.py:481: UserWarning: This DataLoader will create 4 worker processes in total. Our suggested max number of worker in current system is 2, which is smaller than what this DataLoader is going to create. Please be aware that excessive worker creation might get DataLoader running slow or even freeze, lower the worker number to avoid potential slowness/freeze if necessary.\n",
            "  cpuset_checked))\n"
          ]
        },
        {
          "output_type": "stream",
          "name": "stdout",
          "text": [
            "100%|██████████| 20/20 [00:01<00:00, 11.20it/s]\n",
            "> Eval on experience 4 (Task 0) from test stream ended.\n",
            "\tCPUUsage_Exp/eval_phase/test_stream/Task000/Exp004 = 37.6667\n",
            "\tDiskUsage_Exp/eval_phase/test_stream/Task000/Exp004 = 55532.3242\n",
            "\tMaxGPU0Usage_Experience/eval_phase/test_stream/Task000/Exp004 = 0\n",
            "\tMaxRAMUsage_Experience/eval_phase/test_stream/Task000/Exp004 = 3303.5039\n",
            "\tTime_Exp/eval_phase/test_stream/Task000/Exp004 = 1.6769\n",
            "\tTop1_Acc_Exp/eval_phase/test_stream/Task000/Exp004 = 0.7140\n",
            "-- >> End of eval phase << --\n",
            "\tDiskUsage_Stream/eval_phase/test_stream/Task000 = 55532.3242\n",
            "\tMaxGPU0Usage_Stream/eval_phase/test_stream/Task000 = 0\n",
            "\tMaxRAMUsage_Stream/eval_phase/test_stream/Task000 = 3303.5156\n",
            "\tTop1_Acc_Stream/eval_phase/test_stream/Task000 = 0.6666\n",
            "Start of experience:  2\n",
            "Current Classes:  [8, 9]\n",
            "-- >> Start of training phase << --\n",
            "-- Starting training on experience 2 (Task 0) from train stream --\n"
          ]
        },
        {
          "output_type": "stream",
          "name": "stderr",
          "text": [
            "/usr/local/lib/python3.7/dist-packages/torch/utils/data/dataloader.py:481: UserWarning: This DataLoader will create 4 worker processes in total. Our suggested max number of worker in current system is 2, which is smaller than what this DataLoader is going to create. Please be aware that excessive worker creation might get DataLoader running slow or even freeze, lower the worker number to avoid potential slowness/freeze if necessary.\n",
            "  cpuset_checked))\n"
          ]
        },
        {
          "output_type": "stream",
          "name": "stdout",
          "text": [
            "100%|██████████| 24/24 [00:04<00:00,  5.32it/s]\n",
            "Epoch 0 ended.\n",
            "\tDiskUsage_Epoch/train_phase/train_stream/Task000 = 55532.3242\n",
            "\tMaxGPU0Usage_Epoch/train_phase/train_stream/Task000 = 0\n",
            "\tMaxRAMUsage_Epoch/train_phase/train_stream/Task000 = 3303.4961\n",
            "\tTime_Epoch/train_phase/train_stream/Task000 = 4.4468\n",
            "\tTop1_Acc_Epoch/train_phase/train_stream/Task000 = 0.6835\n",
            "-- >> End of training phase << --\n",
            "Training completed\n",
            "Computing accuracy on the whole test set\n",
            "-- >> Start of eval phase << --\n",
            "-- Starting eval on experience 0 (Task 0) from test stream --\n"
          ]
        },
        {
          "output_type": "stream",
          "name": "stderr",
          "text": [
            "/usr/local/lib/python3.7/dist-packages/torch/utils/data/dataloader.py:481: UserWarning: This DataLoader will create 4 worker processes in total. Our suggested max number of worker in current system is 2, which is smaller than what this DataLoader is going to create. Please be aware that excessive worker creation might get DataLoader running slow or even freeze, lower the worker number to avoid potential slowness/freeze if necessary.\n",
            "  cpuset_checked))\n"
          ]
        },
        {
          "output_type": "stream",
          "name": "stdout",
          "text": [
            "100%|██████████| 20/20 [00:01<00:00, 16.88it/s]\n",
            "> Eval on experience 0 (Task 0) from test stream ended.\n",
            "\tCPUUsage_Exp/eval_phase/test_stream/Task000/Exp000 = 48.8420\n",
            "\tDiskUsage_Exp/eval_phase/test_stream/Task000/Exp000 = 55532.3242\n",
            "\tMaxGPU0Usage_Experience/eval_phase/test_stream/Task000/Exp000 = 0\n",
            "\tMaxRAMUsage_Experience/eval_phase/test_stream/Task000/Exp000 = 3303.4961\n",
            "\tTime_Exp/eval_phase/test_stream/Task000/Exp000 = 1.1273\n",
            "\tTop1_Acc_Exp/eval_phase/test_stream/Task000/Exp000 = 0.3032\n",
            "-- Starting eval on experience 1 (Task 0) from test stream --\n"
          ]
        },
        {
          "output_type": "stream",
          "name": "stderr",
          "text": [
            "/usr/local/lib/python3.7/dist-packages/torch/utils/data/dataloader.py:481: UserWarning: This DataLoader will create 4 worker processes in total. Our suggested max number of worker in current system is 2, which is smaller than what this DataLoader is going to create. Please be aware that excessive worker creation might get DataLoader running slow or even freeze, lower the worker number to avoid potential slowness/freeze if necessary.\n",
            "  cpuset_checked))\n"
          ]
        },
        {
          "output_type": "stream",
          "name": "stdout",
          "text": [
            "100%|██████████| 22/22 [00:01<00:00, 15.91it/s]\n",
            "> Eval on experience 1 (Task 0) from test stream ended.\n",
            "\tCPUUsage_Exp/eval_phase/test_stream/Task000/Exp001 = 53.7151\n",
            "\tDiskUsage_Exp/eval_phase/test_stream/Task000/Exp001 = 55532.3242\n",
            "\tMaxGPU0Usage_Experience/eval_phase/test_stream/Task000/Exp001 = 0\n",
            "\tMaxRAMUsage_Experience/eval_phase/test_stream/Task000/Exp001 = 3303.5156\n",
            "\tTime_Exp/eval_phase/test_stream/Task000/Exp001 = 1.3043\n",
            "\tTop1_Acc_Exp/eval_phase/test_stream/Task000/Exp001 = 0.7370\n",
            "-- Starting eval on experience 2 (Task 0) from test stream --\n"
          ]
        },
        {
          "output_type": "stream",
          "name": "stderr",
          "text": [
            "/usr/local/lib/python3.7/dist-packages/torch/utils/data/dataloader.py:481: UserWarning: This DataLoader will create 4 worker processes in total. Our suggested max number of worker in current system is 2, which is smaller than what this DataLoader is going to create. Please be aware that excessive worker creation might get DataLoader running slow or even freeze, lower the worker number to avoid potential slowness/freeze if necessary.\n",
            "  cpuset_checked))\n"
          ]
        },
        {
          "output_type": "stream",
          "name": "stdout",
          "text": [
            "100%|██████████| 20/20 [00:01<00:00, 14.66it/s]\n",
            "> Eval on experience 2 (Task 0) from test stream ended.\n",
            "\tCPUUsage_Exp/eval_phase/test_stream/Task000/Exp002 = 50.4752\n",
            "\tDiskUsage_Exp/eval_phase/test_stream/Task000/Exp002 = 55532.3242\n",
            "\tMaxGPU0Usage_Experience/eval_phase/test_stream/Task000/Exp002 = 0\n",
            "\tMaxRAMUsage_Experience/eval_phase/test_stream/Task000/Exp002 = 3303.5156\n",
            "\tTime_Exp/eval_phase/test_stream/Task000/Exp002 = 1.1891\n",
            "\tTop1_Acc_Exp/eval_phase/test_stream/Task000/Exp002 = 0.9506\n",
            "-- Starting eval on experience 3 (Task 0) from test stream --\n"
          ]
        },
        {
          "output_type": "stream",
          "name": "stderr",
          "text": [
            "/usr/local/lib/python3.7/dist-packages/torch/utils/data/dataloader.py:481: UserWarning: This DataLoader will create 4 worker processes in total. Our suggested max number of worker in current system is 2, which is smaller than what this DataLoader is going to create. Please be aware that excessive worker creation might get DataLoader running slow or even freeze, lower the worker number to avoid potential slowness/freeze if necessary.\n",
            "  cpuset_checked))\n"
          ]
        },
        {
          "output_type": "stream",
          "name": "stdout",
          "text": [
            "100%|██████████| 19/19 [00:01<00:00, 12.76it/s]\n",
            "> Eval on experience 3 (Task 0) from test stream ended.\n",
            "\tCPUUsage_Exp/eval_phase/test_stream/Task000/Exp003 = 40.8465\n",
            "\tDiskUsage_Exp/eval_phase/test_stream/Task000/Exp003 = 55532.3242\n",
            "\tMaxGPU0Usage_Experience/eval_phase/test_stream/Task000/Exp003 = 0\n",
            "\tMaxRAMUsage_Experience/eval_phase/test_stream/Task000/Exp003 = 3303.5078\n",
            "\tTime_Exp/eval_phase/test_stream/Task000/Exp003 = 1.3479\n",
            "\tTop1_Acc_Exp/eval_phase/test_stream/Task000/Exp003 = 0.5150\n",
            "-- Starting eval on experience 4 (Task 0) from test stream --\n"
          ]
        },
        {
          "output_type": "stream",
          "name": "stderr",
          "text": [
            "/usr/local/lib/python3.7/dist-packages/torch/utils/data/dataloader.py:481: UserWarning: This DataLoader will create 4 worker processes in total. Our suggested max number of worker in current system is 2, which is smaller than what this DataLoader is going to create. Please be aware that excessive worker creation might get DataLoader running slow or even freeze, lower the worker number to avoid potential slowness/freeze if necessary.\n",
            "  cpuset_checked))\n"
          ]
        },
        {
          "output_type": "stream",
          "name": "stdout",
          "text": [
            "100%|██████████| 20/20 [00:01<00:00, 15.52it/s]\n",
            "> Eval on experience 4 (Task 0) from test stream ended.\n",
            "\tCPUUsage_Exp/eval_phase/test_stream/Task000/Exp004 = 46.9711\n",
            "\tDiskUsage_Exp/eval_phase/test_stream/Task000/Exp004 = 55532.3242\n",
            "\tMaxGPU0Usage_Experience/eval_phase/test_stream/Task000/Exp004 = 0\n",
            "\tMaxRAMUsage_Experience/eval_phase/test_stream/Task000/Exp004 = 3303.5078\n",
            "\tTime_Exp/eval_phase/test_stream/Task000/Exp004 = 1.2154\n",
            "\tTop1_Acc_Exp/eval_phase/test_stream/Task000/Exp004 = 0.4058\n",
            "-- >> End of eval phase << --\n",
            "\tDiskUsage_Stream/eval_phase/test_stream/Task000 = 55532.3242\n",
            "\tMaxGPU0Usage_Stream/eval_phase/test_stream/Task000 = 0\n",
            "\tMaxRAMUsage_Stream/eval_phase/test_stream/Task000 = 3303.5156\n",
            "\tTop1_Acc_Stream/eval_phase/test_stream/Task000 = 0.5856\n",
            "Start of experience:  3\n",
            "Current Classes:  [0, 5]\n",
            "-- >> Start of training phase << --\n",
            "-- Starting training on experience 3 (Task 0) from train stream --\n"
          ]
        },
        {
          "output_type": "stream",
          "name": "stderr",
          "text": [
            "/usr/local/lib/python3.7/dist-packages/torch/utils/data/dataloader.py:481: UserWarning: This DataLoader will create 4 worker processes in total. Our suggested max number of worker in current system is 2, which is smaller than what this DataLoader is going to create. Please be aware that excessive worker creation might get DataLoader running slow or even freeze, lower the worker number to avoid potential slowness/freeze if necessary.\n",
            "  cpuset_checked))\n"
          ]
        },
        {
          "output_type": "stream",
          "name": "stdout",
          "text": [
            "100%|██████████| 23/23 [00:04<00:00,  4.76it/s]\n",
            "Epoch 0 ended.\n",
            "\tDiskUsage_Epoch/train_phase/train_stream/Task000 = 55532.3242\n",
            "\tMaxGPU0Usage_Epoch/train_phase/train_stream/Task000 = 0\n",
            "\tMaxRAMUsage_Epoch/train_phase/train_stream/Task000 = 3303.4922\n",
            "\tTime_Epoch/train_phase/train_stream/Task000 = 4.7584\n",
            "\tTop1_Acc_Epoch/train_phase/train_stream/Task000 = 0.7776\n",
            "-- >> End of training phase << --\n",
            "Training completed\n",
            "Computing accuracy on the whole test set\n",
            "-- >> Start of eval phase << --\n",
            "-- Starting eval on experience 0 (Task 0) from test stream --\n"
          ]
        },
        {
          "output_type": "stream",
          "name": "stderr",
          "text": [
            "/usr/local/lib/python3.7/dist-packages/torch/utils/data/dataloader.py:481: UserWarning: This DataLoader will create 4 worker processes in total. Our suggested max number of worker in current system is 2, which is smaller than what this DataLoader is going to create. Please be aware that excessive worker creation might get DataLoader running slow or even freeze, lower the worker number to avoid potential slowness/freeze if necessary.\n",
            "  cpuset_checked))\n"
          ]
        },
        {
          "output_type": "stream",
          "name": "stdout",
          "text": [
            "100%|██████████| 20/20 [00:01<00:00, 13.19it/s]\n",
            "> Eval on experience 0 (Task 0) from test stream ended.\n",
            "\tCPUUsage_Exp/eval_phase/test_stream/Task000/Exp000 = 45.7967\n",
            "\tDiskUsage_Exp/eval_phase/test_stream/Task000/Exp000 = 55532.3242\n",
            "\tMaxGPU0Usage_Experience/eval_phase/test_stream/Task000/Exp000 = 0\n",
            "\tMaxRAMUsage_Experience/eval_phase/test_stream/Task000/Exp000 = 3303.5000\n",
            "\tTime_Exp/eval_phase/test_stream/Task000/Exp000 = 1.3577\n",
            "\tTop1_Acc_Exp/eval_phase/test_stream/Task000/Exp000 = 0.1752\n",
            "-- Starting eval on experience 1 (Task 0) from test stream --\n"
          ]
        },
        {
          "output_type": "stream",
          "name": "stderr",
          "text": [
            "/usr/local/lib/python3.7/dist-packages/torch/utils/data/dataloader.py:481: UserWarning: This DataLoader will create 4 worker processes in total. Our suggested max number of worker in current system is 2, which is smaller than what this DataLoader is going to create. Please be aware that excessive worker creation might get DataLoader running slow or even freeze, lower the worker number to avoid potential slowness/freeze if necessary.\n",
            "  cpuset_checked))\n"
          ]
        },
        {
          "output_type": "stream",
          "name": "stdout",
          "text": [
            "100%|██████████| 22/22 [00:01<00:00, 13.87it/s]\n",
            "> Eval on experience 1 (Task 0) from test stream ended.\n",
            "\tCPUUsage_Exp/eval_phase/test_stream/Task000/Exp001 = 44.0542\n",
            "\tDiskUsage_Exp/eval_phase/test_stream/Task000/Exp001 = 55532.3242\n",
            "\tMaxGPU0Usage_Experience/eval_phase/test_stream/Task000/Exp001 = 0\n",
            "\tMaxRAMUsage_Experience/eval_phase/test_stream/Task000/Exp001 = 3303.5078\n",
            "\tTime_Exp/eval_phase/test_stream/Task000/Exp001 = 1.5269\n",
            "\tTop1_Acc_Exp/eval_phase/test_stream/Task000/Exp001 = 0.8136\n",
            "-- Starting eval on experience 2 (Task 0) from test stream --\n"
          ]
        },
        {
          "output_type": "stream",
          "name": "stderr",
          "text": [
            "/usr/local/lib/python3.7/dist-packages/torch/utils/data/dataloader.py:481: UserWarning: This DataLoader will create 4 worker processes in total. Our suggested max number of worker in current system is 2, which is smaller than what this DataLoader is going to create. Please be aware that excessive worker creation might get DataLoader running slow or even freeze, lower the worker number to avoid potential slowness/freeze if necessary.\n",
            "  cpuset_checked))\n"
          ]
        },
        {
          "output_type": "stream",
          "name": "stdout",
          "text": [
            "100%|██████████| 20/20 [00:01<00:00, 13.75it/s]\n",
            "> Eval on experience 2 (Task 0) from test stream ended.\n",
            "\tCPUUsage_Exp/eval_phase/test_stream/Task000/Exp002 = 45.4416\n",
            "\tDiskUsage_Exp/eval_phase/test_stream/Task000/Exp002 = 55532.3242\n",
            "\tMaxGPU0Usage_Experience/eval_phase/test_stream/Task000/Exp002 = 0\n",
            "\tMaxRAMUsage_Experience/eval_phase/test_stream/Task000/Exp002 = 3303.5078\n",
            "\tTime_Exp/eval_phase/test_stream/Task000/Exp002 = 1.3647\n",
            "\tTop1_Acc_Exp/eval_phase/test_stream/Task000/Exp002 = 0.6500\n",
            "-- Starting eval on experience 3 (Task 0) from test stream --\n"
          ]
        },
        {
          "output_type": "stream",
          "name": "stderr",
          "text": [
            "/usr/local/lib/python3.7/dist-packages/torch/utils/data/dataloader.py:481: UserWarning: This DataLoader will create 4 worker processes in total. Our suggested max number of worker in current system is 2, which is smaller than what this DataLoader is going to create. Please be aware that excessive worker creation might get DataLoader running slow or even freeze, lower the worker number to avoid potential slowness/freeze if necessary.\n",
            "  cpuset_checked))\n"
          ]
        },
        {
          "output_type": "stream",
          "name": "stdout",
          "text": [
            "100%|██████████| 19/19 [00:01<00:00, 16.04it/s]\n",
            "> Eval on experience 3 (Task 0) from test stream ended.\n",
            "\tCPUUsage_Exp/eval_phase/test_stream/Task000/Exp003 = 51.0200\n",
            "\tDiskUsage_Exp/eval_phase/test_stream/Task000/Exp003 = 55532.3242\n",
            "\tMaxGPU0Usage_Experience/eval_phase/test_stream/Task000/Exp003 = 0\n",
            "\tMaxRAMUsage_Experience/eval_phase/test_stream/Task000/Exp003 = 3303.4961\n",
            "\tTime_Exp/eval_phase/test_stream/Task000/Exp003 = 1.0976\n",
            "\tTop1_Acc_Exp/eval_phase/test_stream/Task000/Exp003 = 0.9631\n",
            "-- Starting eval on experience 4 (Task 0) from test stream --\n"
          ]
        },
        {
          "output_type": "stream",
          "name": "stderr",
          "text": [
            "/usr/local/lib/python3.7/dist-packages/torch/utils/data/dataloader.py:481: UserWarning: This DataLoader will create 4 worker processes in total. Our suggested max number of worker in current system is 2, which is smaller than what this DataLoader is going to create. Please be aware that excessive worker creation might get DataLoader running slow or even freeze, lower the worker number to avoid potential slowness/freeze if necessary.\n",
            "  cpuset_checked))\n"
          ]
        },
        {
          "output_type": "stream",
          "name": "stdout",
          "text": [
            "100%|██████████| 20/20 [00:01<00:00, 14.11it/s]\n",
            "> Eval on experience 4 (Task 0) from test stream ended.\n",
            "\tCPUUsage_Exp/eval_phase/test_stream/Task000/Exp004 = 46.8219\n",
            "\tDiskUsage_Exp/eval_phase/test_stream/Task000/Exp004 = 55532.3242\n",
            "\tMaxGPU0Usage_Experience/eval_phase/test_stream/Task000/Exp004 = 0\n",
            "\tMaxRAMUsage_Experience/eval_phase/test_stream/Task000/Exp004 = 3303.5117\n",
            "\tTime_Exp/eval_phase/test_stream/Task000/Exp004 = 1.2821\n",
            "\tTop1_Acc_Exp/eval_phase/test_stream/Task000/Exp004 = 0.5715\n",
            "-- >> End of eval phase << --\n",
            "\tDiskUsage_Stream/eval_phase/test_stream/Task000 = 55532.3242\n",
            "\tMaxGPU0Usage_Stream/eval_phase/test_stream/Task000 = 0\n",
            "\tMaxRAMUsage_Stream/eval_phase/test_stream/Task000 = 3303.5117\n",
            "\tTop1_Acc_Stream/eval_phase/test_stream/Task000 = 0.6339\n",
            "Start of experience:  4\n",
            "Current Classes:  [6, 7]\n",
            "-- >> Start of training phase << --\n",
            "-- Starting training on experience 4 (Task 0) from train stream --\n"
          ]
        },
        {
          "output_type": "stream",
          "name": "stderr",
          "text": [
            "/usr/local/lib/python3.7/dist-packages/torch/utils/data/dataloader.py:481: UserWarning: This DataLoader will create 4 worker processes in total. Our suggested max number of worker in current system is 2, which is smaller than what this DataLoader is going to create. Please be aware that excessive worker creation might get DataLoader running slow or even freeze, lower the worker number to avoid potential slowness/freeze if necessary.\n",
            "  cpuset_checked))\n"
          ]
        },
        {
          "output_type": "stream",
          "name": "stdout",
          "text": [
            "100%|██████████| 25/25 [00:04<00:00,  5.36it/s]\n",
            "Epoch 0 ended.\n",
            "\tDiskUsage_Epoch/train_phase/train_stream/Task000 = 55532.3242\n",
            "\tMaxGPU0Usage_Epoch/train_phase/train_stream/Task000 = 0\n",
            "\tMaxRAMUsage_Epoch/train_phase/train_stream/Task000 = 3303.5039\n",
            "\tTime_Epoch/train_phase/train_stream/Task000 = 4.5943\n",
            "\tTop1_Acc_Epoch/train_phase/train_stream/Task000 = 0.8359\n",
            "-- >> End of training phase << --\n",
            "Training completed\n",
            "Computing accuracy on the whole test set\n",
            "-- >> Start of eval phase << --\n",
            "-- Starting eval on experience 0 (Task 0) from test stream --\n"
          ]
        },
        {
          "output_type": "stream",
          "name": "stderr",
          "text": [
            "/usr/local/lib/python3.7/dist-packages/torch/utils/data/dataloader.py:481: UserWarning: This DataLoader will create 4 worker processes in total. Our suggested max number of worker in current system is 2, which is smaller than what this DataLoader is going to create. Please be aware that excessive worker creation might get DataLoader running slow or even freeze, lower the worker number to avoid potential slowness/freeze if necessary.\n",
            "  cpuset_checked))\n"
          ]
        },
        {
          "output_type": "stream",
          "name": "stdout",
          "text": [
            "100%|██████████| 20/20 [00:01<00:00, 15.92it/s]\n",
            "> Eval on experience 0 (Task 0) from test stream ended.\n",
            "\tCPUUsage_Exp/eval_phase/test_stream/Task000/Exp000 = 51.2168\n",
            "\tDiskUsage_Exp/eval_phase/test_stream/Task000/Exp000 = 55532.3242\n",
            "\tMaxGPU0Usage_Experience/eval_phase/test_stream/Task000/Exp000 = 0\n",
            "\tMaxRAMUsage_Experience/eval_phase/test_stream/Task000/Exp000 = 3303.5039\n",
            "\tTime_Exp/eval_phase/test_stream/Task000/Exp000 = 1.1787\n",
            "\tTop1_Acc_Exp/eval_phase/test_stream/Task000/Exp000 = 0.4207\n",
            "-- Starting eval on experience 1 (Task 0) from test stream --\n"
          ]
        },
        {
          "output_type": "stream",
          "name": "stderr",
          "text": [
            "/usr/local/lib/python3.7/dist-packages/torch/utils/data/dataloader.py:481: UserWarning: This DataLoader will create 4 worker processes in total. Our suggested max number of worker in current system is 2, which is smaller than what this DataLoader is going to create. Please be aware that excessive worker creation might get DataLoader running slow or even freeze, lower the worker number to avoid potential slowness/freeze if necessary.\n",
            "  cpuset_checked))\n"
          ]
        },
        {
          "output_type": "stream",
          "name": "stdout",
          "text": [
            "100%|██████████| 22/22 [00:01<00:00, 17.05it/s]\n",
            "> Eval on experience 1 (Task 0) from test stream ended.\n",
            "\tCPUUsage_Exp/eval_phase/test_stream/Task000/Exp001 = 49.8171\n",
            "\tDiskUsage_Exp/eval_phase/test_stream/Task000/Exp001 = 55532.3242\n",
            "\tMaxGPU0Usage_Experience/eval_phase/test_stream/Task000/Exp001 = 0\n",
            "\tMaxRAMUsage_Experience/eval_phase/test_stream/Task000/Exp001 = 3303.5117\n",
            "\tTime_Exp/eval_phase/test_stream/Task000/Exp001 = 1.2053\n",
            "\tTop1_Acc_Exp/eval_phase/test_stream/Task000/Exp001 = 0.7951\n",
            "-- Starting eval on experience 2 (Task 0) from test stream --\n"
          ]
        },
        {
          "output_type": "stream",
          "name": "stderr",
          "text": [
            "/usr/local/lib/python3.7/dist-packages/torch/utils/data/dataloader.py:481: UserWarning: This DataLoader will create 4 worker processes in total. Our suggested max number of worker in current system is 2, which is smaller than what this DataLoader is going to create. Please be aware that excessive worker creation might get DataLoader running slow or even freeze, lower the worker number to avoid potential slowness/freeze if necessary.\n",
            "  cpuset_checked))\n"
          ]
        },
        {
          "output_type": "stream",
          "name": "stdout",
          "text": [
            "100%|██████████| 20/20 [00:01<00:00, 16.13it/s]\n",
            "> Eval on experience 2 (Task 0) from test stream ended.\n",
            "\tCPUUsage_Exp/eval_phase/test_stream/Task000/Exp002 = 48.6075\n",
            "\tDiskUsage_Exp/eval_phase/test_stream/Task000/Exp002 = 55532.3242\n",
            "\tMaxGPU0Usage_Experience/eval_phase/test_stream/Task000/Exp002 = 0\n",
            "\tMaxRAMUsage_Experience/eval_phase/test_stream/Task000/Exp002 = 3303.5117\n",
            "\tTime_Exp/eval_phase/test_stream/Task000/Exp002 = 1.1731\n",
            "\tTop1_Acc_Exp/eval_phase/test_stream/Task000/Exp002 = 0.3313\n",
            "-- Starting eval on experience 3 (Task 0) from test stream --\n"
          ]
        },
        {
          "output_type": "stream",
          "name": "stderr",
          "text": [
            "/usr/local/lib/python3.7/dist-packages/torch/utils/data/dataloader.py:481: UserWarning: This DataLoader will create 4 worker processes in total. Our suggested max number of worker in current system is 2, which is smaller than what this DataLoader is going to create. Please be aware that excessive worker creation might get DataLoader running slow or even freeze, lower the worker number to avoid potential slowness/freeze if necessary.\n",
            "  cpuset_checked))\n"
          ]
        },
        {
          "output_type": "stream",
          "name": "stdout",
          "text": [
            "\r0it [00:00, ?it/s]"
          ]
        },
        {
          "output_type": "stream",
          "name": "stderr",
          "text": [
            "/usr/local/lib/python3.7/dist-packages/torch/utils/data/dataloader.py:481: UserWarning: This DataLoader will create 4 worker processes in total. Our suggested max number of worker in current system is 2, which is smaller than what this DataLoader is going to create. Please be aware that excessive worker creation might get DataLoader running slow or even freeze, lower the worker number to avoid potential slowness/freeze if necessary.\n",
            "  cpuset_checked))\n"
          ]
        },
        {
          "output_type": "stream",
          "name": "stdout",
          "text": [
            "100%|██████████| 19/19 [00:01<00:00, 15.96it/s]\n",
            "> Eval on experience 3 (Task 0) from test stream ended.\n",
            "\tCPUUsage_Exp/eval_phase/test_stream/Task000/Exp003 = 53.4714\n",
            "\tDiskUsage_Exp/eval_phase/test_stream/Task000/Exp003 = 55532.3242\n",
            "\tMaxGPU0Usage_Experience/eval_phase/test_stream/Task000/Exp003 = 0\n",
            "\tMaxRAMUsage_Experience/eval_phase/test_stream/Task000/Exp003 = 3303.5117\n",
            "\tTime_Exp/eval_phase/test_stream/Task000/Exp003 = 1.1789\n",
            "\tTop1_Acc_Exp/eval_phase/test_stream/Task000/Exp003 = 0.8691\n",
            "-- Starting eval on experience 4 (Task 0) from test stream --\n"
          ]
        },
        {
          "output_type": "stream",
          "name": "stderr",
          "text": [
            "/usr/local/lib/python3.7/dist-packages/torch/utils/data/dataloader.py:481: UserWarning: This DataLoader will create 4 worker processes in total. Our suggested max number of worker in current system is 2, which is smaller than what this DataLoader is going to create. Please be aware that excessive worker creation might get DataLoader running slow or even freeze, lower the worker number to avoid potential slowness/freeze if necessary.\n",
            "  cpuset_checked))\n"
          ]
        },
        {
          "output_type": "stream",
          "name": "stdout",
          "text": [
            "100%|██████████| 20/20 [00:01<00:00, 15.56it/s]\n",
            "> Eval on experience 4 (Task 0) from test stream ended.\n",
            "\tCPUUsage_Exp/eval_phase/test_stream/Task000/Exp004 = 50.1082\n",
            "\tDiskUsage_Exp/eval_phase/test_stream/Task000/Exp004 = 55532.3242\n",
            "\tMaxGPU0Usage_Experience/eval_phase/test_stream/Task000/Exp004 = 0\n",
            "\tMaxRAMUsage_Experience/eval_phase/test_stream/Task000/Exp004 = 3303.5117\n",
            "\tTime_Exp/eval_phase/test_stream/Task000/Exp004 = 1.1575\n",
            "\tTop1_Acc_Exp/eval_phase/test_stream/Task000/Exp004 = 0.9718\n",
            "-- >> End of eval phase << --\n",
            "\tDiskUsage_Stream/eval_phase/test_stream/Task000 = 55532.3242\n",
            "\tMaxGPU0Usage_Stream/eval_phase/test_stream/Task000 = 0\n",
            "\tMaxRAMUsage_Stream/eval_phase/test_stream/Task000 = 3303.5117\n",
            "\tTop1_Acc_Stream/eval_phase/test_stream/Task000 = 0.6775\n"
          ]
        }
      ]
    },
    {
      "cell_type": "code",
      "source": [
        "results_naive"
      ],
      "metadata": {
        "colab": {
          "base_uri": "https://localhost:8080/"
        },
        "id": "H2RpwOE7u3Et",
        "outputId": "3ac9c0f7-3a02-44ab-82e5-c5afab1c69a5"
      },
      "execution_count": 19,
      "outputs": [
        {
          "output_type": "execute_result",
          "data": {
            "text/plain": [
              "[{'CPUUsage_Exp/eval_phase/test_stream/Task000/Exp000': 31.150012594375376,\n",
              "  'CPUUsage_Exp/eval_phase/test_stream/Task000/Exp001': 33.2660874295872,\n",
              "  'CPUUsage_Exp/eval_phase/test_stream/Task000/Exp002': 28.26802677832152,\n",
              "  'CPUUsage_Exp/eval_phase/test_stream/Task000/Exp003': 30.617605629535742,\n",
              "  'CPUUsage_Exp/eval_phase/test_stream/Task000/Exp004': 31.848632214796762,\n",
              "  'DiskUsage_Epoch/train_phase/train_stream/Task000': 55532.32421875,\n",
              "  'DiskUsage_Exp/eval_phase/test_stream/Task000/Exp000': 55532.32421875,\n",
              "  'DiskUsage_Exp/eval_phase/test_stream/Task000/Exp001': 55532.32421875,\n",
              "  'DiskUsage_Exp/eval_phase/test_stream/Task000/Exp002': 55532.32421875,\n",
              "  'DiskUsage_Exp/eval_phase/test_stream/Task000/Exp003': 55532.32421875,\n",
              "  'DiskUsage_Exp/eval_phase/test_stream/Task000/Exp004': 55532.32421875,\n",
              "  'DiskUsage_Stream/eval_phase/test_stream/Task000': 55532.32421875,\n",
              "  'MaxGPU0Usage_Epoch/train_phase/train_stream/Task000': 0,\n",
              "  'MaxGPU0Usage_Experience/eval_phase/test_stream/Task000/Exp000': 0,\n",
              "  'MaxGPU0Usage_Experience/eval_phase/test_stream/Task000/Exp001': 0,\n",
              "  'MaxGPU0Usage_Experience/eval_phase/test_stream/Task000/Exp002': 0,\n",
              "  'MaxGPU0Usage_Experience/eval_phase/test_stream/Task000/Exp003': 0,\n",
              "  'MaxGPU0Usage_Experience/eval_phase/test_stream/Task000/Exp004': 0,\n",
              "  'MaxGPU0Usage_Stream/eval_phase/test_stream/Task000': 0,\n",
              "  'MaxRAMUsage_Epoch/train_phase/train_stream/Task000': 3303.4921875,\n",
              "  'MaxRAMUsage_Experience/eval_phase/test_stream/Task000/Exp000': 3303.49609375,\n",
              "  'MaxRAMUsage_Experience/eval_phase/test_stream/Task000/Exp001': 3303.51171875,\n",
              "  'MaxRAMUsage_Experience/eval_phase/test_stream/Task000/Exp002': 3303.51171875,\n",
              "  'MaxRAMUsage_Experience/eval_phase/test_stream/Task000/Exp003': 3303.50390625,\n",
              "  'MaxRAMUsage_Experience/eval_phase/test_stream/Task000/Exp004': 3303.51171875,\n",
              "  'MaxRAMUsage_Stream/eval_phase/test_stream/Task000': 3303.51171875,\n",
              "  'Time_Epoch/train_phase/train_stream/Task000': 5.253034994000018,\n",
              "  'Time_Exp/eval_phase/test_stream/Task000/Exp000': 2.2150863120000395,\n",
              "  'Time_Exp/eval_phase/test_stream/Task000/Exp001': 2.2553852869998536,\n",
              "  'Time_Exp/eval_phase/test_stream/Task000/Exp002': 2.2291689809999298,\n",
              "  'Time_Exp/eval_phase/test_stream/Task000/Exp003': 1.9930093000000397,\n",
              "  'Time_Exp/eval_phase/test_stream/Task000/Exp004': 2.328666482000017,\n",
              "  'Top1_Acc_Epoch/train_phase/train_stream/Task000': 0.7836799465463961,\n",
              "  'Top1_Acc_Exp/eval_phase/test_stream/Task000/Exp000': 0.9864457831325302,\n",
              "  'Top1_Acc_Exp/eval_phase/test_stream/Task000/Exp001': 0.7720350715274573,\n",
              "  'Top1_Acc_Exp/eval_phase/test_stream/Task000/Exp002': 0.11497730711043873,\n",
              "  'Top1_Acc_Exp/eval_phase/test_stream/Task000/Exp003': 0.5395299145299145,\n",
              "  'Top1_Acc_Exp/eval_phase/test_stream/Task000/Exp004': 0.8016112789526687,\n",
              "  'Top1_Acc_Stream/eval_phase/test_stream/Task000': 0.6468},\n",
              " {'CPUUsage_Exp/eval_phase/test_stream/Task000/Exp000': 51.34911044910047,\n",
              "  'CPUUsage_Exp/eval_phase/test_stream/Task000/Exp001': 38.70236439614591,\n",
              "  'CPUUsage_Exp/eval_phase/test_stream/Task000/Exp002': 39.99286616469456,\n",
              "  'CPUUsage_Exp/eval_phase/test_stream/Task000/Exp003': 44.40818414449076,\n",
              "  'CPUUsage_Exp/eval_phase/test_stream/Task000/Exp004': 37.66665916696974,\n",
              "  'DiskUsage_Epoch/train_phase/train_stream/Task000': 55532.32421875,\n",
              "  'DiskUsage_Exp/eval_phase/test_stream/Task000/Exp000': 55532.32421875,\n",
              "  'DiskUsage_Exp/eval_phase/test_stream/Task000/Exp001': 55532.32421875,\n",
              "  'DiskUsage_Exp/eval_phase/test_stream/Task000/Exp002': 55532.32421875,\n",
              "  'DiskUsage_Exp/eval_phase/test_stream/Task000/Exp003': 55532.32421875,\n",
              "  'DiskUsage_Exp/eval_phase/test_stream/Task000/Exp004': 55532.32421875,\n",
              "  'DiskUsage_Stream/eval_phase/test_stream/Task000': 55532.32421875,\n",
              "  'MaxGPU0Usage_Epoch/train_phase/train_stream/Task000': 0,\n",
              "  'MaxGPU0Usage_Experience/eval_phase/test_stream/Task000/Exp000': 0,\n",
              "  'MaxGPU0Usage_Experience/eval_phase/test_stream/Task000/Exp001': 0,\n",
              "  'MaxGPU0Usage_Experience/eval_phase/test_stream/Task000/Exp002': 0,\n",
              "  'MaxGPU0Usage_Experience/eval_phase/test_stream/Task000/Exp003': 0,\n",
              "  'MaxGPU0Usage_Experience/eval_phase/test_stream/Task000/Exp004': 0,\n",
              "  'MaxGPU0Usage_Stream/eval_phase/test_stream/Task000': 0,\n",
              "  'MaxRAMUsage_Epoch/train_phase/train_stream/Task000': 3303.49609375,\n",
              "  'MaxRAMUsage_Experience/eval_phase/test_stream/Task000/Exp000': 3303.49609375,\n",
              "  'MaxRAMUsage_Experience/eval_phase/test_stream/Task000/Exp001': 3303.5078125,\n",
              "  'MaxRAMUsage_Experience/eval_phase/test_stream/Task000/Exp002': 3303.515625,\n",
              "  'MaxRAMUsage_Experience/eval_phase/test_stream/Task000/Exp003': 3303.5078125,\n",
              "  'MaxRAMUsage_Experience/eval_phase/test_stream/Task000/Exp004': 3303.50390625,\n",
              "  'MaxRAMUsage_Stream/eval_phase/test_stream/Task000': 3303.515625,\n",
              "  'Time_Epoch/train_phase/train_stream/Task000': 7.431943308999962,\n",
              "  'Time_Exp/eval_phase/test_stream/Task000/Exp000': 1.208123568000019,\n",
              "  'Time_Exp/eval_phase/test_stream/Task000/Exp001': 1.577150094999979,\n",
              "  'Time_Exp/eval_phase/test_stream/Task000/Exp002': 1.5748494490001121,\n",
              "  'Time_Exp/eval_phase/test_stream/Task000/Exp003': 1.4179775929999323,\n",
              "  'Time_Exp/eval_phase/test_stream/Task000/Exp004': 1.676949377000028,\n",
              "  'Top1_Acc_Epoch/train_phase/train_stream/Task000': 0.8864566929133858,\n",
              "  'Top1_Acc_Exp/eval_phase/test_stream/Task000/Exp000': 0.9021084337349398,\n",
              "  'Top1_Acc_Exp/eval_phase/test_stream/Task000/Exp001': 0.9672358098754038,\n",
              "  'Top1_Acc_Exp/eval_phase/test_stream/Task000/Exp002': 0.14775592536560767,\n",
              "  'Top1_Acc_Exp/eval_phase/test_stream/Task000/Exp003': 0.5673076923076923,\n",
              "  'Top1_Acc_Exp/eval_phase/test_stream/Task000/Exp004': 0.7139979859013091,\n",
              "  'Top1_Acc_Stream/eval_phase/test_stream/Task000': 0.6666},\n",
              " {'CPUUsage_Exp/eval_phase/test_stream/Task000/Exp000': 48.84202660412816,\n",
              "  'CPUUsage_Exp/eval_phase/test_stream/Task000/Exp001': 53.71510680153564,\n",
              "  'CPUUsage_Exp/eval_phase/test_stream/Task000/Exp002': 50.4752134181289,\n",
              "  'CPUUsage_Exp/eval_phase/test_stream/Task000/Exp003': 40.84652040648451,\n",
              "  'CPUUsage_Exp/eval_phase/test_stream/Task000/Exp004': 46.971110643814264,\n",
              "  'DiskUsage_Epoch/train_phase/train_stream/Task000': 55532.32421875,\n",
              "  'DiskUsage_Exp/eval_phase/test_stream/Task000/Exp000': 55532.32421875,\n",
              "  'DiskUsage_Exp/eval_phase/test_stream/Task000/Exp001': 55532.32421875,\n",
              "  'DiskUsage_Exp/eval_phase/test_stream/Task000/Exp002': 55532.32421875,\n",
              "  'DiskUsage_Exp/eval_phase/test_stream/Task000/Exp003': 55532.32421875,\n",
              "  'DiskUsage_Exp/eval_phase/test_stream/Task000/Exp004': 55532.32421875,\n",
              "  'DiskUsage_Stream/eval_phase/test_stream/Task000': 55532.32421875,\n",
              "  'MaxGPU0Usage_Epoch/train_phase/train_stream/Task000': 0,\n",
              "  'MaxGPU0Usage_Experience/eval_phase/test_stream/Task000/Exp000': 0,\n",
              "  'MaxGPU0Usage_Experience/eval_phase/test_stream/Task000/Exp001': 0,\n",
              "  'MaxGPU0Usage_Experience/eval_phase/test_stream/Task000/Exp002': 0,\n",
              "  'MaxGPU0Usage_Experience/eval_phase/test_stream/Task000/Exp003': 0,\n",
              "  'MaxGPU0Usage_Experience/eval_phase/test_stream/Task000/Exp004': 0,\n",
              "  'MaxGPU0Usage_Stream/eval_phase/test_stream/Task000': 0,\n",
              "  'MaxRAMUsage_Epoch/train_phase/train_stream/Task000': 3303.49609375,\n",
              "  'MaxRAMUsage_Experience/eval_phase/test_stream/Task000/Exp000': 3303.49609375,\n",
              "  'MaxRAMUsage_Experience/eval_phase/test_stream/Task000/Exp001': 3303.515625,\n",
              "  'MaxRAMUsage_Experience/eval_phase/test_stream/Task000/Exp002': 3303.515625,\n",
              "  'MaxRAMUsage_Experience/eval_phase/test_stream/Task000/Exp003': 3303.5078125,\n",
              "  'MaxRAMUsage_Experience/eval_phase/test_stream/Task000/Exp004': 3303.5078125,\n",
              "  'MaxRAMUsage_Stream/eval_phase/test_stream/Task000': 3303.515625,\n",
              "  'Time_Epoch/train_phase/train_stream/Task000': 4.44675600000005,\n",
              "  'Time_Exp/eval_phase/test_stream/Task000/Exp000': 1.1273307059998388,\n",
              "  'Time_Exp/eval_phase/test_stream/Task000/Exp001': 1.30431681999994,\n",
              "  'Time_Exp/eval_phase/test_stream/Task000/Exp002': 1.1891037520001646,\n",
              "  'Time_Exp/eval_phase/test_stream/Task000/Exp003': 1.347894322000002,\n",
              "  'Time_Exp/eval_phase/test_stream/Task000/Exp004': 1.21541090300002,\n",
              "  'Top1_Acc_Epoch/train_phase/train_stream/Task000': 0.6834745762711865,\n",
              "  'Top1_Acc_Exp/eval_phase/test_stream/Task000/Exp000': 0.3032128514056225,\n",
              "  'Top1_Acc_Exp/eval_phase/test_stream/Task000/Exp001': 0.7369635440701431,\n",
              "  'Top1_Acc_Exp/eval_phase/test_stream/Task000/Exp002': 0.9505799293998991,\n",
              "  'Top1_Acc_Exp/eval_phase/test_stream/Task000/Exp003': 0.5149572649572649,\n",
              "  'Top1_Acc_Exp/eval_phase/test_stream/Task000/Exp004': 0.40584088620342396,\n",
              "  'Top1_Acc_Stream/eval_phase/test_stream/Task000': 0.5856},\n",
              " {'CPUUsage_Exp/eval_phase/test_stream/Task000/Exp000': 45.796714193481066,\n",
              "  'CPUUsage_Exp/eval_phase/test_stream/Task000/Exp001': 44.05417900423976,\n",
              "  'CPUUsage_Exp/eval_phase/test_stream/Task000/Exp002': 45.44163442613822,\n",
              "  'CPUUsage_Exp/eval_phase/test_stream/Task000/Exp003': 51.01996646894144,\n",
              "  'CPUUsage_Exp/eval_phase/test_stream/Task000/Exp004': 46.821892681347244,\n",
              "  'DiskUsage_Epoch/train_phase/train_stream/Task000': 55532.32421875,\n",
              "  'DiskUsage_Exp/eval_phase/test_stream/Task000/Exp000': 55532.32421875,\n",
              "  'DiskUsage_Exp/eval_phase/test_stream/Task000/Exp001': 55532.32421875,\n",
              "  'DiskUsage_Exp/eval_phase/test_stream/Task000/Exp002': 55532.32421875,\n",
              "  'DiskUsage_Exp/eval_phase/test_stream/Task000/Exp003': 55532.32421875,\n",
              "  'DiskUsage_Exp/eval_phase/test_stream/Task000/Exp004': 55532.32421875,\n",
              "  'DiskUsage_Stream/eval_phase/test_stream/Task000': 55532.32421875,\n",
              "  'MaxGPU0Usage_Epoch/train_phase/train_stream/Task000': 0,\n",
              "  'MaxGPU0Usage_Experience/eval_phase/test_stream/Task000/Exp000': 0,\n",
              "  'MaxGPU0Usage_Experience/eval_phase/test_stream/Task000/Exp001': 0,\n",
              "  'MaxGPU0Usage_Experience/eval_phase/test_stream/Task000/Exp002': 0,\n",
              "  'MaxGPU0Usage_Experience/eval_phase/test_stream/Task000/Exp003': 0,\n",
              "  'MaxGPU0Usage_Experience/eval_phase/test_stream/Task000/Exp004': 0,\n",
              "  'MaxGPU0Usage_Stream/eval_phase/test_stream/Task000': 0,\n",
              "  'MaxRAMUsage_Epoch/train_phase/train_stream/Task000': 3303.4921875,\n",
              "  'MaxRAMUsage_Experience/eval_phase/test_stream/Task000/Exp000': 3303.5,\n",
              "  'MaxRAMUsage_Experience/eval_phase/test_stream/Task000/Exp001': 3303.5078125,\n",
              "  'MaxRAMUsage_Experience/eval_phase/test_stream/Task000/Exp002': 3303.5078125,\n",
              "  'MaxRAMUsage_Experience/eval_phase/test_stream/Task000/Exp003': 3303.49609375,\n",
              "  'MaxRAMUsage_Experience/eval_phase/test_stream/Task000/Exp004': 3303.51171875,\n",
              "  'MaxRAMUsage_Stream/eval_phase/test_stream/Task000': 3303.51171875,\n",
              "  'Time_Epoch/train_phase/train_stream/Task000': 4.75839825800017,\n",
              "  'Time_Exp/eval_phase/test_stream/Task000/Exp000': 1.357677522999893,\n",
              "  'Time_Exp/eval_phase/test_stream/Task000/Exp001': 1.526855372,\n",
              "  'Time_Exp/eval_phase/test_stream/Task000/Exp002': 1.3646820649998972,\n",
              "  'Time_Exp/eval_phase/test_stream/Task000/Exp003': 1.0975917890000346,\n",
              "  'Time_Exp/eval_phase/test_stream/Task000/Exp004': 1.2820552789999056,\n",
              "  'Top1_Acc_Epoch/train_phase/train_stream/Task000': 0.7775916784203103,\n",
              "  'Top1_Acc_Exp/eval_phase/test_stream/Task000/Exp000': 0.17520080321285142,\n",
              "  'Top1_Acc_Exp/eval_phase/test_stream/Task000/Exp001': 0.813567143516382,\n",
              "  'Top1_Acc_Exp/eval_phase/test_stream/Task000/Exp002': 0.6500252143217348,\n",
              "  'Top1_Acc_Exp/eval_phase/test_stream/Task000/Exp003': 0.9631410256410257,\n",
              "  'Top1_Acc_Exp/eval_phase/test_stream/Task000/Exp004': 0.5715005035246727,\n",
              "  'Top1_Acc_Stream/eval_phase/test_stream/Task000': 0.6339},\n",
              " {'CPUUsage_Exp/eval_phase/test_stream/Task000/Exp000': 51.21676821032742,\n",
              "  'CPUUsage_Exp/eval_phase/test_stream/Task000/Exp001': 49.81713436773532,\n",
              "  'CPUUsage_Exp/eval_phase/test_stream/Task000/Exp002': 48.60749133235239,\n",
              "  'CPUUsage_Exp/eval_phase/test_stream/Task000/Exp003': 53.47141446498837,\n",
              "  'CPUUsage_Exp/eval_phase/test_stream/Task000/Exp004': 50.10823503327074,\n",
              "  'DiskUsage_Epoch/train_phase/train_stream/Task000': 55532.32421875,\n",
              "  'DiskUsage_Exp/eval_phase/test_stream/Task000/Exp000': 55532.32421875,\n",
              "  'DiskUsage_Exp/eval_phase/test_stream/Task000/Exp001': 55532.32421875,\n",
              "  'DiskUsage_Exp/eval_phase/test_stream/Task000/Exp002': 55532.32421875,\n",
              "  'DiskUsage_Exp/eval_phase/test_stream/Task000/Exp003': 55532.32421875,\n",
              "  'DiskUsage_Exp/eval_phase/test_stream/Task000/Exp004': 55532.32421875,\n",
              "  'DiskUsage_Stream/eval_phase/test_stream/Task000': 55532.32421875,\n",
              "  'MaxGPU0Usage_Epoch/train_phase/train_stream/Task000': 0,\n",
              "  'MaxGPU0Usage_Experience/eval_phase/test_stream/Task000/Exp000': 0,\n",
              "  'MaxGPU0Usage_Experience/eval_phase/test_stream/Task000/Exp001': 0,\n",
              "  'MaxGPU0Usage_Experience/eval_phase/test_stream/Task000/Exp002': 0,\n",
              "  'MaxGPU0Usage_Experience/eval_phase/test_stream/Task000/Exp003': 0,\n",
              "  'MaxGPU0Usage_Experience/eval_phase/test_stream/Task000/Exp004': 0,\n",
              "  'MaxGPU0Usage_Stream/eval_phase/test_stream/Task000': 0,\n",
              "  'MaxRAMUsage_Epoch/train_phase/train_stream/Task000': 3303.50390625,\n",
              "  'MaxRAMUsage_Experience/eval_phase/test_stream/Task000/Exp000': 3303.50390625,\n",
              "  'MaxRAMUsage_Experience/eval_phase/test_stream/Task000/Exp001': 3303.51171875,\n",
              "  'MaxRAMUsage_Experience/eval_phase/test_stream/Task000/Exp002': 3303.51171875,\n",
              "  'MaxRAMUsage_Experience/eval_phase/test_stream/Task000/Exp003': 3303.51171875,\n",
              "  'MaxRAMUsage_Experience/eval_phase/test_stream/Task000/Exp004': 3303.51171875,\n",
              "  'MaxRAMUsage_Stream/eval_phase/test_stream/Task000': 3303.51171875,\n",
              "  'Time_Epoch/train_phase/train_stream/Task000': 4.594344451999859,\n",
              "  'Time_Exp/eval_phase/test_stream/Task000/Exp000': 1.1787215460001335,\n",
              "  'Time_Exp/eval_phase/test_stream/Task000/Exp001': 1.2053310300000248,\n",
              "  'Time_Exp/eval_phase/test_stream/Task000/Exp002': 1.1731075000000146,\n",
              "  'Time_Exp/eval_phase/test_stream/Task000/Exp003': 1.1788627749999705,\n",
              "  'Time_Exp/eval_phase/test_stream/Task000/Exp004': 1.157513407000124,\n",
              "  'Top1_Acc_Epoch/train_phase/train_stream/Task000': 0.8359189033899697,\n",
              "  'Top1_Acc_Exp/eval_phase/test_stream/Task000/Exp000': 0.4206827309236948,\n",
              "  'Top1_Acc_Exp/eval_phase/test_stream/Task000/Exp001': 0.7951084448546377,\n",
              "  'Top1_Acc_Exp/eval_phase/test_stream/Task000/Exp002': 0.3313161875945537,\n",
              "  'Top1_Acc_Exp/eval_phase/test_stream/Task000/Exp003': 0.8691239316239316,\n",
              "  'Top1_Acc_Exp/eval_phase/test_stream/Task000/Exp004': 0.9718026183282981,\n",
              "  'Top1_Acc_Stream/eval_phase/test_stream/Task000': 0.6775}]"
            ]
          },
          "metadata": {},
          "execution_count": 19
        }
      ]
    },
    {
      "cell_type": "markdown",
      "source": [
        "## Cumulative"
      ],
      "metadata": {
        "id": "b5h80JPHlrfZ"
      }
    },
    {
      "cell_type": "code",
      "source": [
        "# CREATE THE STRATEGY INSTANCE (NAIVE)\n",
        "cum_strategy= Cumulative(\n",
        "    model, SGD(model.parameters(), lr=0.001, momentum=0.9),\n",
        "    CrossEntropyLoss(), train_mb_size=500, train_epochs=1, eval_mb_size=100,\n",
        "    evaluator=eval_plugin)\n",
        "\n",
        "# TRAINING LOOP\n",
        "print('Starting experiment...')\n",
        "results_cum = []\n",
        "for experience in scenario.train_stream:\n",
        "    print(\"Start of experience: \", experience.current_experience)\n",
        "    print(\"Current Classes: \", experience.classes_in_this_experience)\n",
        "\n",
        "    # train returns a dictionary which contains all the metric values\n",
        "    res = cum_strategy.train(experience, num_workers=4)\n",
        "    print('Training completed')\n",
        "\n",
        "    print('Computing accuracy on the whole test set')\n",
        "    # eval also returns a dictionary which contains all the metric values\n",
        "    results_cum.append(cum_strategy.eval(scenario.test_stream, num_workers=4))"
      ],
      "metadata": {
        "colab": {
          "base_uri": "https://localhost:8080/"
        },
        "id": "47d-apbqltox",
        "outputId": "4f5f3aaa-d176-4aaf-a022-d653624228e4"
      },
      "execution_count": 20,
      "outputs": [
        {
          "output_type": "stream",
          "name": "stdout",
          "text": [
            "Starting experiment...\n",
            "Start of experience:  0\n",
            "Current Classes:  [3, 4]\n",
            "-- >> Start of training phase << --\n",
            "-- Starting training on experience 0 (Task 0) from train stream --\n"
          ]
        },
        {
          "output_type": "stream",
          "name": "stderr",
          "text": [
            "/usr/local/lib/python3.7/dist-packages/torch/utils/data/dataloader.py:481: UserWarning: This DataLoader will create 4 worker processes in total. Our suggested max number of worker in current system is 2, which is smaller than what this DataLoader is going to create. Please be aware that excessive worker creation might get DataLoader running slow or even freeze, lower the worker number to avoid potential slowness/freeze if necessary.\n",
            "  cpuset_checked))\n"
          ]
        },
        {
          "output_type": "stream",
          "name": "stdout",
          "text": [
            "100%|██████████| 24/24 [00:04<00:00,  5.27it/s]\n",
            "Epoch 0 ended.\n",
            "\tDiskUsage_Epoch/train_phase/train_stream/Task000 = 55532.3242\n",
            "\tMaxGPU0Usage_Epoch/train_phase/train_stream/Task000 = 0\n",
            "\tMaxRAMUsage_Epoch/train_phase/train_stream/Task000 = 3303.4961\n",
            "\tTime_Epoch/train_phase/train_stream/Task000 = 4.4854\n",
            "\tTop1_Acc_Epoch/train_phase/train_stream/Task000 = 0.7917\n",
            "-- >> End of training phase << --\n",
            "Training completed\n",
            "Computing accuracy on the whole test set\n",
            "-- >> Start of eval phase << --\n",
            "-- Starting eval on experience 0 (Task 0) from test stream --\n"
          ]
        },
        {
          "output_type": "stream",
          "name": "stderr",
          "text": [
            "/usr/local/lib/python3.7/dist-packages/torch/utils/data/dataloader.py:481: UserWarning: This DataLoader will create 4 worker processes in total. Our suggested max number of worker in current system is 2, which is smaller than what this DataLoader is going to create. Please be aware that excessive worker creation might get DataLoader running slow or even freeze, lower the worker number to avoid potential slowness/freeze if necessary.\n",
            "  cpuset_checked))\n"
          ]
        },
        {
          "output_type": "stream",
          "name": "stdout",
          "text": [
            "\r0it [00:00, ?it/s]"
          ]
        },
        {
          "output_type": "stream",
          "name": "stderr",
          "text": [
            "/usr/local/lib/python3.7/dist-packages/torch/utils/data/dataloader.py:481: UserWarning: This DataLoader will create 4 worker processes in total. Our suggested max number of worker in current system is 2, which is smaller than what this DataLoader is going to create. Please be aware that excessive worker creation might get DataLoader running slow or even freeze, lower the worker number to avoid potential slowness/freeze if necessary.\n",
            "  cpuset_checked))\n"
          ]
        },
        {
          "output_type": "stream",
          "name": "stdout",
          "text": [
            "100%|██████████| 20/20 [00:01<00:00, 16.31it/s]\n",
            "> Eval on experience 0 (Task 0) from test stream ended.\n",
            "\tCPUUsage_Exp/eval_phase/test_stream/Task000/Exp000 = 53.5210\n",
            "\tDiskUsage_Exp/eval_phase/test_stream/Task000/Exp000 = 55532.3242\n",
            "\tMaxGPU0Usage_Experience/eval_phase/test_stream/Task000/Exp000 = 0\n",
            "\tMaxRAMUsage_Experience/eval_phase/test_stream/Task000/Exp000 = 3303.5039\n",
            "\tTime_Exp/eval_phase/test_stream/Task000/Exp000 = 1.1967\n",
            "\tTop1_Acc_Exp/eval_phase/test_stream/Task000/Exp000 = 0.9799\n",
            "-- Starting eval on experience 1 (Task 0) from test stream --\n"
          ]
        },
        {
          "output_type": "stream",
          "name": "stderr",
          "text": [
            "/usr/local/lib/python3.7/dist-packages/torch/utils/data/dataloader.py:481: UserWarning: This DataLoader will create 4 worker processes in total. Our suggested max number of worker in current system is 2, which is smaller than what this DataLoader is going to create. Please be aware that excessive worker creation might get DataLoader running slow or even freeze, lower the worker number to avoid potential slowness/freeze if necessary.\n",
            "  cpuset_checked))\n"
          ]
        },
        {
          "output_type": "stream",
          "name": "stdout",
          "text": [
            "100%|██████████| 22/22 [00:01<00:00, 16.34it/s]\n",
            "> Eval on experience 1 (Task 0) from test stream ended.\n",
            "\tCPUUsage_Exp/eval_phase/test_stream/Task000/Exp001 = 55.2417\n",
            "\tDiskUsage_Exp/eval_phase/test_stream/Task000/Exp001 = 55532.3242\n",
            "\tMaxGPU0Usage_Experience/eval_phase/test_stream/Task000/Exp001 = 0\n",
            "\tMaxRAMUsage_Experience/eval_phase/test_stream/Task000/Exp001 = 3303.5234\n",
            "\tTime_Exp/eval_phase/test_stream/Task000/Exp001 = 1.2499\n",
            "\tTop1_Acc_Exp/eval_phase/test_stream/Task000/Exp001 = 0.7946\n",
            "-- Starting eval on experience 2 (Task 0) from test stream --\n"
          ]
        },
        {
          "output_type": "stream",
          "name": "stderr",
          "text": [
            "/usr/local/lib/python3.7/dist-packages/torch/utils/data/dataloader.py:481: UserWarning: This DataLoader will create 4 worker processes in total. Our suggested max number of worker in current system is 2, which is smaller than what this DataLoader is going to create. Please be aware that excessive worker creation might get DataLoader running slow or even freeze, lower the worker number to avoid potential slowness/freeze if necessary.\n",
            "  cpuset_checked))\n"
          ]
        },
        {
          "output_type": "stream",
          "name": "stdout",
          "text": [
            "100%|██████████| 20/20 [00:01<00:00, 16.85it/s]\n",
            "> Eval on experience 2 (Task 0) from test stream ended.\n",
            "\tCPUUsage_Exp/eval_phase/test_stream/Task000/Exp002 = 50.0781\n",
            "\tDiskUsage_Exp/eval_phase/test_stream/Task000/Exp002 = 55532.3242\n",
            "\tMaxGPU0Usage_Experience/eval_phase/test_stream/Task000/Exp002 = 0\n",
            "\tMaxRAMUsage_Experience/eval_phase/test_stream/Task000/Exp002 = 3303.4961\n",
            "\tTime_Exp/eval_phase/test_stream/Task000/Exp002 = 1.1211\n",
            "\tTop1_Acc_Exp/eval_phase/test_stream/Task000/Exp002 = 0.1826\n",
            "-- Starting eval on experience 3 (Task 0) from test stream --\n"
          ]
        },
        {
          "output_type": "stream",
          "name": "stderr",
          "text": [
            "/usr/local/lib/python3.7/dist-packages/torch/utils/data/dataloader.py:481: UserWarning: This DataLoader will create 4 worker processes in total. Our suggested max number of worker in current system is 2, which is smaller than what this DataLoader is going to create. Please be aware that excessive worker creation might get DataLoader running slow or even freeze, lower the worker number to avoid potential slowness/freeze if necessary.\n",
            "  cpuset_checked))\n"
          ]
        },
        {
          "output_type": "stream",
          "name": "stdout",
          "text": [
            "100%|██████████| 19/19 [00:01<00:00, 15.57it/s]\n",
            "> Eval on experience 3 (Task 0) from test stream ended.\n",
            "\tCPUUsage_Exp/eval_phase/test_stream/Task000/Exp003 = 56.9443\n",
            "\tDiskUsage_Exp/eval_phase/test_stream/Task000/Exp003 = 55532.3242\n",
            "\tMaxGPU0Usage_Experience/eval_phase/test_stream/Task000/Exp003 = 0\n",
            "\tMaxRAMUsage_Experience/eval_phase/test_stream/Task000/Exp003 = 3303.5156\n",
            "\tTime_Exp/eval_phase/test_stream/Task000/Exp003 = 1.1445\n",
            "\tTop1_Acc_Exp/eval_phase/test_stream/Task000/Exp003 = 0.5956\n",
            "-- Starting eval on experience 4 (Task 0) from test stream --\n"
          ]
        },
        {
          "output_type": "stream",
          "name": "stderr",
          "text": [
            "/usr/local/lib/python3.7/dist-packages/torch/utils/data/dataloader.py:481: UserWarning: This DataLoader will create 4 worker processes in total. Our suggested max number of worker in current system is 2, which is smaller than what this DataLoader is going to create. Please be aware that excessive worker creation might get DataLoader running slow or even freeze, lower the worker number to avoid potential slowness/freeze if necessary.\n",
            "  cpuset_checked))\n"
          ]
        },
        {
          "output_type": "stream",
          "name": "stdout",
          "text": [
            "100%|██████████| 20/20 [00:01<00:00, 17.37it/s]\n",
            "> Eval on experience 4 (Task 0) from test stream ended.\n",
            "\tCPUUsage_Exp/eval_phase/test_stream/Task000/Exp004 = 50.9330\n",
            "\tDiskUsage_Exp/eval_phase/test_stream/Task000/Exp004 = 55532.3242\n",
            "\tMaxGPU0Usage_Experience/eval_phase/test_stream/Task000/Exp004 = 0\n",
            "\tMaxRAMUsage_Experience/eval_phase/test_stream/Task000/Exp004 = 3303.5156\n",
            "\tTime_Exp/eval_phase/test_stream/Task000/Exp004 = 1.0797\n",
            "\tTop1_Acc_Exp/eval_phase/test_stream/Task000/Exp004 = 0.8958\n",
            "-- >> End of eval phase << --\n",
            "\tDiskUsage_Stream/eval_phase/test_stream/Task000 = 55532.3242\n",
            "\tMaxGPU0Usage_Stream/eval_phase/test_stream/Task000 = 0\n",
            "\tMaxRAMUsage_Stream/eval_phase/test_stream/Task000 = 3303.5234\n",
            "\tTop1_Acc_Stream/eval_phase/test_stream/Task000 = 0.6930\n",
            "Start of experience:  1\n",
            "Current Classes:  [1, 2]\n",
            "-- >> Start of training phase << --\n",
            "-- Starting training on experience 1 (Task 0) from train stream --\n"
          ]
        },
        {
          "output_type": "stream",
          "name": "stderr",
          "text": [
            "/usr/local/lib/python3.7/dist-packages/torch/utils/data/dataloader.py:481: UserWarning: This DataLoader will create 4 worker processes in total. Our suggested max number of worker in current system is 2, which is smaller than what this DataLoader is going to create. Please be aware that excessive worker creation might get DataLoader running slow or even freeze, lower the worker number to avoid potential slowness/freeze if necessary.\n",
            "  cpuset_checked))\n"
          ]
        },
        {
          "output_type": "stream",
          "name": "stdout",
          "text": [
            "100%|██████████| 50/50 [00:09<00:00,  5.05it/s]\n",
            "Epoch 0 ended.\n",
            "\tDiskUsage_Epoch/train_phase/train_stream/Task000 = 55532.3242\n",
            "\tMaxGPU0Usage_Epoch/train_phase/train_stream/Task000 = 0\n",
            "\tMaxRAMUsage_Epoch/train_phase/train_stream/Task000 = 3303.5859\n",
            "\tTime_Epoch/train_phase/train_stream/Task000 = 9.8310\n",
            "\tTop1_Acc_Epoch/train_phase/train_stream/Task000 = 0.9251\n",
            "-- >> End of training phase << --\n",
            "Training completed\n",
            "Computing accuracy on the whole test set\n",
            "-- >> Start of eval phase << --\n",
            "-- Starting eval on experience 0 (Task 0) from test stream --\n"
          ]
        },
        {
          "output_type": "stream",
          "name": "stderr",
          "text": [
            "/usr/local/lib/python3.7/dist-packages/torch/utils/data/dataloader.py:481: UserWarning: This DataLoader will create 4 worker processes in total. Our suggested max number of worker in current system is 2, which is smaller than what this DataLoader is going to create. Please be aware that excessive worker creation might get DataLoader running slow or even freeze, lower the worker number to avoid potential slowness/freeze if necessary.\n",
            "  cpuset_checked))\n"
          ]
        },
        {
          "output_type": "stream",
          "name": "stdout",
          "text": [
            "\r0it [00:00, ?it/s]"
          ]
        },
        {
          "output_type": "stream",
          "name": "stderr",
          "text": [
            "/usr/local/lib/python3.7/dist-packages/torch/utils/data/dataloader.py:481: UserWarning: This DataLoader will create 4 worker processes in total. Our suggested max number of worker in current system is 2, which is smaller than what this DataLoader is going to create. Please be aware that excessive worker creation might get DataLoader running slow or even freeze, lower the worker number to avoid potential slowness/freeze if necessary.\n",
            "  cpuset_checked))\n"
          ]
        },
        {
          "output_type": "stream",
          "name": "stdout",
          "text": [
            "100%|██████████| 20/20 [00:01<00:00, 16.40it/s]\n",
            "> Eval on experience 0 (Task 0) from test stream ended.\n",
            "\tCPUUsage_Exp/eval_phase/test_stream/Task000/Exp000 = 52.4999\n",
            "\tDiskUsage_Exp/eval_phase/test_stream/Task000/Exp000 = 55532.3242\n",
            "\tMaxGPU0Usage_Experience/eval_phase/test_stream/Task000/Exp000 = 0\n",
            "\tMaxRAMUsage_Experience/eval_phase/test_stream/Task000/Exp000 = 3303.5859\n",
            "\tTime_Exp/eval_phase/test_stream/Task000/Exp000 = 1.1439\n",
            "\tTop1_Acc_Exp/eval_phase/test_stream/Task000/Exp000 = 0.9644\n",
            "-- Starting eval on experience 1 (Task 0) from test stream --\n"
          ]
        },
        {
          "output_type": "stream",
          "name": "stderr",
          "text": [
            "/usr/local/lib/python3.7/dist-packages/torch/utils/data/dataloader.py:481: UserWarning: This DataLoader will create 4 worker processes in total. Our suggested max number of worker in current system is 2, which is smaller than what this DataLoader is going to create. Please be aware that excessive worker creation might get DataLoader running slow or even freeze, lower the worker number to avoid potential slowness/freeze if necessary.\n",
            "  cpuset_checked))\n"
          ]
        },
        {
          "output_type": "stream",
          "name": "stdout",
          "text": [
            "100%|██████████| 22/22 [00:01<00:00, 16.45it/s]\n",
            "> Eval on experience 1 (Task 0) from test stream ended.\n",
            "\tCPUUsage_Exp/eval_phase/test_stream/Task000/Exp001 = 50.9880\n",
            "\tDiskUsage_Exp/eval_phase/test_stream/Task000/Exp001 = 55532.3242\n",
            "\tMaxGPU0Usage_Experience/eval_phase/test_stream/Task000/Exp001 = 0\n",
            "\tMaxRAMUsage_Experience/eval_phase/test_stream/Task000/Exp001 = 3303.5938\n",
            "\tTime_Exp/eval_phase/test_stream/Task000/Exp001 = 1.1771\n",
            "\tTop1_Acc_Exp/eval_phase/test_stream/Task000/Exp001 = 0.9534\n",
            "-- Starting eval on experience 2 (Task 0) from test stream --\n"
          ]
        },
        {
          "output_type": "stream",
          "name": "stderr",
          "text": [
            "/usr/local/lib/python3.7/dist-packages/torch/utils/data/dataloader.py:481: UserWarning: This DataLoader will create 4 worker processes in total. Our suggested max number of worker in current system is 2, which is smaller than what this DataLoader is going to create. Please be aware that excessive worker creation might get DataLoader running slow or even freeze, lower the worker number to avoid potential slowness/freeze if necessary.\n",
            "  cpuset_checked))\n"
          ]
        },
        {
          "output_type": "stream",
          "name": "stdout",
          "text": [
            "100%|██████████| 20/20 [00:01<00:00, 17.03it/s]\n",
            "> Eval on experience 2 (Task 0) from test stream ended.\n",
            "\tCPUUsage_Exp/eval_phase/test_stream/Task000/Exp002 = 51.2298\n",
            "\tDiskUsage_Exp/eval_phase/test_stream/Task000/Exp002 = 55532.3242\n",
            "\tMaxGPU0Usage_Experience/eval_phase/test_stream/Task000/Exp002 = 0\n",
            "\tMaxRAMUsage_Experience/eval_phase/test_stream/Task000/Exp002 = 3303.5938\n",
            "\tTime_Exp/eval_phase/test_stream/Task000/Exp002 = 1.0934\n",
            "\tTop1_Acc_Exp/eval_phase/test_stream/Task000/Exp002 = 0.1407\n",
            "-- Starting eval on experience 3 (Task 0) from test stream --\n"
          ]
        },
        {
          "output_type": "stream",
          "name": "stderr",
          "text": [
            "/usr/local/lib/python3.7/dist-packages/torch/utils/data/dataloader.py:481: UserWarning: This DataLoader will create 4 worker processes in total. Our suggested max number of worker in current system is 2, which is smaller than what this DataLoader is going to create. Please be aware that excessive worker creation might get DataLoader running slow or even freeze, lower the worker number to avoid potential slowness/freeze if necessary.\n",
            "  cpuset_checked))\n"
          ]
        },
        {
          "output_type": "stream",
          "name": "stdout",
          "text": [
            "100%|██████████| 19/19 [00:01<00:00, 16.80it/s]\n",
            "> Eval on experience 3 (Task 0) from test stream ended.\n",
            "\tCPUUsage_Exp/eval_phase/test_stream/Task000/Exp003 = 50.6818\n",
            "\tDiskUsage_Exp/eval_phase/test_stream/Task000/Exp003 = 55532.3242\n",
            "\tMaxGPU0Usage_Experience/eval_phase/test_stream/Task000/Exp003 = 0\n",
            "\tMaxRAMUsage_Experience/eval_phase/test_stream/Task000/Exp003 = 3303.6055\n",
            "\tTime_Exp/eval_phase/test_stream/Task000/Exp003 = 1.0262\n",
            "\tTop1_Acc_Exp/eval_phase/test_stream/Task000/Exp003 = 0.5556\n",
            "-- Starting eval on experience 4 (Task 0) from test stream --\n"
          ]
        },
        {
          "output_type": "stream",
          "name": "stderr",
          "text": [
            "/usr/local/lib/python3.7/dist-packages/torch/utils/data/dataloader.py:481: UserWarning: This DataLoader will create 4 worker processes in total. Our suggested max number of worker in current system is 2, which is smaller than what this DataLoader is going to create. Please be aware that excessive worker creation might get DataLoader running slow or even freeze, lower the worker number to avoid potential slowness/freeze if necessary.\n",
            "  cpuset_checked))\n"
          ]
        },
        {
          "output_type": "stream",
          "name": "stdout",
          "text": [
            "100%|██████████| 20/20 [00:01<00:00, 16.72it/s]\n",
            "> Eval on experience 4 (Task 0) from test stream ended.\n",
            "\tCPUUsage_Exp/eval_phase/test_stream/Task000/Exp004 = 53.6269\n",
            "\tDiskUsage_Exp/eval_phase/test_stream/Task000/Exp004 = 55532.3242\n",
            "\tMaxGPU0Usage_Experience/eval_phase/test_stream/Task000/Exp004 = 0\n",
            "\tMaxRAMUsage_Experience/eval_phase/test_stream/Task000/Exp004 = 3303.5938\n",
            "\tTime_Exp/eval_phase/test_stream/Task000/Exp004 = 1.1194\n",
            "\tTop1_Acc_Exp/eval_phase/test_stream/Task000/Exp004 = 0.7739\n",
            "-- >> End of eval phase << --\n",
            "\tDiskUsage_Stream/eval_phase/test_stream/Task000 = 55532.3242\n",
            "\tMaxGPU0Usage_Stream/eval_phase/test_stream/Task000 = 0\n",
            "\tMaxRAMUsage_Stream/eval_phase/test_stream/Task000 = 3303.6055\n",
            "\tTop1_Acc_Stream/eval_phase/test_stream/Task000 = 0.6843\n",
            "Start of experience:  2\n",
            "Current Classes:  [8, 9]\n",
            "-- >> Start of training phase << --\n",
            "-- Starting training on experience 2 (Task 0) from train stream --\n"
          ]
        },
        {
          "output_type": "stream",
          "name": "stderr",
          "text": [
            "/usr/local/lib/python3.7/dist-packages/torch/utils/data/dataloader.py:481: UserWarning: This DataLoader will create 4 worker processes in total. Our suggested max number of worker in current system is 2, which is smaller than what this DataLoader is going to create. Please be aware that excessive worker creation might get DataLoader running slow or even freeze, lower the worker number to avoid potential slowness/freeze if necessary.\n",
            "  cpuset_checked))\n"
          ]
        },
        {
          "output_type": "stream",
          "name": "stdout",
          "text": [
            "100%|██████████| 73/73 [00:15<00:00,  4.87it/s]\n",
            "Epoch 0 ended.\n",
            "\tDiskUsage_Epoch/train_phase/train_stream/Task000 = 55532.3242\n",
            "\tMaxGPU0Usage_Epoch/train_phase/train_stream/Task000 = 0\n",
            "\tMaxRAMUsage_Epoch/train_phase/train_stream/Task000 = 3303.6758\n",
            "\tTime_Epoch/train_phase/train_stream/Task000 = 14.9249\n",
            "\tTop1_Acc_Epoch/train_phase/train_stream/Task000 = 0.8502\n",
            "-- >> End of training phase << --\n",
            "Training completed\n",
            "Computing accuracy on the whole test set\n",
            "-- >> Start of eval phase << --\n",
            "-- Starting eval on experience 0 (Task 0) from test stream --\n"
          ]
        },
        {
          "output_type": "stream",
          "name": "stderr",
          "text": [
            "/usr/local/lib/python3.7/dist-packages/torch/utils/data/dataloader.py:481: UserWarning: This DataLoader will create 4 worker processes in total. Our suggested max number of worker in current system is 2, which is smaller than what this DataLoader is going to create. Please be aware that excessive worker creation might get DataLoader running slow or even freeze, lower the worker number to avoid potential slowness/freeze if necessary.\n",
            "  cpuset_checked))\n"
          ]
        },
        {
          "output_type": "stream",
          "name": "stdout",
          "text": [
            "100%|██████████| 20/20 [00:01<00:00, 17.04it/s]\n",
            "> Eval on experience 0 (Task 0) from test stream ended.\n",
            "\tCPUUsage_Exp/eval_phase/test_stream/Task000/Exp000 = 51.6756\n",
            "\tDiskUsage_Exp/eval_phase/test_stream/Task000/Exp000 = 55532.3242\n",
            "\tMaxGPU0Usage_Experience/eval_phase/test_stream/Task000/Exp000 = 0\n",
            "\tMaxRAMUsage_Experience/eval_phase/test_stream/Task000/Exp000 = 3303.6758\n",
            "\tTime_Exp/eval_phase/test_stream/Task000/Exp000 = 1.1037\n",
            "\tTop1_Acc_Exp/eval_phase/test_stream/Task000/Exp000 = 0.9287\n",
            "-- Starting eval on experience 1 (Task 0) from test stream --\n"
          ]
        },
        {
          "output_type": "stream",
          "name": "stderr",
          "text": [
            "/usr/local/lib/python3.7/dist-packages/torch/utils/data/dataloader.py:481: UserWarning: This DataLoader will create 4 worker processes in total. Our suggested max number of worker in current system is 2, which is smaller than what this DataLoader is going to create. Please be aware that excessive worker creation might get DataLoader running slow or even freeze, lower the worker number to avoid potential slowness/freeze if necessary.\n",
            "  cpuset_checked))\n"
          ]
        },
        {
          "output_type": "stream",
          "name": "stdout",
          "text": [
            "100%|██████████| 22/22 [00:01<00:00, 16.61it/s]\n",
            "> Eval on experience 1 (Task 0) from test stream ended.\n",
            "\tCPUUsage_Exp/eval_phase/test_stream/Task000/Exp001 = 50.8300\n",
            "\tDiskUsage_Exp/eval_phase/test_stream/Task000/Exp001 = 55532.3242\n",
            "\tMaxGPU0Usage_Experience/eval_phase/test_stream/Task000/Exp001 = 0\n",
            "\tMaxRAMUsage_Experience/eval_phase/test_stream/Task000/Exp001 = 3303.6836\n",
            "\tTime_Exp/eval_phase/test_stream/Task000/Exp001 = 1.2007\n",
            "\tTop1_Acc_Exp/eval_phase/test_stream/Task000/Exp001 = 0.9312\n",
            "-- Starting eval on experience 2 (Task 0) from test stream --\n"
          ]
        },
        {
          "output_type": "stream",
          "name": "stderr",
          "text": [
            "/usr/local/lib/python3.7/dist-packages/torch/utils/data/dataloader.py:481: UserWarning: This DataLoader will create 4 worker processes in total. Our suggested max number of worker in current system is 2, which is smaller than what this DataLoader is going to create. Please be aware that excessive worker creation might get DataLoader running slow or even freeze, lower the worker number to avoid potential slowness/freeze if necessary.\n",
            "  cpuset_checked))\n"
          ]
        },
        {
          "output_type": "stream",
          "name": "stdout",
          "text": [
            "100%|██████████| 20/20 [00:01<00:00, 16.64it/s]\n",
            "> Eval on experience 2 (Task 0) from test stream ended.\n",
            "\tCPUUsage_Exp/eval_phase/test_stream/Task000/Exp002 = 52.2079\n",
            "\tDiskUsage_Exp/eval_phase/test_stream/Task000/Exp002 = 55532.3242\n",
            "\tMaxGPU0Usage_Experience/eval_phase/test_stream/Task000/Exp002 = 0\n",
            "\tMaxRAMUsage_Experience/eval_phase/test_stream/Task000/Exp002 = 3303.6836\n",
            "\tTime_Exp/eval_phase/test_stream/Task000/Exp002 = 1.1305\n",
            "\tTop1_Acc_Exp/eval_phase/test_stream/Task000/Exp002 = 0.8870\n",
            "-- Starting eval on experience 3 (Task 0) from test stream --\n"
          ]
        },
        {
          "output_type": "stream",
          "name": "stderr",
          "text": [
            "/usr/local/lib/python3.7/dist-packages/torch/utils/data/dataloader.py:481: UserWarning: This DataLoader will create 4 worker processes in total. Our suggested max number of worker in current system is 2, which is smaller than what this DataLoader is going to create. Please be aware that excessive worker creation might get DataLoader running slow or even freeze, lower the worker number to avoid potential slowness/freeze if necessary.\n",
            "  cpuset_checked))\n"
          ]
        },
        {
          "output_type": "stream",
          "name": "stdout",
          "text": [
            "100%|██████████| 19/19 [00:01<00:00, 16.55it/s]\n",
            "> Eval on experience 3 (Task 0) from test stream ended.\n",
            "\tCPUUsage_Exp/eval_phase/test_stream/Task000/Exp003 = 52.4197\n",
            "\tDiskUsage_Exp/eval_phase/test_stream/Task000/Exp003 = 55532.3242\n",
            "\tMaxGPU0Usage_Experience/eval_phase/test_stream/Task000/Exp003 = 0\n",
            "\tMaxRAMUsage_Experience/eval_phase/test_stream/Task000/Exp003 = 3303.7031\n",
            "\tTime_Exp/eval_phase/test_stream/Task000/Exp003 = 1.0493\n",
            "\tTop1_Acc_Exp/eval_phase/test_stream/Task000/Exp003 = 0.5331\n",
            "-- Starting eval on experience 4 (Task 0) from test stream --\n"
          ]
        },
        {
          "output_type": "stream",
          "name": "stderr",
          "text": [
            "/usr/local/lib/python3.7/dist-packages/torch/utils/data/dataloader.py:481: UserWarning: This DataLoader will create 4 worker processes in total. Our suggested max number of worker in current system is 2, which is smaller than what this DataLoader is going to create. Please be aware that excessive worker creation might get DataLoader running slow or even freeze, lower the worker number to avoid potential slowness/freeze if necessary.\n",
            "  cpuset_checked))\n"
          ]
        },
        {
          "output_type": "stream",
          "name": "stdout",
          "text": [
            "100%|██████████| 20/20 [00:01<00:00, 16.19it/s]\n",
            "> Eval on experience 4 (Task 0) from test stream ended.\n",
            "\tCPUUsage_Exp/eval_phase/test_stream/Task000/Exp004 = 52.1217\n",
            "\tDiskUsage_Exp/eval_phase/test_stream/Task000/Exp004 = 55532.3242\n",
            "\tMaxGPU0Usage_Experience/eval_phase/test_stream/Task000/Exp004 = 0\n",
            "\tMaxRAMUsage_Experience/eval_phase/test_stream/Task000/Exp004 = 3303.6875\n",
            "\tTime_Exp/eval_phase/test_stream/Task000/Exp004 = 1.1514\n",
            "\tTop1_Acc_Exp/eval_phase/test_stream/Task000/Exp004 = 0.5836\n",
            "-- >> End of eval phase << --\n",
            "\tDiskUsage_Stream/eval_phase/test_stream/Task000 = 55532.3242\n",
            "\tMaxGPU0Usage_Stream/eval_phase/test_stream/Task000 = 0\n",
            "\tMaxRAMUsage_Stream/eval_phase/test_stream/Task000 = 3303.7031\n",
            "\tTop1_Acc_Stream/eval_phase/test_stream/Task000 = 0.7784\n",
            "Start of experience:  3\n",
            "Current Classes:  [0, 5]\n",
            "-- >> Start of training phase << --\n",
            "-- Starting training on experience 3 (Task 0) from train stream --\n"
          ]
        },
        {
          "output_type": "stream",
          "name": "stderr",
          "text": [
            "/usr/local/lib/python3.7/dist-packages/torch/utils/data/dataloader.py:481: UserWarning: This DataLoader will create 4 worker processes in total. Our suggested max number of worker in current system is 2, which is smaller than what this DataLoader is going to create. Please be aware that excessive worker creation might get DataLoader running slow or even freeze, lower the worker number to avoid potential slowness/freeze if necessary.\n",
            "  cpuset_checked))\n"
          ]
        },
        {
          "output_type": "stream",
          "name": "stdout",
          "text": [
            "100%|██████████| 96/96 [00:19<00:00,  5.05it/s]\n",
            "Epoch 0 ended.\n",
            "\tDiskUsage_Epoch/train_phase/train_stream/Task000 = 55532.3242\n",
            "\tMaxGPU0Usage_Epoch/train_phase/train_stream/Task000 = 0\n",
            "\tMaxRAMUsage_Epoch/train_phase/train_stream/Task000 = 3306.2266\n",
            "\tTime_Epoch/train_phase/train_stream/Task000 = 18.9364\n",
            "\tTop1_Acc_Epoch/train_phase/train_stream/Task000 = 0.8664\n",
            "-- >> End of training phase << --\n",
            "Training completed\n",
            "Computing accuracy on the whole test set\n",
            "-- >> Start of eval phase << --\n",
            "-- Starting eval on experience 0 (Task 0) from test stream --\n"
          ]
        },
        {
          "output_type": "stream",
          "name": "stderr",
          "text": [
            "/usr/local/lib/python3.7/dist-packages/torch/utils/data/dataloader.py:481: UserWarning: This DataLoader will create 4 worker processes in total. Our suggested max number of worker in current system is 2, which is smaller than what this DataLoader is going to create. Please be aware that excessive worker creation might get DataLoader running slow or even freeze, lower the worker number to avoid potential slowness/freeze if necessary.\n",
            "  cpuset_checked))\n"
          ]
        },
        {
          "output_type": "stream",
          "name": "stdout",
          "text": [
            "100%|██████████| 20/20 [00:01<00:00, 13.58it/s]\n",
            "> Eval on experience 0 (Task 0) from test stream ended.\n",
            "\tCPUUsage_Exp/eval_phase/test_stream/Task000/Exp000 = 40.7839\n",
            "\tDiskUsage_Exp/eval_phase/test_stream/Task000/Exp000 = 55532.3242\n",
            "\tMaxGPU0Usage_Experience/eval_phase/test_stream/Task000/Exp000 = 0\n",
            "\tMaxRAMUsage_Experience/eval_phase/test_stream/Task000/Exp000 = 3306.7227\n",
            "\tTime_Exp/eval_phase/test_stream/Task000/Exp000 = 1.3535\n",
            "\tTop1_Acc_Exp/eval_phase/test_stream/Task000/Exp000 = 0.9182\n",
            "-- Starting eval on experience 1 (Task 0) from test stream --\n"
          ]
        },
        {
          "output_type": "stream",
          "name": "stderr",
          "text": [
            "/usr/local/lib/python3.7/dist-packages/torch/utils/data/dataloader.py:481: UserWarning: This DataLoader will create 4 worker processes in total. Our suggested max number of worker in current system is 2, which is smaller than what this DataLoader is going to create. Please be aware that excessive worker creation might get DataLoader running slow or even freeze, lower the worker number to avoid potential slowness/freeze if necessary.\n",
            "  cpuset_checked))\n"
          ]
        },
        {
          "output_type": "stream",
          "name": "stdout",
          "text": [
            "100%|██████████| 22/22 [00:01<00:00, 16.04it/s]\n",
            "> Eval on experience 1 (Task 0) from test stream ended.\n",
            "\tCPUUsage_Exp/eval_phase/test_stream/Task000/Exp001 = 50.3431\n",
            "\tDiskUsage_Exp/eval_phase/test_stream/Task000/Exp001 = 55532.3242\n",
            "\tMaxGPU0Usage_Experience/eval_phase/test_stream/Task000/Exp001 = 0\n",
            "\tMaxRAMUsage_Experience/eval_phase/test_stream/Task000/Exp001 = 3306.7383\n",
            "\tTime_Exp/eval_phase/test_stream/Task000/Exp001 = 1.2722\n",
            "\tTop1_Acc_Exp/eval_phase/test_stream/Task000/Exp001 = 0.9345\n",
            "-- Starting eval on experience 2 (Task 0) from test stream --\n"
          ]
        },
        {
          "output_type": "stream",
          "name": "stderr",
          "text": [
            "/usr/local/lib/python3.7/dist-packages/torch/utils/data/dataloader.py:481: UserWarning: This DataLoader will create 4 worker processes in total. Our suggested max number of worker in current system is 2, which is smaller than what this DataLoader is going to create. Please be aware that excessive worker creation might get DataLoader running slow or even freeze, lower the worker number to avoid potential slowness/freeze if necessary.\n",
            "  cpuset_checked))\n"
          ]
        },
        {
          "output_type": "stream",
          "name": "stdout",
          "text": [
            "100%|██████████| 20/20 [00:01<00:00, 16.72it/s]\n",
            "> Eval on experience 2 (Task 0) from test stream ended.\n",
            "\tCPUUsage_Exp/eval_phase/test_stream/Task000/Exp002 = 52.1060\n",
            "\tDiskUsage_Exp/eval_phase/test_stream/Task000/Exp002 = 55532.3242\n",
            "\tMaxGPU0Usage_Experience/eval_phase/test_stream/Task000/Exp002 = 0\n",
            "\tMaxRAMUsage_Experience/eval_phase/test_stream/Task000/Exp002 = 3306.7305\n",
            "\tTime_Exp/eval_phase/test_stream/Task000/Exp002 = 1.1328\n",
            "\tTop1_Acc_Exp/eval_phase/test_stream/Task000/Exp002 = 0.8891\n",
            "-- Starting eval on experience 3 (Task 0) from test stream --\n"
          ]
        },
        {
          "output_type": "stream",
          "name": "stderr",
          "text": [
            "/usr/local/lib/python3.7/dist-packages/torch/utils/data/dataloader.py:481: UserWarning: This DataLoader will create 4 worker processes in total. Our suggested max number of worker in current system is 2, which is smaller than what this DataLoader is going to create. Please be aware that excessive worker creation might get DataLoader running slow or even freeze, lower the worker number to avoid potential slowness/freeze if necessary.\n",
            "  cpuset_checked))\n"
          ]
        },
        {
          "output_type": "stream",
          "name": "stdout",
          "text": [
            "100%|██████████| 19/19 [00:01<00:00, 14.48it/s]\n",
            "> Eval on experience 3 (Task 0) from test stream ended.\n",
            "\tCPUUsage_Exp/eval_phase/test_stream/Task000/Exp003 = 52.9155\n",
            "\tDiskUsage_Exp/eval_phase/test_stream/Task000/Exp003 = 55532.3242\n",
            "\tMaxGPU0Usage_Experience/eval_phase/test_stream/Task000/Exp003 = 0\n",
            "\tMaxRAMUsage_Experience/eval_phase/test_stream/Task000/Exp003 = 3306.7305\n",
            "\tTime_Exp/eval_phase/test_stream/Task000/Exp003 = 1.2310\n",
            "\tTop1_Acc_Exp/eval_phase/test_stream/Task000/Exp003 = 0.8926\n",
            "-- Starting eval on experience 4 (Task 0) from test stream --\n"
          ]
        },
        {
          "output_type": "stream",
          "name": "stderr",
          "text": [
            "/usr/local/lib/python3.7/dist-packages/torch/utils/data/dataloader.py:481: UserWarning: This DataLoader will create 4 worker processes in total. Our suggested max number of worker in current system is 2, which is smaller than what this DataLoader is going to create. Please be aware that excessive worker creation might get DataLoader running slow or even freeze, lower the worker number to avoid potential slowness/freeze if necessary.\n",
            "  cpuset_checked))\n"
          ]
        },
        {
          "output_type": "stream",
          "name": "stdout",
          "text": [
            "100%|██████████| 20/20 [00:01<00:00, 16.44it/s]\n",
            "> Eval on experience 4 (Task 0) from test stream ended.\n",
            "\tCPUUsage_Exp/eval_phase/test_stream/Task000/Exp004 = 51.6052\n",
            "\tDiskUsage_Exp/eval_phase/test_stream/Task000/Exp004 = 55532.3242\n",
            "\tMaxGPU0Usage_Experience/eval_phase/test_stream/Task000/Exp004 = 0\n",
            "\tMaxRAMUsage_Experience/eval_phase/test_stream/Task000/Exp004 = 3305.7188\n",
            "\tTime_Exp/eval_phase/test_stream/Task000/Exp004 = 1.1458\n",
            "\tTop1_Acc_Exp/eval_phase/test_stream/Task000/Exp004 = 0.4446\n",
            "-- >> End of eval phase << --\n",
            "\tDiskUsage_Stream/eval_phase/test_stream/Task000 = 55532.3242\n",
            "\tMaxGPU0Usage_Stream/eval_phase/test_stream/Task000 = 0\n",
            "\tMaxRAMUsage_Stream/eval_phase/test_stream/Task000 = 3306.7383\n",
            "\tTop1_Acc_Stream/eval_phase/test_stream/Task000 = 0.8171\n",
            "Start of experience:  4\n",
            "Current Classes:  [6, 7]\n",
            "-- >> Start of training phase << --\n",
            "-- Starting training on experience 4 (Task 0) from train stream --\n"
          ]
        },
        {
          "output_type": "stream",
          "name": "stderr",
          "text": [
            "/usr/local/lib/python3.7/dist-packages/torch/utils/data/dataloader.py:481: UserWarning: This DataLoader will create 4 worker processes in total. Our suggested max number of worker in current system is 2, which is smaller than what this DataLoader is going to create. Please be aware that excessive worker creation might get DataLoader running slow or even freeze, lower the worker number to avoid potential slowness/freeze if necessary.\n",
            "  cpuset_checked))\n"
          ]
        },
        {
          "output_type": "stream",
          "name": "stdout",
          "text": [
            "100%|██████████| 120/120 [00:23<00:00,  5.02it/s]\n",
            "Epoch 0 ended.\n",
            "\tDiskUsage_Epoch/train_phase/train_stream/Task000 = 55532.3242\n",
            "\tMaxGPU0Usage_Epoch/train_phase/train_stream/Task000 = 0\n",
            "\tMaxRAMUsage_Epoch/train_phase/train_stream/Task000 = 3306.2891\n",
            "\tTime_Epoch/train_phase/train_stream/Task000 = 23.8081\n",
            "\tTop1_Acc_Epoch/train_phase/train_stream/Task000 = 0.8701\n",
            "-- >> End of training phase << --\n",
            "Training completed\n",
            "Computing accuracy on the whole test set\n",
            "-- >> Start of eval phase << --\n",
            "-- Starting eval on experience 0 (Task 0) from test stream --\n"
          ]
        },
        {
          "output_type": "stream",
          "name": "stderr",
          "text": [
            "/usr/local/lib/python3.7/dist-packages/torch/utils/data/dataloader.py:481: UserWarning: This DataLoader will create 4 worker processes in total. Our suggested max number of worker in current system is 2, which is smaller than what this DataLoader is going to create. Please be aware that excessive worker creation might get DataLoader running slow or even freeze, lower the worker number to avoid potential slowness/freeze if necessary.\n",
            "  cpuset_checked))\n"
          ]
        },
        {
          "output_type": "stream",
          "name": "stdout",
          "text": [
            "\r0it [00:00, ?it/s]"
          ]
        },
        {
          "output_type": "stream",
          "name": "stderr",
          "text": [
            "/usr/local/lib/python3.7/dist-packages/torch/utils/data/dataloader.py:481: UserWarning: This DataLoader will create 4 worker processes in total. Our suggested max number of worker in current system is 2, which is smaller than what this DataLoader is going to create. Please be aware that excessive worker creation might get DataLoader running slow or even freeze, lower the worker number to avoid potential slowness/freeze if necessary.\n",
            "  cpuset_checked))\n"
          ]
        },
        {
          "output_type": "stream",
          "name": "stdout",
          "text": [
            "100%|██████████| 20/20 [00:01<00:00, 16.13it/s]\n",
            "> Eval on experience 0 (Task 0) from test stream ended.\n",
            "\tCPUUsage_Exp/eval_phase/test_stream/Task000/Exp000 = 50.5640\n",
            "\tDiskUsage_Exp/eval_phase/test_stream/Task000/Exp000 = 55532.3242\n",
            "\tMaxGPU0Usage_Experience/eval_phase/test_stream/Task000/Exp000 = 0\n",
            "\tMaxRAMUsage_Experience/eval_phase/test_stream/Task000/Exp000 = 3306.0391\n",
            "\tTime_Exp/eval_phase/test_stream/Task000/Exp000 = 1.2074\n",
            "\tTop1_Acc_Exp/eval_phase/test_stream/Task000/Exp000 = 0.9157\n",
            "-- Starting eval on experience 1 (Task 0) from test stream --\n"
          ]
        },
        {
          "output_type": "stream",
          "name": "stderr",
          "text": [
            "/usr/local/lib/python3.7/dist-packages/torch/utils/data/dataloader.py:481: UserWarning: This DataLoader will create 4 worker processes in total. Our suggested max number of worker in current system is 2, which is smaller than what this DataLoader is going to create. Please be aware that excessive worker creation might get DataLoader running slow or even freeze, lower the worker number to avoid potential slowness/freeze if necessary.\n",
            "  cpuset_checked))\n"
          ]
        },
        {
          "output_type": "stream",
          "name": "stdout",
          "text": [
            "100%|██████████| 22/22 [00:01<00:00, 15.76it/s]\n",
            "> Eval on experience 1 (Task 0) from test stream ended.\n",
            "\tCPUUsage_Exp/eval_phase/test_stream/Task000/Exp001 = 53.6855\n",
            "\tDiskUsage_Exp/eval_phase/test_stream/Task000/Exp001 = 55532.3242\n",
            "\tMaxGPU0Usage_Experience/eval_phase/test_stream/Task000/Exp001 = 0\n",
            "\tMaxRAMUsage_Experience/eval_phase/test_stream/Task000/Exp001 = 3306.0625\n",
            "\tTime_Exp/eval_phase/test_stream/Task000/Exp001 = 1.3048\n",
            "\tTop1_Acc_Exp/eval_phase/test_stream/Task000/Exp001 = 0.9262\n",
            "-- Starting eval on experience 2 (Task 0) from test stream --\n"
          ]
        },
        {
          "output_type": "stream",
          "name": "stderr",
          "text": [
            "/usr/local/lib/python3.7/dist-packages/torch/utils/data/dataloader.py:481: UserWarning: This DataLoader will create 4 worker processes in total. Our suggested max number of worker in current system is 2, which is smaller than what this DataLoader is going to create. Please be aware that excessive worker creation might get DataLoader running slow or even freeze, lower the worker number to avoid potential slowness/freeze if necessary.\n",
            "  cpuset_checked))\n"
          ]
        },
        {
          "output_type": "stream",
          "name": "stdout",
          "text": [
            "100%|██████████| 20/20 [00:01<00:00, 16.57it/s]\n",
            "> Eval on experience 2 (Task 0) from test stream ended.\n",
            "\tCPUUsage_Exp/eval_phase/test_stream/Task000/Exp002 = 49.7340\n",
            "\tDiskUsage_Exp/eval_phase/test_stream/Task000/Exp002 = 55532.3242\n",
            "\tMaxGPU0Usage_Experience/eval_phase/test_stream/Task000/Exp002 = 0\n",
            "\tMaxRAMUsage_Experience/eval_phase/test_stream/Task000/Exp002 = 3306.0391\n",
            "\tTime_Exp/eval_phase/test_stream/Task000/Exp002 = 1.1266\n",
            "\tTop1_Acc_Exp/eval_phase/test_stream/Task000/Exp002 = 0.8785\n",
            "-- Starting eval on experience 3 (Task 0) from test stream --\n"
          ]
        },
        {
          "output_type": "stream",
          "name": "stderr",
          "text": [
            "/usr/local/lib/python3.7/dist-packages/torch/utils/data/dataloader.py:481: UserWarning: This DataLoader will create 4 worker processes in total. Our suggested max number of worker in current system is 2, which is smaller than what this DataLoader is going to create. Please be aware that excessive worker creation might get DataLoader running slow or even freeze, lower the worker number to avoid potential slowness/freeze if necessary.\n",
            "  cpuset_checked))\n"
          ]
        },
        {
          "output_type": "stream",
          "name": "stdout",
          "text": [
            "100%|██████████| 19/19 [00:01<00:00, 15.70it/s]\n",
            "> Eval on experience 3 (Task 0) from test stream ended.\n",
            "\tCPUUsage_Exp/eval_phase/test_stream/Task000/Exp003 = 52.3826\n",
            "\tDiskUsage_Exp/eval_phase/test_stream/Task000/Exp003 = 55532.3242\n",
            "\tMaxGPU0Usage_Experience/eval_phase/test_stream/Task000/Exp003 = 0\n",
            "\tMaxRAMUsage_Experience/eval_phase/test_stream/Task000/Exp003 = 3306.0469\n",
            "\tTime_Exp/eval_phase/test_stream/Task000/Exp003 = 1.1273\n",
            "\tTop1_Acc_Exp/eval_phase/test_stream/Task000/Exp003 = 0.9017\n",
            "-- Starting eval on experience 4 (Task 0) from test stream --\n"
          ]
        },
        {
          "output_type": "stream",
          "name": "stderr",
          "text": [
            "/usr/local/lib/python3.7/dist-packages/torch/utils/data/dataloader.py:481: UserWarning: This DataLoader will create 4 worker processes in total. Our suggested max number of worker in current system is 2, which is smaller than what this DataLoader is going to create. Please be aware that excessive worker creation might get DataLoader running slow or even freeze, lower the worker number to avoid potential slowness/freeze if necessary.\n",
            "  cpuset_checked))\n"
          ]
        },
        {
          "output_type": "stream",
          "name": "stdout",
          "text": [
            "100%|██████████| 20/20 [00:01<00:00, 15.55it/s]\n",
            "> Eval on experience 4 (Task 0) from test stream ended.\n",
            "\tCPUUsage_Exp/eval_phase/test_stream/Task000/Exp004 = 49.4767\n",
            "\tDiskUsage_Exp/eval_phase/test_stream/Task000/Exp004 = 55532.3242\n",
            "\tMaxGPU0Usage_Experience/eval_phase/test_stream/Task000/Exp004 = 0\n",
            "\tMaxRAMUsage_Experience/eval_phase/test_stream/Task000/Exp004 = 3306.0508\n",
            "\tTime_Exp/eval_phase/test_stream/Task000/Exp004 = 1.1324\n",
            "\tTop1_Acc_Exp/eval_phase/test_stream/Task000/Exp004 = 0.9079\n",
            "-- >> End of eval phase << --\n",
            "\tDiskUsage_Stream/eval_phase/test_stream/Task000 = 55532.3242\n",
            "\tMaxGPU0Usage_Stream/eval_phase/test_stream/Task000 = 0\n",
            "\tMaxRAMUsage_Stream/eval_phase/test_stream/Task000 = 3306.0625\n",
            "\tTop1_Acc_Stream/eval_phase/test_stream/Task000 = 0.9064\n"
          ]
        }
      ]
    },
    {
      "cell_type": "code",
      "source": [
        "results_cum"
      ],
      "metadata": {
        "colab": {
          "base_uri": "https://localhost:8080/"
        },
        "id": "hgESfTkVyxfw",
        "outputId": "591dc6c4-1f75-4024-b057-6f5adbdb4e3b"
      },
      "execution_count": 21,
      "outputs": [
        {
          "output_type": "execute_result",
          "data": {
            "text/plain": [
              "[{'CPUUsage_Exp/eval_phase/test_stream/Task000/Exp000': 53.52102047416401,\n",
              "  'CPUUsage_Exp/eval_phase/test_stream/Task000/Exp001': 55.241688127949566,\n",
              "  'CPUUsage_Exp/eval_phase/test_stream/Task000/Exp002': 50.07811664829793,\n",
              "  'CPUUsage_Exp/eval_phase/test_stream/Task000/Exp003': 56.94429676841072,\n",
              "  'CPUUsage_Exp/eval_phase/test_stream/Task000/Exp004': 50.93299166410222,\n",
              "  'DiskUsage_Epoch/train_phase/train_stream/Task000': 55532.32421875,\n",
              "  'DiskUsage_Exp/eval_phase/test_stream/Task000/Exp000': 55532.32421875,\n",
              "  'DiskUsage_Exp/eval_phase/test_stream/Task000/Exp001': 55532.32421875,\n",
              "  'DiskUsage_Exp/eval_phase/test_stream/Task000/Exp002': 55532.32421875,\n",
              "  'DiskUsage_Exp/eval_phase/test_stream/Task000/Exp003': 55532.32421875,\n",
              "  'DiskUsage_Exp/eval_phase/test_stream/Task000/Exp004': 55532.32421875,\n",
              "  'DiskUsage_Stream/eval_phase/test_stream/Task000': 55532.32421875,\n",
              "  'MaxGPU0Usage_Epoch/train_phase/train_stream/Task000': 0,\n",
              "  'MaxGPU0Usage_Experience/eval_phase/test_stream/Task000/Exp000': 0,\n",
              "  'MaxGPU0Usage_Experience/eval_phase/test_stream/Task000/Exp001': 0,\n",
              "  'MaxGPU0Usage_Experience/eval_phase/test_stream/Task000/Exp002': 0,\n",
              "  'MaxGPU0Usage_Experience/eval_phase/test_stream/Task000/Exp003': 0,\n",
              "  'MaxGPU0Usage_Experience/eval_phase/test_stream/Task000/Exp004': 0,\n",
              "  'MaxGPU0Usage_Stream/eval_phase/test_stream/Task000': 0,\n",
              "  'MaxRAMUsage_Epoch/train_phase/train_stream/Task000': 3303.49609375,\n",
              "  'MaxRAMUsage_Experience/eval_phase/test_stream/Task000/Exp000': 3303.50390625,\n",
              "  'MaxRAMUsage_Experience/eval_phase/test_stream/Task000/Exp001': 3303.5234375,\n",
              "  'MaxRAMUsage_Experience/eval_phase/test_stream/Task000/Exp002': 3303.49609375,\n",
              "  'MaxRAMUsage_Experience/eval_phase/test_stream/Task000/Exp003': 3303.515625,\n",
              "  'MaxRAMUsage_Experience/eval_phase/test_stream/Task000/Exp004': 3303.515625,\n",
              "  'MaxRAMUsage_Stream/eval_phase/test_stream/Task000': 3303.5234375,\n",
              "  'Time_Epoch/train_phase/train_stream/Task000': 4.48541106100015,\n",
              "  'Time_Exp/eval_phase/test_stream/Task000/Exp000': 1.196725853999851,\n",
              "  'Time_Exp/eval_phase/test_stream/Task000/Exp001': 1.249903574999962,\n",
              "  'Time_Exp/eval_phase/test_stream/Task000/Exp002': 1.1211292590000994,\n",
              "  'Time_Exp/eval_phase/test_stream/Task000/Exp003': 1.1445115280000664,\n",
              "  'Time_Exp/eval_phase/test_stream/Task000/Exp004': 1.0796640399998978,\n",
              "  'Top1_Acc_Epoch/train_phase/train_stream/Task000': 0.7916979871377265,\n",
              "  'Top1_Acc_Exp/eval_phase/test_stream/Task000/Exp000': 0.9799196787148594,\n",
              "  'Top1_Acc_Exp/eval_phase/test_stream/Task000/Exp001': 0.7946469773880941,\n",
              "  'Top1_Acc_Exp/eval_phase/test_stream/Task000/Exp002': 0.18255168935955624,\n",
              "  'Top1_Acc_Exp/eval_phase/test_stream/Task000/Exp003': 0.5956196581196581,\n",
              "  'Top1_Acc_Exp/eval_phase/test_stream/Task000/Exp004': 0.8957703927492447,\n",
              "  'Top1_Acc_Stream/eval_phase/test_stream/Task000': 0.693},\n",
              " {'CPUUsage_Exp/eval_phase/test_stream/Task000/Exp000': 52.49985918612112,\n",
              "  'CPUUsage_Exp/eval_phase/test_stream/Task000/Exp001': 50.98804464224127,\n",
              "  'CPUUsage_Exp/eval_phase/test_stream/Task000/Exp002': 51.229762434179264,\n",
              "  'CPUUsage_Exp/eval_phase/test_stream/Task000/Exp003': 50.681799783100566,\n",
              "  'CPUUsage_Exp/eval_phase/test_stream/Task000/Exp004': 53.62686409916843,\n",
              "  'DiskUsage_Epoch/train_phase/train_stream/Task000': 55532.32421875,\n",
              "  'DiskUsage_Exp/eval_phase/test_stream/Task000/Exp000': 55532.32421875,\n",
              "  'DiskUsage_Exp/eval_phase/test_stream/Task000/Exp001': 55532.32421875,\n",
              "  'DiskUsage_Exp/eval_phase/test_stream/Task000/Exp002': 55532.32421875,\n",
              "  'DiskUsage_Exp/eval_phase/test_stream/Task000/Exp003': 55532.32421875,\n",
              "  'DiskUsage_Exp/eval_phase/test_stream/Task000/Exp004': 55532.32421875,\n",
              "  'DiskUsage_Stream/eval_phase/test_stream/Task000': 55532.32421875,\n",
              "  'MaxGPU0Usage_Epoch/train_phase/train_stream/Task000': 0,\n",
              "  'MaxGPU0Usage_Experience/eval_phase/test_stream/Task000/Exp000': 0,\n",
              "  'MaxGPU0Usage_Experience/eval_phase/test_stream/Task000/Exp001': 0,\n",
              "  'MaxGPU0Usage_Experience/eval_phase/test_stream/Task000/Exp002': 0,\n",
              "  'MaxGPU0Usage_Experience/eval_phase/test_stream/Task000/Exp003': 0,\n",
              "  'MaxGPU0Usage_Experience/eval_phase/test_stream/Task000/Exp004': 0,\n",
              "  'MaxGPU0Usage_Stream/eval_phase/test_stream/Task000': 0,\n",
              "  'MaxRAMUsage_Epoch/train_phase/train_stream/Task000': 3303.5859375,\n",
              "  'MaxRAMUsage_Experience/eval_phase/test_stream/Task000/Exp000': 3303.5859375,\n",
              "  'MaxRAMUsage_Experience/eval_phase/test_stream/Task000/Exp001': 3303.59375,\n",
              "  'MaxRAMUsage_Experience/eval_phase/test_stream/Task000/Exp002': 3303.59375,\n",
              "  'MaxRAMUsage_Experience/eval_phase/test_stream/Task000/Exp003': 3303.60546875,\n",
              "  'MaxRAMUsage_Experience/eval_phase/test_stream/Task000/Exp004': 3303.59375,\n",
              "  'MaxRAMUsage_Stream/eval_phase/test_stream/Task000': 3303.60546875,\n",
              "  'Time_Epoch/train_phase/train_stream/Task000': 9.830992471999934,\n",
              "  'Time_Exp/eval_phase/test_stream/Task000/Exp000': 1.1439396750001833,\n",
              "  'Time_Exp/eval_phase/test_stream/Task000/Exp001': 1.1770506119999027,\n",
              "  'Time_Exp/eval_phase/test_stream/Task000/Exp002': 1.0934493929999007,\n",
              "  'Time_Exp/eval_phase/test_stream/Task000/Exp003': 1.0262419969999428,\n",
              "  'Time_Exp/eval_phase/test_stream/Task000/Exp004': 1.1193513709999934,\n",
              "  'Top1_Acc_Epoch/train_phase/train_stream/Task000': 0.9250597819478783,\n",
              "  'Top1_Acc_Exp/eval_phase/test_stream/Task000/Exp000': 0.9643574297188755,\n",
              "  'Top1_Acc_Exp/eval_phase/test_stream/Task000/Exp001': 0.9533917858790956,\n",
              "  'Top1_Acc_Exp/eval_phase/test_stream/Task000/Exp002': 0.14069591527987896,\n",
              "  'Top1_Acc_Exp/eval_phase/test_stream/Task000/Exp003': 0.5555555555555556,\n",
              "  'Top1_Acc_Exp/eval_phase/test_stream/Task000/Exp004': 0.7739174219536757,\n",
              "  'Top1_Acc_Stream/eval_phase/test_stream/Task000': 0.6843},\n",
              " {'CPUUsage_Exp/eval_phase/test_stream/Task000/Exp000': 51.675632401068505,\n",
              "  'CPUUsage_Exp/eval_phase/test_stream/Task000/Exp001': 50.830022998688285,\n",
              "  'CPUUsage_Exp/eval_phase/test_stream/Task000/Exp002': 52.207941322491415,\n",
              "  'CPUUsage_Exp/eval_phase/test_stream/Task000/Exp003': 52.419733143440226,\n",
              "  'CPUUsage_Exp/eval_phase/test_stream/Task000/Exp004': 52.12172035975893,\n",
              "  'DiskUsage_Epoch/train_phase/train_stream/Task000': 55532.32421875,\n",
              "  'DiskUsage_Exp/eval_phase/test_stream/Task000/Exp000': 55532.32421875,\n",
              "  'DiskUsage_Exp/eval_phase/test_stream/Task000/Exp001': 55532.32421875,\n",
              "  'DiskUsage_Exp/eval_phase/test_stream/Task000/Exp002': 55532.32421875,\n",
              "  'DiskUsage_Exp/eval_phase/test_stream/Task000/Exp003': 55532.32421875,\n",
              "  'DiskUsage_Exp/eval_phase/test_stream/Task000/Exp004': 55532.32421875,\n",
              "  'DiskUsage_Stream/eval_phase/test_stream/Task000': 55532.32421875,\n",
              "  'MaxGPU0Usage_Epoch/train_phase/train_stream/Task000': 0,\n",
              "  'MaxGPU0Usage_Experience/eval_phase/test_stream/Task000/Exp000': 0,\n",
              "  'MaxGPU0Usage_Experience/eval_phase/test_stream/Task000/Exp001': 0,\n",
              "  'MaxGPU0Usage_Experience/eval_phase/test_stream/Task000/Exp002': 0,\n",
              "  'MaxGPU0Usage_Experience/eval_phase/test_stream/Task000/Exp003': 0,\n",
              "  'MaxGPU0Usage_Experience/eval_phase/test_stream/Task000/Exp004': 0,\n",
              "  'MaxGPU0Usage_Stream/eval_phase/test_stream/Task000': 0,\n",
              "  'MaxRAMUsage_Epoch/train_phase/train_stream/Task000': 3303.67578125,\n",
              "  'MaxRAMUsage_Experience/eval_phase/test_stream/Task000/Exp000': 3303.67578125,\n",
              "  'MaxRAMUsage_Experience/eval_phase/test_stream/Task000/Exp001': 3303.68359375,\n",
              "  'MaxRAMUsage_Experience/eval_phase/test_stream/Task000/Exp002': 3303.68359375,\n",
              "  'MaxRAMUsage_Experience/eval_phase/test_stream/Task000/Exp003': 3303.703125,\n",
              "  'MaxRAMUsage_Experience/eval_phase/test_stream/Task000/Exp004': 3303.6875,\n",
              "  'MaxRAMUsage_Stream/eval_phase/test_stream/Task000': 3303.703125,\n",
              "  'Time_Epoch/train_phase/train_stream/Task000': 14.924933041000031,\n",
              "  'Time_Exp/eval_phase/test_stream/Task000/Exp000': 1.1036535289999847,\n",
              "  'Time_Exp/eval_phase/test_stream/Task000/Exp001': 1.2006532630000493,\n",
              "  'Time_Exp/eval_phase/test_stream/Task000/Exp002': 1.1304832169998917,\n",
              "  'Time_Exp/eval_phase/test_stream/Task000/Exp003': 1.049271267999984,\n",
              "  'Time_Exp/eval_phase/test_stream/Task000/Exp004': 1.151367725,\n",
              "  'Top1_Acc_Epoch/train_phase/train_stream/Task000': 0.8502453869986017,\n",
              "  'Top1_Acc_Exp/eval_phase/test_stream/Task000/Exp000': 0.928714859437751,\n",
              "  'Top1_Acc_Exp/eval_phase/test_stream/Task000/Exp001': 0.9312413474850023,\n",
              "  'Top1_Acc_Exp/eval_phase/test_stream/Task000/Exp002': 0.8870398386283409,\n",
              "  'Top1_Acc_Exp/eval_phase/test_stream/Task000/Exp003': 0.5331196581196581,\n",
              "  'Top1_Acc_Exp/eval_phase/test_stream/Task000/Exp004': 0.5835850956696879,\n",
              "  'Top1_Acc_Stream/eval_phase/test_stream/Task000': 0.7784},\n",
              " {'CPUUsage_Exp/eval_phase/test_stream/Task000/Exp000': 40.783868215947145,\n",
              "  'CPUUsage_Exp/eval_phase/test_stream/Task000/Exp001': 50.34309692480032,\n",
              "  'CPUUsage_Exp/eval_phase/test_stream/Task000/Exp002': 52.10598523151003,\n",
              "  'CPUUsage_Exp/eval_phase/test_stream/Task000/Exp003': 52.9154785306622,\n",
              "  'CPUUsage_Exp/eval_phase/test_stream/Task000/Exp004': 51.60524960942213,\n",
              "  'DiskUsage_Epoch/train_phase/train_stream/Task000': 55532.32421875,\n",
              "  'DiskUsage_Exp/eval_phase/test_stream/Task000/Exp000': 55532.32421875,\n",
              "  'DiskUsage_Exp/eval_phase/test_stream/Task000/Exp001': 55532.32421875,\n",
              "  'DiskUsage_Exp/eval_phase/test_stream/Task000/Exp002': 55532.32421875,\n",
              "  'DiskUsage_Exp/eval_phase/test_stream/Task000/Exp003': 55532.32421875,\n",
              "  'DiskUsage_Exp/eval_phase/test_stream/Task000/Exp004': 55532.32421875,\n",
              "  'DiskUsage_Stream/eval_phase/test_stream/Task000': 55532.32421875,\n",
              "  'MaxGPU0Usage_Epoch/train_phase/train_stream/Task000': 0,\n",
              "  'MaxGPU0Usage_Experience/eval_phase/test_stream/Task000/Exp000': 0,\n",
              "  'MaxGPU0Usage_Experience/eval_phase/test_stream/Task000/Exp001': 0,\n",
              "  'MaxGPU0Usage_Experience/eval_phase/test_stream/Task000/Exp002': 0,\n",
              "  'MaxGPU0Usage_Experience/eval_phase/test_stream/Task000/Exp003': 0,\n",
              "  'MaxGPU0Usage_Experience/eval_phase/test_stream/Task000/Exp004': 0,\n",
              "  'MaxGPU0Usage_Stream/eval_phase/test_stream/Task000': 0,\n",
              "  'MaxRAMUsage_Epoch/train_phase/train_stream/Task000': 3306.2265625,\n",
              "  'MaxRAMUsage_Experience/eval_phase/test_stream/Task000/Exp000': 3306.72265625,\n",
              "  'MaxRAMUsage_Experience/eval_phase/test_stream/Task000/Exp001': 3306.73828125,\n",
              "  'MaxRAMUsage_Experience/eval_phase/test_stream/Task000/Exp002': 3306.73046875,\n",
              "  'MaxRAMUsage_Experience/eval_phase/test_stream/Task000/Exp003': 3306.73046875,\n",
              "  'MaxRAMUsage_Experience/eval_phase/test_stream/Task000/Exp004': 3305.71875,\n",
              "  'MaxRAMUsage_Stream/eval_phase/test_stream/Task000': 3306.73828125,\n",
              "  'Time_Epoch/train_phase/train_stream/Task000': 18.936431950000042,\n",
              "  'Time_Exp/eval_phase/test_stream/Task000/Exp000': 1.353511344000026,\n",
              "  'Time_Exp/eval_phase/test_stream/Task000/Exp001': 1.2722130979998383,\n",
              "  'Time_Exp/eval_phase/test_stream/Task000/Exp002': 1.1328172430000905,\n",
              "  'Time_Exp/eval_phase/test_stream/Task000/Exp003': 1.2310473700001694,\n",
              "  'Time_Exp/eval_phase/test_stream/Task000/Exp004': 1.1457790970000588,\n",
              "  'Top1_Acc_Epoch/train_phase/train_stream/Task000': 0.8664491707969969,\n",
              "  'Top1_Acc_Exp/eval_phase/test_stream/Task000/Exp000': 0.9181726907630522,\n",
              "  'Top1_Acc_Exp/eval_phase/test_stream/Task000/Exp001': 0.9344716197508076,\n",
              "  'Top1_Acc_Exp/eval_phase/test_stream/Task000/Exp002': 0.8890569843671206,\n",
              "  'Top1_Acc_Exp/eval_phase/test_stream/Task000/Exp003': 0.8926282051282052,\n",
              "  'Top1_Acc_Exp/eval_phase/test_stream/Task000/Exp004': 0.4446122860020141,\n",
              "  'Top1_Acc_Stream/eval_phase/test_stream/Task000': 0.8171},\n",
              " {'CPUUsage_Exp/eval_phase/test_stream/Task000/Exp000': 50.564024237764684,\n",
              "  'CPUUsage_Exp/eval_phase/test_stream/Task000/Exp001': 53.68545160356445,\n",
              "  'CPUUsage_Exp/eval_phase/test_stream/Task000/Exp002': 49.733993460980805,\n",
              "  'CPUUsage_Exp/eval_phase/test_stream/Task000/Exp003': 52.38263731434922,\n",
              "  'CPUUsage_Exp/eval_phase/test_stream/Task000/Exp004': 49.47668678663903,\n",
              "  'DiskUsage_Epoch/train_phase/train_stream/Task000': 55532.32421875,\n",
              "  'DiskUsage_Exp/eval_phase/test_stream/Task000/Exp000': 55532.32421875,\n",
              "  'DiskUsage_Exp/eval_phase/test_stream/Task000/Exp001': 55532.32421875,\n",
              "  'DiskUsage_Exp/eval_phase/test_stream/Task000/Exp002': 55532.32421875,\n",
              "  'DiskUsage_Exp/eval_phase/test_stream/Task000/Exp003': 55532.32421875,\n",
              "  'DiskUsage_Exp/eval_phase/test_stream/Task000/Exp004': 55532.32421875,\n",
              "  'DiskUsage_Stream/eval_phase/test_stream/Task000': 55532.32421875,\n",
              "  'MaxGPU0Usage_Epoch/train_phase/train_stream/Task000': 0,\n",
              "  'MaxGPU0Usage_Experience/eval_phase/test_stream/Task000/Exp000': 0,\n",
              "  'MaxGPU0Usage_Experience/eval_phase/test_stream/Task000/Exp001': 0,\n",
              "  'MaxGPU0Usage_Experience/eval_phase/test_stream/Task000/Exp002': 0,\n",
              "  'MaxGPU0Usage_Experience/eval_phase/test_stream/Task000/Exp003': 0,\n",
              "  'MaxGPU0Usage_Experience/eval_phase/test_stream/Task000/Exp004': 0,\n",
              "  'MaxGPU0Usage_Stream/eval_phase/test_stream/Task000': 0,\n",
              "  'MaxRAMUsage_Epoch/train_phase/train_stream/Task000': 3306.2890625,\n",
              "  'MaxRAMUsage_Experience/eval_phase/test_stream/Task000/Exp000': 3306.0390625,\n",
              "  'MaxRAMUsage_Experience/eval_phase/test_stream/Task000/Exp001': 3306.0625,\n",
              "  'MaxRAMUsage_Experience/eval_phase/test_stream/Task000/Exp002': 3306.0390625,\n",
              "  'MaxRAMUsage_Experience/eval_phase/test_stream/Task000/Exp003': 3306.046875,\n",
              "  'MaxRAMUsage_Experience/eval_phase/test_stream/Task000/Exp004': 3306.05078125,\n",
              "  'MaxRAMUsage_Stream/eval_phase/test_stream/Task000': 3306.0625,\n",
              "  'Time_Epoch/train_phase/train_stream/Task000': 23.808085892999998,\n",
              "  'Time_Exp/eval_phase/test_stream/Task000/Exp000': 1.207431040000074,\n",
              "  'Time_Exp/eval_phase/test_stream/Task000/Exp001': 1.3048031700000138,\n",
              "  'Time_Exp/eval_phase/test_stream/Task000/Exp002': 1.12661531200024,\n",
              "  'Time_Exp/eval_phase/test_stream/Task000/Exp003': 1.1272696790001646,\n",
              "  'Time_Exp/eval_phase/test_stream/Task000/Exp004': 1.1324481850001575,\n",
              "  'Top1_Acc_Epoch/train_phase/train_stream/Task000': 0.8700833333333333,\n",
              "  'Top1_Acc_Exp/eval_phase/test_stream/Task000/Exp000': 0.9156626506024096,\n",
              "  'Top1_Acc_Exp/eval_phase/test_stream/Task000/Exp001': 0.9261652053530226,\n",
              "  'Top1_Acc_Exp/eval_phase/test_stream/Task000/Exp002': 0.8784669692385275,\n",
              "  'Top1_Acc_Exp/eval_phase/test_stream/Task000/Exp003': 0.9017094017094017,\n",
              "  'Top1_Acc_Exp/eval_phase/test_stream/Task000/Exp004': 0.9078549848942599,\n",
              "  'Top1_Acc_Stream/eval_phase/test_stream/Task000': 0.9064}]"
            ]
          },
          "metadata": {},
          "execution_count": 21
        }
      ]
    },
    {
      "cell_type": "markdown",
      "source": [
        "## CL Strategy (Random Replay)"
      ],
      "metadata": {
        "id": "w-fi-9hjlt90"
      }
    },
    {
      "cell_type": "code",
      "source": [
        "# CREATE THE STRATEGY INSTANCE (NAIVE)\n",
        "cl_strategy_replay = Replay(\n",
        "            model, SGD(model.parameters(), lr=0.001, momentum=0.9),\n",
        "            CrossEntropyLoss(), train_mb_size=500, train_epochs=1, eval_mb_size=100,\n",
        "            evaluator=eval_plugin)\n",
        "\n",
        "# TRAINING LOOP\n",
        "print('Starting experiment...')\n",
        "results_cl = []\n",
        "for experience in scenario.train_stream:\n",
        "    print(\"Start of experience: \", experience.current_experience)\n",
        "    print(\"Current Classes: \", experience.classes_in_this_experience)\n",
        "\n",
        "    # train returns a dictionary which contains all the metric values\n",
        "    res = cl_strategy_replay.train(experience, num_workers=4)\n",
        "    print('Training completed')\n",
        "\n",
        "    print('Computing accuracy on the whole test set')\n",
        "    # eval also returns a dictionary which contains all the metric values\n",
        "    results_cl.append(cl_strategy_replay.eval(scenario.test_stream, num_workers=4))"
      ],
      "metadata": {
        "colab": {
          "base_uri": "https://localhost:8080/"
        },
        "id": "EHdmqFcllzeV",
        "outputId": "6c86a187-6722-42a4-f00e-db115a42e308"
      },
      "execution_count": 22,
      "outputs": [
        {
          "output_type": "stream",
          "name": "stdout",
          "text": [
            "Starting experiment...\n",
            "Start of experience:  0\n",
            "Current Classes:  [3, 4]\n",
            "-- >> Start of training phase << --\n",
            "-- Starting training on experience 0 (Task 0) from train stream --\n"
          ]
        },
        {
          "output_type": "stream",
          "name": "stderr",
          "text": [
            "/usr/local/lib/python3.7/dist-packages/torch/utils/data/dataloader.py:481: UserWarning: This DataLoader will create 4 worker processes in total. Our suggested max number of worker in current system is 2, which is smaller than what this DataLoader is going to create. Please be aware that excessive worker creation might get DataLoader running slow or even freeze, lower the worker number to avoid potential slowness/freeze if necessary.\n",
            "  cpuset_checked))\n"
          ]
        },
        {
          "output_type": "stream",
          "name": "stdout",
          "text": [
            "100%|██████████| 24/24 [00:04<00:00,  5.21it/s]\n",
            "Epoch 0 ended.\n",
            "\tDiskUsage_Epoch/train_phase/train_stream/Task000 = 55532.3242\n",
            "\tMaxGPU0Usage_Epoch/train_phase/train_stream/Task000 = 0\n",
            "\tMaxRAMUsage_Epoch/train_phase/train_stream/Task000 = 3306.0352\n",
            "\tTime_Epoch/train_phase/train_stream/Task000 = 4.5296\n",
            "\tTop1_Acc_Epoch/train_phase/train_stream/Task000 = 0.9305\n",
            "-- >> End of training phase << --\n",
            "Training completed\n",
            "Computing accuracy on the whole test set\n",
            "-- >> Start of eval phase << --\n",
            "-- Starting eval on experience 0 (Task 0) from test stream --\n"
          ]
        },
        {
          "output_type": "stream",
          "name": "stderr",
          "text": [
            "/usr/local/lib/python3.7/dist-packages/torch/utils/data/dataloader.py:481: UserWarning: This DataLoader will create 4 worker processes in total. Our suggested max number of worker in current system is 2, which is smaller than what this DataLoader is going to create. Please be aware that excessive worker creation might get DataLoader running slow or even freeze, lower the worker number to avoid potential slowness/freeze if necessary.\n",
            "  cpuset_checked))\n"
          ]
        },
        {
          "output_type": "stream",
          "name": "stdout",
          "text": [
            "100%|██████████| 20/20 [00:01<00:00, 15.89it/s]\n",
            "> Eval on experience 0 (Task 0) from test stream ended.\n",
            "\tCPUUsage_Exp/eval_phase/test_stream/Task000/Exp000 = 51.1633\n",
            "\tDiskUsage_Exp/eval_phase/test_stream/Task000/Exp000 = 55532.3242\n",
            "\tMaxGPU0Usage_Experience/eval_phase/test_stream/Task000/Exp000 = 0\n",
            "\tMaxRAMUsage_Experience/eval_phase/test_stream/Task000/Exp000 = 3306.8008\n",
            "\tTime_Exp/eval_phase/test_stream/Task000/Exp000 = 1.1930\n",
            "\tTop1_Acc_Exp/eval_phase/test_stream/Task000/Exp000 = 0.9819\n",
            "-- Starting eval on experience 1 (Task 0) from test stream --\n"
          ]
        },
        {
          "output_type": "stream",
          "name": "stderr",
          "text": [
            "/usr/local/lib/python3.7/dist-packages/torch/utils/data/dataloader.py:481: UserWarning: This DataLoader will create 4 worker processes in total. Our suggested max number of worker in current system is 2, which is smaller than what this DataLoader is going to create. Please be aware that excessive worker creation might get DataLoader running slow or even freeze, lower the worker number to avoid potential slowness/freeze if necessary.\n",
            "  cpuset_checked))\n"
          ]
        },
        {
          "output_type": "stream",
          "name": "stdout",
          "text": [
            "100%|██████████| 22/22 [00:01<00:00, 15.75it/s]\n",
            "> Eval on experience 1 (Task 0) from test stream ended.\n",
            "\tCPUUsage_Exp/eval_phase/test_stream/Task000/Exp001 = 52.9152\n",
            "\tDiskUsage_Exp/eval_phase/test_stream/Task000/Exp001 = 55532.3242\n",
            "\tMaxGPU0Usage_Experience/eval_phase/test_stream/Task000/Exp001 = 0\n",
            "\tMaxRAMUsage_Experience/eval_phase/test_stream/Task000/Exp001 = 3306.8086\n",
            "\tTime_Exp/eval_phase/test_stream/Task000/Exp001 = 1.3231\n",
            "\tTop1_Acc_Exp/eval_phase/test_stream/Task000/Exp001 = 0.8772\n",
            "-- Starting eval on experience 2 (Task 0) from test stream --\n"
          ]
        },
        {
          "output_type": "stream",
          "name": "stderr",
          "text": [
            "/usr/local/lib/python3.7/dist-packages/torch/utils/data/dataloader.py:481: UserWarning: This DataLoader will create 4 worker processes in total. Our suggested max number of worker in current system is 2, which is smaller than what this DataLoader is going to create. Please be aware that excessive worker creation might get DataLoader running slow or even freeze, lower the worker number to avoid potential slowness/freeze if necessary.\n",
            "  cpuset_checked))\n"
          ]
        },
        {
          "output_type": "stream",
          "name": "stdout",
          "text": [
            "100%|██████████| 20/20 [00:01<00:00, 15.90it/s]\n",
            "> Eval on experience 2 (Task 0) from test stream ended.\n",
            "\tCPUUsage_Exp/eval_phase/test_stream/Task000/Exp002 = 52.7651\n",
            "\tDiskUsage_Exp/eval_phase/test_stream/Task000/Exp002 = 55532.3242\n",
            "\tMaxGPU0Usage_Experience/eval_phase/test_stream/Task000/Exp002 = 0\n",
            "\tMaxRAMUsage_Experience/eval_phase/test_stream/Task000/Exp002 = 3306.8242\n",
            "\tTime_Exp/eval_phase/test_stream/Task000/Exp002 = 1.1183\n",
            "\tTop1_Acc_Exp/eval_phase/test_stream/Task000/Exp002 = 0.6072\n",
            "-- Starting eval on experience 3 (Task 0) from test stream --\n"
          ]
        },
        {
          "output_type": "stream",
          "name": "stderr",
          "text": [
            "/usr/local/lib/python3.7/dist-packages/torch/utils/data/dataloader.py:481: UserWarning: This DataLoader will create 4 worker processes in total. Our suggested max number of worker in current system is 2, which is smaller than what this DataLoader is going to create. Please be aware that excessive worker creation might get DataLoader running slow or even freeze, lower the worker number to avoid potential slowness/freeze if necessary.\n",
            "  cpuset_checked))\n"
          ]
        },
        {
          "output_type": "stream",
          "name": "stdout",
          "text": [
            "100%|██████████| 19/19 [00:01<00:00, 16.23it/s]\n",
            "> Eval on experience 3 (Task 0) from test stream ended.\n",
            "\tCPUUsage_Exp/eval_phase/test_stream/Task000/Exp003 = 50.6537\n",
            "\tDiskUsage_Exp/eval_phase/test_stream/Task000/Exp003 = 55532.3242\n",
            "\tMaxGPU0Usage_Experience/eval_phase/test_stream/Task000/Exp003 = 0\n",
            "\tMaxRAMUsage_Experience/eval_phase/test_stream/Task000/Exp003 = 3306.8086\n",
            "\tTime_Exp/eval_phase/test_stream/Task000/Exp003 = 1.1084\n",
            "\tTop1_Acc_Exp/eval_phase/test_stream/Task000/Exp003 = 0.7756\n",
            "-- Starting eval on experience 4 (Task 0) from test stream --\n"
          ]
        },
        {
          "output_type": "stream",
          "name": "stderr",
          "text": [
            "/usr/local/lib/python3.7/dist-packages/torch/utils/data/dataloader.py:481: UserWarning: This DataLoader will create 4 worker processes in total. Our suggested max number of worker in current system is 2, which is smaller than what this DataLoader is going to create. Please be aware that excessive worker creation might get DataLoader running slow or even freeze, lower the worker number to avoid potential slowness/freeze if necessary.\n",
            "  cpuset_checked))\n"
          ]
        },
        {
          "output_type": "stream",
          "name": "stdout",
          "text": [
            "100%|██████████| 20/20 [00:01<00:00, 15.65it/s]\n",
            "> Eval on experience 4 (Task 0) from test stream ended.\n",
            "\tCPUUsage_Exp/eval_phase/test_stream/Task000/Exp004 = 51.3112\n",
            "\tDiskUsage_Exp/eval_phase/test_stream/Task000/Exp004 = 55532.3242\n",
            "\tMaxGPU0Usage_Experience/eval_phase/test_stream/Task000/Exp004 = 0\n",
            "\tMaxRAMUsage_Experience/eval_phase/test_stream/Task000/Exp004 = 3306.8086\n",
            "\tTime_Exp/eval_phase/test_stream/Task000/Exp004 = 1.1503\n",
            "\tTop1_Acc_Exp/eval_phase/test_stream/Task000/Exp004 = 0.8570\n",
            "-- >> End of eval phase << --\n",
            "\tDiskUsage_Stream/eval_phase/test_stream/Task000 = 55532.3242\n",
            "\tMaxGPU0Usage_Stream/eval_phase/test_stream/Task000 = 0\n",
            "\tMaxRAMUsage_Stream/eval_phase/test_stream/Task000 = 3306.8242\n",
            "\tTop1_Acc_Stream/eval_phase/test_stream/Task000 = 0.8215\n",
            "Start of experience:  1\n",
            "Current Classes:  [1, 2]\n",
            "-- >> Start of training phase << --\n",
            "-- Starting training on experience 1 (Task 0) from train stream --\n"
          ]
        },
        {
          "output_type": "stream",
          "name": "stderr",
          "text": [
            "/usr/local/lib/python3.7/dist-packages/torch/utils/data/dataloader.py:481: UserWarning: This DataLoader will create 4 worker processes in total. Our suggested max number of worker in current system is 2, which is smaller than what this DataLoader is going to create. Please be aware that excessive worker creation might get DataLoader running slow or even freeze, lower the worker number to avoid potential slowness/freeze if necessary.\n",
            "  cpuset_checked))\n"
          ]
        },
        {
          "output_type": "stream",
          "name": "stdout",
          "text": [
            "  2%|▏         | 1/51 [00:01<00:50,  1.01s/it]"
          ]
        },
        {
          "output_type": "stream",
          "name": "stderr",
          "text": [
            "/usr/local/lib/python3.7/dist-packages/torch/utils/data/dataloader.py:481: UserWarning: This DataLoader will create 4 worker processes in total. Our suggested max number of worker in current system is 2, which is smaller than what this DataLoader is going to create. Please be aware that excessive worker creation might get DataLoader running slow or even freeze, lower the worker number to avoid potential slowness/freeze if necessary.\n",
            "  cpuset_checked))\n"
          ]
        },
        {
          "output_type": "stream",
          "name": "stdout",
          "text": [
            "  4%|▍         | 2/51 [00:01<00:34,  1.43it/s]"
          ]
        },
        {
          "output_type": "stream",
          "name": "stderr",
          "text": [
            "/usr/local/lib/python3.7/dist-packages/torch/utils/data/dataloader.py:481: UserWarning: This DataLoader will create 4 worker processes in total. Our suggested max number of worker in current system is 2, which is smaller than what this DataLoader is going to create. Please be aware that excessive worker creation might get DataLoader running slow or even freeze, lower the worker number to avoid potential slowness/freeze if necessary.\n",
            "  cpuset_checked))\n"
          ]
        },
        {
          "output_type": "stream",
          "name": "stdout",
          "text": [
            "  6%|▌         | 3/51 [00:01<00:27,  1.72it/s]"
          ]
        },
        {
          "output_type": "stream",
          "name": "stderr",
          "text": [
            "/usr/local/lib/python3.7/dist-packages/torch/utils/data/dataloader.py:481: UserWarning: This DataLoader will create 4 worker processes in total. Our suggested max number of worker in current system is 2, which is smaller than what this DataLoader is going to create. Please be aware that excessive worker creation might get DataLoader running slow or even freeze, lower the worker number to avoid potential slowness/freeze if necessary.\n",
            "  cpuset_checked))\n"
          ]
        },
        {
          "output_type": "stream",
          "name": "stdout",
          "text": [
            "  8%|▊         | 4/51 [00:02<00:24,  1.91it/s]"
          ]
        },
        {
          "output_type": "stream",
          "name": "stderr",
          "text": [
            "/usr/local/lib/python3.7/dist-packages/torch/utils/data/dataloader.py:481: UserWarning: This DataLoader will create 4 worker processes in total. Our suggested max number of worker in current system is 2, which is smaller than what this DataLoader is going to create. Please be aware that excessive worker creation might get DataLoader running slow or even freeze, lower the worker number to avoid potential slowness/freeze if necessary.\n",
            "  cpuset_checked))\n"
          ]
        },
        {
          "output_type": "stream",
          "name": "stdout",
          "text": [
            " 10%|▉         | 5/51 [00:02<00:23,  1.99it/s]"
          ]
        },
        {
          "output_type": "stream",
          "name": "stderr",
          "text": [
            "/usr/local/lib/python3.7/dist-packages/torch/utils/data/dataloader.py:481: UserWarning: This DataLoader will create 4 worker processes in total. Our suggested max number of worker in current system is 2, which is smaller than what this DataLoader is going to create. Please be aware that excessive worker creation might get DataLoader running slow or even freeze, lower the worker number to avoid potential slowness/freeze if necessary.\n",
            "  cpuset_checked))\n"
          ]
        },
        {
          "output_type": "stream",
          "name": "stdout",
          "text": [
            " 12%|█▏        | 6/51 [00:03<00:20,  2.15it/s]"
          ]
        },
        {
          "output_type": "stream",
          "name": "stderr",
          "text": [
            "/usr/local/lib/python3.7/dist-packages/torch/utils/data/dataloader.py:481: UserWarning: This DataLoader will create 4 worker processes in total. Our suggested max number of worker in current system is 2, which is smaller than what this DataLoader is going to create. Please be aware that excessive worker creation might get DataLoader running slow or even freeze, lower the worker number to avoid potential slowness/freeze if necessary.\n",
            "  cpuset_checked))\n"
          ]
        },
        {
          "output_type": "stream",
          "name": "stdout",
          "text": [
            " 14%|█▎        | 7/51 [00:03<00:20,  2.19it/s]"
          ]
        },
        {
          "output_type": "stream",
          "name": "stderr",
          "text": [
            "/usr/local/lib/python3.7/dist-packages/torch/utils/data/dataloader.py:481: UserWarning: This DataLoader will create 4 worker processes in total. Our suggested max number of worker in current system is 2, which is smaller than what this DataLoader is going to create. Please be aware that excessive worker creation might get DataLoader running slow or even freeze, lower the worker number to avoid potential slowness/freeze if necessary.\n",
            "  cpuset_checked))\n"
          ]
        },
        {
          "output_type": "stream",
          "name": "stdout",
          "text": [
            " 18%|█▊        | 9/51 [00:04<00:18,  2.23it/s]"
          ]
        },
        {
          "output_type": "stream",
          "name": "stderr",
          "text": [
            "/usr/local/lib/python3.7/dist-packages/torch/utils/data/dataloader.py:481: UserWarning: This DataLoader will create 4 worker processes in total. Our suggested max number of worker in current system is 2, which is smaller than what this DataLoader is going to create. Please be aware that excessive worker creation might get DataLoader running slow or even freeze, lower the worker number to avoid potential slowness/freeze if necessary.\n",
            "  cpuset_checked))\n"
          ]
        },
        {
          "output_type": "stream",
          "name": "stdout",
          "text": [
            " 20%|█▉        | 10/51 [00:05<00:18,  2.22it/s]"
          ]
        },
        {
          "output_type": "stream",
          "name": "stderr",
          "text": [
            "/usr/local/lib/python3.7/dist-packages/torch/utils/data/dataloader.py:481: UserWarning: This DataLoader will create 4 worker processes in total. Our suggested max number of worker in current system is 2, which is smaller than what this DataLoader is going to create. Please be aware that excessive worker creation might get DataLoader running slow or even freeze, lower the worker number to avoid potential slowness/freeze if necessary.\n",
            "  cpuset_checked))\n"
          ]
        },
        {
          "output_type": "stream",
          "name": "stdout",
          "text": [
            " 22%|██▏       | 11/51 [00:05<00:17,  2.23it/s]"
          ]
        },
        {
          "output_type": "stream",
          "name": "stderr",
          "text": [
            "/usr/local/lib/python3.7/dist-packages/torch/utils/data/dataloader.py:481: UserWarning: This DataLoader will create 4 worker processes in total. Our suggested max number of worker in current system is 2, which is smaller than what this DataLoader is going to create. Please be aware that excessive worker creation might get DataLoader running slow or even freeze, lower the worker number to avoid potential slowness/freeze if necessary.\n",
            "  cpuset_checked))\n"
          ]
        },
        {
          "output_type": "stream",
          "name": "stdout",
          "text": [
            " 24%|██▎       | 12/51 [00:05<00:17,  2.22it/s]"
          ]
        },
        {
          "output_type": "stream",
          "name": "stderr",
          "text": [
            "/usr/local/lib/python3.7/dist-packages/torch/utils/data/dataloader.py:481: UserWarning: This DataLoader will create 4 worker processes in total. Our suggested max number of worker in current system is 2, which is smaller than what this DataLoader is going to create. Please be aware that excessive worker creation might get DataLoader running slow or even freeze, lower the worker number to avoid potential slowness/freeze if necessary.\n",
            "  cpuset_checked))\n"
          ]
        },
        {
          "output_type": "stream",
          "name": "stdout",
          "text": [
            " 25%|██▌       | 13/51 [00:06<00:16,  2.26it/s]"
          ]
        },
        {
          "output_type": "stream",
          "name": "stderr",
          "text": [
            "/usr/local/lib/python3.7/dist-packages/torch/utils/data/dataloader.py:481: UserWarning: This DataLoader will create 4 worker processes in total. Our suggested max number of worker in current system is 2, which is smaller than what this DataLoader is going to create. Please be aware that excessive worker creation might get DataLoader running slow or even freeze, lower the worker number to avoid potential slowness/freeze if necessary.\n",
            "  cpuset_checked))\n"
          ]
        },
        {
          "output_type": "stream",
          "name": "stdout",
          "text": [
            " 27%|██▋       | 14/51 [00:06<00:15,  2.34it/s]"
          ]
        },
        {
          "output_type": "stream",
          "name": "stderr",
          "text": [
            "/usr/local/lib/python3.7/dist-packages/torch/utils/data/dataloader.py:481: UserWarning: This DataLoader will create 4 worker processes in total. Our suggested max number of worker in current system is 2, which is smaller than what this DataLoader is going to create. Please be aware that excessive worker creation might get DataLoader running slow or even freeze, lower the worker number to avoid potential slowness/freeze if necessary.\n",
            "  cpuset_checked))\n"
          ]
        },
        {
          "output_type": "stream",
          "name": "stdout",
          "text": [
            " 29%|██▉       | 15/51 [00:07<00:15,  2.33it/s]"
          ]
        },
        {
          "output_type": "stream",
          "name": "stderr",
          "text": [
            "/usr/local/lib/python3.7/dist-packages/torch/utils/data/dataloader.py:481: UserWarning: This DataLoader will create 4 worker processes in total. Our suggested max number of worker in current system is 2, which is smaller than what this DataLoader is going to create. Please be aware that excessive worker creation might get DataLoader running slow or even freeze, lower the worker number to avoid potential slowness/freeze if necessary.\n",
            "  cpuset_checked))\n"
          ]
        },
        {
          "output_type": "stream",
          "name": "stdout",
          "text": [
            " 33%|███▎      | 17/51 [00:08<00:14,  2.30it/s]"
          ]
        },
        {
          "output_type": "stream",
          "name": "stderr",
          "text": [
            "/usr/local/lib/python3.7/dist-packages/torch/utils/data/dataloader.py:481: UserWarning: This DataLoader will create 4 worker processes in total. Our suggested max number of worker in current system is 2, which is smaller than what this DataLoader is going to create. Please be aware that excessive worker creation might get DataLoader running slow or even freeze, lower the worker number to avoid potential slowness/freeze if necessary.\n",
            "  cpuset_checked))\n"
          ]
        },
        {
          "output_type": "stream",
          "name": "stdout",
          "text": [
            " 35%|███▌      | 18/51 [00:08<00:14,  2.28it/s]"
          ]
        },
        {
          "output_type": "stream",
          "name": "stderr",
          "text": [
            "/usr/local/lib/python3.7/dist-packages/torch/utils/data/dataloader.py:481: UserWarning: This DataLoader will create 4 worker processes in total. Our suggested max number of worker in current system is 2, which is smaller than what this DataLoader is going to create. Please be aware that excessive worker creation might get DataLoader running slow or even freeze, lower the worker number to avoid potential slowness/freeze if necessary.\n",
            "  cpuset_checked))\n"
          ]
        },
        {
          "output_type": "stream",
          "name": "stdout",
          "text": [
            " 37%|███▋      | 19/51 [00:08<00:13,  2.30it/s]"
          ]
        },
        {
          "output_type": "stream",
          "name": "stderr",
          "text": [
            "/usr/local/lib/python3.7/dist-packages/torch/utils/data/dataloader.py:481: UserWarning: This DataLoader will create 4 worker processes in total. Our suggested max number of worker in current system is 2, which is smaller than what this DataLoader is going to create. Please be aware that excessive worker creation might get DataLoader running slow or even freeze, lower the worker number to avoid potential slowness/freeze if necessary.\n",
            "  cpuset_checked))\n"
          ]
        },
        {
          "output_type": "stream",
          "name": "stdout",
          "text": [
            " 39%|███▉      | 20/51 [00:09<00:13,  2.28it/s]"
          ]
        },
        {
          "output_type": "stream",
          "name": "stderr",
          "text": [
            "/usr/local/lib/python3.7/dist-packages/torch/utils/data/dataloader.py:481: UserWarning: This DataLoader will create 4 worker processes in total. Our suggested max number of worker in current system is 2, which is smaller than what this DataLoader is going to create. Please be aware that excessive worker creation might get DataLoader running slow or even freeze, lower the worker number to avoid potential slowness/freeze if necessary.\n",
            "  cpuset_checked))\n"
          ]
        },
        {
          "output_type": "stream",
          "name": "stdout",
          "text": [
            " 41%|████      | 21/51 [00:09<00:12,  2.35it/s]"
          ]
        },
        {
          "output_type": "stream",
          "name": "stderr",
          "text": [
            "/usr/local/lib/python3.7/dist-packages/torch/utils/data/dataloader.py:481: UserWarning: This DataLoader will create 4 worker processes in total. Our suggested max number of worker in current system is 2, which is smaller than what this DataLoader is going to create. Please be aware that excessive worker creation might get DataLoader running slow or even freeze, lower the worker number to avoid potential slowness/freeze if necessary.\n",
            "  cpuset_checked))\n"
          ]
        },
        {
          "output_type": "stream",
          "name": "stdout",
          "text": [
            " 43%|████▎     | 22/51 [00:10<00:12,  2.29it/s]"
          ]
        },
        {
          "output_type": "stream",
          "name": "stderr",
          "text": [
            "/usr/local/lib/python3.7/dist-packages/torch/utils/data/dataloader.py:481: UserWarning: This DataLoader will create 4 worker processes in total. Our suggested max number of worker in current system is 2, which is smaller than what this DataLoader is going to create. Please be aware that excessive worker creation might get DataLoader running slow or even freeze, lower the worker number to avoid potential slowness/freeze if necessary.\n",
            "  cpuset_checked))\n"
          ]
        },
        {
          "output_type": "stream",
          "name": "stdout",
          "text": [
            " 45%|████▌     | 23/51 [00:10<00:12,  2.29it/s]"
          ]
        },
        {
          "output_type": "stream",
          "name": "stderr",
          "text": [
            "/usr/local/lib/python3.7/dist-packages/torch/utils/data/dataloader.py:481: UserWarning: This DataLoader will create 4 worker processes in total. Our suggested max number of worker in current system is 2, which is smaller than what this DataLoader is going to create. Please be aware that excessive worker creation might get DataLoader running slow or even freeze, lower the worker number to avoid potential slowness/freeze if necessary.\n",
            "  cpuset_checked))\n"
          ]
        },
        {
          "output_type": "stream",
          "name": "stdout",
          "text": [
            " 49%|████▉     | 25/51 [00:11<00:11,  2.24it/s]"
          ]
        },
        {
          "output_type": "stream",
          "name": "stderr",
          "text": [
            "/usr/local/lib/python3.7/dist-packages/torch/utils/data/dataloader.py:481: UserWarning: This DataLoader will create 4 worker processes in total. Our suggested max number of worker in current system is 2, which is smaller than what this DataLoader is going to create. Please be aware that excessive worker creation might get DataLoader running slow or even freeze, lower the worker number to avoid potential slowness/freeze if necessary.\n",
            "  cpuset_checked))\n"
          ]
        },
        {
          "output_type": "stream",
          "name": "stdout",
          "text": [
            " 51%|█████     | 26/51 [00:12<00:11,  2.25it/s]"
          ]
        },
        {
          "output_type": "stream",
          "name": "stderr",
          "text": [
            "/usr/local/lib/python3.7/dist-packages/torch/utils/data/dataloader.py:481: UserWarning: This DataLoader will create 4 worker processes in total. Our suggested max number of worker in current system is 2, which is smaller than what this DataLoader is going to create. Please be aware that excessive worker creation might get DataLoader running slow or even freeze, lower the worker number to avoid potential slowness/freeze if necessary.\n",
            "  cpuset_checked))\n"
          ]
        },
        {
          "output_type": "stream",
          "name": "stdout",
          "text": [
            " 53%|█████▎    | 27/51 [00:12<00:10,  2.23it/s]"
          ]
        },
        {
          "output_type": "stream",
          "name": "stderr",
          "text": [
            "/usr/local/lib/python3.7/dist-packages/torch/utils/data/dataloader.py:481: UserWarning: This DataLoader will create 4 worker processes in total. Our suggested max number of worker in current system is 2, which is smaller than what this DataLoader is going to create. Please be aware that excessive worker creation might get DataLoader running slow or even freeze, lower the worker number to avoid potential slowness/freeze if necessary.\n",
            "  cpuset_checked))\n"
          ]
        },
        {
          "output_type": "stream",
          "name": "stdout",
          "text": [
            " 55%|█████▍    | 28/51 [00:12<00:10,  2.26it/s]"
          ]
        },
        {
          "output_type": "stream",
          "name": "stderr",
          "text": [
            "/usr/local/lib/python3.7/dist-packages/torch/utils/data/dataloader.py:481: UserWarning: This DataLoader will create 4 worker processes in total. Our suggested max number of worker in current system is 2, which is smaller than what this DataLoader is going to create. Please be aware that excessive worker creation might get DataLoader running slow or even freeze, lower the worker number to avoid potential slowness/freeze if necessary.\n",
            "  cpuset_checked))\n"
          ]
        },
        {
          "output_type": "stream",
          "name": "stdout",
          "text": [
            " 57%|█████▋    | 29/51 [00:13<00:09,  2.25it/s]"
          ]
        },
        {
          "output_type": "stream",
          "name": "stderr",
          "text": [
            "/usr/local/lib/python3.7/dist-packages/torch/utils/data/dataloader.py:481: UserWarning: This DataLoader will create 4 worker processes in total. Our suggested max number of worker in current system is 2, which is smaller than what this DataLoader is going to create. Please be aware that excessive worker creation might get DataLoader running slow or even freeze, lower the worker number to avoid potential slowness/freeze if necessary.\n",
            "  cpuset_checked))\n"
          ]
        },
        {
          "output_type": "stream",
          "name": "stdout",
          "text": [
            " 59%|█████▉    | 30/51 [00:13<00:09,  2.31it/s]"
          ]
        },
        {
          "output_type": "stream",
          "name": "stderr",
          "text": [
            "/usr/local/lib/python3.7/dist-packages/torch/utils/data/dataloader.py:481: UserWarning: This DataLoader will create 4 worker processes in total. Our suggested max number of worker in current system is 2, which is smaller than what this DataLoader is going to create. Please be aware that excessive worker creation might get DataLoader running slow or even freeze, lower the worker number to avoid potential slowness/freeze if necessary.\n",
            "  cpuset_checked))\n"
          ]
        },
        {
          "output_type": "stream",
          "name": "stdout",
          "text": [
            " 61%|██████    | 31/51 [00:14<00:08,  2.27it/s]"
          ]
        },
        {
          "output_type": "stream",
          "name": "stderr",
          "text": [
            "/usr/local/lib/python3.7/dist-packages/torch/utils/data/dataloader.py:481: UserWarning: This DataLoader will create 4 worker processes in total. Our suggested max number of worker in current system is 2, which is smaller than what this DataLoader is going to create. Please be aware that excessive worker creation might get DataLoader running slow or even freeze, lower the worker number to avoid potential slowness/freeze if necessary.\n",
            "  cpuset_checked))\n"
          ]
        },
        {
          "output_type": "stream",
          "name": "stdout",
          "text": [
            " 65%|██████▍   | 33/51 [00:15<00:07,  2.28it/s]"
          ]
        },
        {
          "output_type": "stream",
          "name": "stderr",
          "text": [
            "/usr/local/lib/python3.7/dist-packages/torch/utils/data/dataloader.py:481: UserWarning: This DataLoader will create 4 worker processes in total. Our suggested max number of worker in current system is 2, which is smaller than what this DataLoader is going to create. Please be aware that excessive worker creation might get DataLoader running slow or even freeze, lower the worker number to avoid potential slowness/freeze if necessary.\n",
            "  cpuset_checked))\n"
          ]
        },
        {
          "output_type": "stream",
          "name": "stdout",
          "text": [
            " 67%|██████▋   | 34/51 [00:15<00:07,  2.29it/s]"
          ]
        },
        {
          "output_type": "stream",
          "name": "stderr",
          "text": [
            "/usr/local/lib/python3.7/dist-packages/torch/utils/data/dataloader.py:481: UserWarning: This DataLoader will create 4 worker processes in total. Our suggested max number of worker in current system is 2, which is smaller than what this DataLoader is going to create. Please be aware that excessive worker creation might get DataLoader running slow or even freeze, lower the worker number to avoid potential slowness/freeze if necessary.\n",
            "  cpuset_checked))\n"
          ]
        },
        {
          "output_type": "stream",
          "name": "stdout",
          "text": [
            " 69%|██████▊   | 35/51 [00:15<00:06,  2.30it/s]"
          ]
        },
        {
          "output_type": "stream",
          "name": "stderr",
          "text": [
            "/usr/local/lib/python3.7/dist-packages/torch/utils/data/dataloader.py:481: UserWarning: This DataLoader will create 4 worker processes in total. Our suggested max number of worker in current system is 2, which is smaller than what this DataLoader is going to create. Please be aware that excessive worker creation might get DataLoader running slow or even freeze, lower the worker number to avoid potential slowness/freeze if necessary.\n",
            "  cpuset_checked))\n"
          ]
        },
        {
          "output_type": "stream",
          "name": "stdout",
          "text": [
            " 71%|███████   | 36/51 [00:16<00:06,  2.27it/s]"
          ]
        },
        {
          "output_type": "stream",
          "name": "stderr",
          "text": [
            "/usr/local/lib/python3.7/dist-packages/torch/utils/data/dataloader.py:481: UserWarning: This DataLoader will create 4 worker processes in total. Our suggested max number of worker in current system is 2, which is smaller than what this DataLoader is going to create. Please be aware that excessive worker creation might get DataLoader running slow or even freeze, lower the worker number to avoid potential slowness/freeze if necessary.\n",
            "  cpuset_checked))\n"
          ]
        },
        {
          "output_type": "stream",
          "name": "stdout",
          "text": [
            " 73%|███████▎  | 37/51 [00:16<00:06,  2.26it/s]"
          ]
        },
        {
          "output_type": "stream",
          "name": "stderr",
          "text": [
            "/usr/local/lib/python3.7/dist-packages/torch/utils/data/dataloader.py:481: UserWarning: This DataLoader will create 4 worker processes in total. Our suggested max number of worker in current system is 2, which is smaller than what this DataLoader is going to create. Please be aware that excessive worker creation might get DataLoader running slow or even freeze, lower the worker number to avoid potential slowness/freeze if necessary.\n",
            "  cpuset_checked))\n"
          ]
        },
        {
          "output_type": "stream",
          "name": "stdout",
          "text": [
            " 75%|███████▍  | 38/51 [00:17<00:05,  2.24it/s]"
          ]
        },
        {
          "output_type": "stream",
          "name": "stderr",
          "text": [
            "/usr/local/lib/python3.7/dist-packages/torch/utils/data/dataloader.py:481: UserWarning: This DataLoader will create 4 worker processes in total. Our suggested max number of worker in current system is 2, which is smaller than what this DataLoader is going to create. Please be aware that excessive worker creation might get DataLoader running slow or even freeze, lower the worker number to avoid potential slowness/freeze if necessary.\n",
            "  cpuset_checked))\n"
          ]
        },
        {
          "output_type": "stream",
          "name": "stdout",
          "text": [
            " 76%|███████▋  | 39/51 [00:17<00:05,  2.28it/s]"
          ]
        },
        {
          "output_type": "stream",
          "name": "stderr",
          "text": [
            "/usr/local/lib/python3.7/dist-packages/torch/utils/data/dataloader.py:481: UserWarning: This DataLoader will create 4 worker processes in total. Our suggested max number of worker in current system is 2, which is smaller than what this DataLoader is going to create. Please be aware that excessive worker creation might get DataLoader running slow or even freeze, lower the worker number to avoid potential slowness/freeze if necessary.\n",
            "  cpuset_checked))\n"
          ]
        },
        {
          "output_type": "stream",
          "name": "stdout",
          "text": [
            " 78%|███████▊  | 40/51 [00:18<00:04,  2.25it/s]"
          ]
        },
        {
          "output_type": "stream",
          "name": "stderr",
          "text": [
            "/usr/local/lib/python3.7/dist-packages/torch/utils/data/dataloader.py:481: UserWarning: This DataLoader will create 4 worker processes in total. Our suggested max number of worker in current system is 2, which is smaller than what this DataLoader is going to create. Please be aware that excessive worker creation might get DataLoader running slow or even freeze, lower the worker number to avoid potential slowness/freeze if necessary.\n",
            "  cpuset_checked))\n"
          ]
        },
        {
          "output_type": "stream",
          "name": "stdout",
          "text": [
            " 80%|████████  | 41/51 [00:18<00:04,  2.21it/s]"
          ]
        },
        {
          "output_type": "stream",
          "name": "stderr",
          "text": [
            "/usr/local/lib/python3.7/dist-packages/torch/utils/data/dataloader.py:481: UserWarning: This DataLoader will create 4 worker processes in total. Our suggested max number of worker in current system is 2, which is smaller than what this DataLoader is going to create. Please be aware that excessive worker creation might get DataLoader running slow or even freeze, lower the worker number to avoid potential slowness/freeze if necessary.\n",
            "  cpuset_checked))\n"
          ]
        },
        {
          "output_type": "stream",
          "name": "stdout",
          "text": [
            " 82%|████████▏ | 42/51 [00:19<00:04,  1.85it/s]"
          ]
        },
        {
          "output_type": "stream",
          "name": "stderr",
          "text": [
            "/usr/local/lib/python3.7/dist-packages/torch/utils/data/dataloader.py:481: UserWarning: This DataLoader will create 4 worker processes in total. Our suggested max number of worker in current system is 2, which is smaller than what this DataLoader is going to create. Please be aware that excessive worker creation might get DataLoader running slow or even freeze, lower the worker number to avoid potential slowness/freeze if necessary.\n",
            "  cpuset_checked))\n"
          ]
        },
        {
          "output_type": "stream",
          "name": "stdout",
          "text": [
            " 84%|████████▍ | 43/51 [00:19<00:04,  1.93it/s]"
          ]
        },
        {
          "output_type": "stream",
          "name": "stderr",
          "text": [
            "/usr/local/lib/python3.7/dist-packages/torch/utils/data/dataloader.py:481: UserWarning: This DataLoader will create 4 worker processes in total. Our suggested max number of worker in current system is 2, which is smaller than what this DataLoader is going to create. Please be aware that excessive worker creation might get DataLoader running slow or even freeze, lower the worker number to avoid potential slowness/freeze if necessary.\n",
            "  cpuset_checked))\n"
          ]
        },
        {
          "output_type": "stream",
          "name": "stdout",
          "text": [
            " 86%|████████▋ | 44/51 [00:20<00:03,  1.81it/s]"
          ]
        },
        {
          "output_type": "stream",
          "name": "stderr",
          "text": [
            "/usr/local/lib/python3.7/dist-packages/torch/utils/data/dataloader.py:481: UserWarning: This DataLoader will create 4 worker processes in total. Our suggested max number of worker in current system is 2, which is smaller than what this DataLoader is going to create. Please be aware that excessive worker creation might get DataLoader running slow or even freeze, lower the worker number to avoid potential slowness/freeze if necessary.\n",
            "  cpuset_checked))\n"
          ]
        },
        {
          "output_type": "stream",
          "name": "stdout",
          "text": [
            " 88%|████████▊ | 45/51 [00:20<00:02,  2.02it/s]"
          ]
        },
        {
          "output_type": "stream",
          "name": "stderr",
          "text": [
            "/usr/local/lib/python3.7/dist-packages/torch/utils/data/dataloader.py:481: UserWarning: This DataLoader will create 4 worker processes in total. Our suggested max number of worker in current system is 2, which is smaller than what this DataLoader is going to create. Please be aware that excessive worker creation might get DataLoader running slow or even freeze, lower the worker number to avoid potential slowness/freeze if necessary.\n",
            "  cpuset_checked))\n"
          ]
        },
        {
          "output_type": "stream",
          "name": "stdout",
          "text": [
            " 90%|█████████ | 46/51 [00:21<00:02,  2.23it/s]"
          ]
        },
        {
          "output_type": "stream",
          "name": "stderr",
          "text": [
            "/usr/local/lib/python3.7/dist-packages/torch/utils/data/dataloader.py:481: UserWarning: This DataLoader will create 4 worker processes in total. Our suggested max number of worker in current system is 2, which is smaller than what this DataLoader is going to create. Please be aware that excessive worker creation might get DataLoader running slow or even freeze, lower the worker number to avoid potential slowness/freeze if necessary.\n",
            "  cpuset_checked))\n"
          ]
        },
        {
          "output_type": "stream",
          "name": "stdout",
          "text": [
            " 94%|█████████▍| 48/51 [00:21<00:01,  2.40it/s]"
          ]
        },
        {
          "output_type": "stream",
          "name": "stderr",
          "text": [
            "/usr/local/lib/python3.7/dist-packages/torch/utils/data/dataloader.py:481: UserWarning: This DataLoader will create 4 worker processes in total. Our suggested max number of worker in current system is 2, which is smaller than what this DataLoader is going to create. Please be aware that excessive worker creation might get DataLoader running slow or even freeze, lower the worker number to avoid potential slowness/freeze if necessary.\n",
            "  cpuset_checked))\n"
          ]
        },
        {
          "output_type": "stream",
          "name": "stdout",
          "text": [
            " 96%|█████████▌| 49/51 [00:22<00:00,  2.47it/s]"
          ]
        },
        {
          "output_type": "stream",
          "name": "stderr",
          "text": [
            "/usr/local/lib/python3.7/dist-packages/torch/utils/data/dataloader.py:481: UserWarning: This DataLoader will create 4 worker processes in total. Our suggested max number of worker in current system is 2, which is smaller than what this DataLoader is going to create. Please be aware that excessive worker creation might get DataLoader running slow or even freeze, lower the worker number to avoid potential slowness/freeze if necessary.\n",
            "  cpuset_checked))\n"
          ]
        },
        {
          "output_type": "stream",
          "name": "stdout",
          "text": [
            " 98%|█████████▊| 50/51 [00:22<00:00,  2.58it/s]"
          ]
        },
        {
          "output_type": "stream",
          "name": "stderr",
          "text": [
            "/usr/local/lib/python3.7/dist-packages/torch/utils/data/dataloader.py:481: UserWarning: This DataLoader will create 4 worker processes in total. Our suggested max number of worker in current system is 2, which is smaller than what this DataLoader is going to create. Please be aware that excessive worker creation might get DataLoader running slow or even freeze, lower the worker number to avoid potential slowness/freeze if necessary.\n",
            "  cpuset_checked))\n"
          ]
        },
        {
          "output_type": "stream",
          "name": "stdout",
          "text": [
            "100%|██████████| 51/51 [00:23<00:00,  2.19it/s]\n",
            "Epoch 0 ended.\n",
            "\tDiskUsage_Epoch/train_phase/train_stream/Task000 = 55532.3242\n",
            "\tMaxGPU0Usage_Epoch/train_phase/train_stream/Task000 = 0\n",
            "\tMaxRAMUsage_Epoch/train_phase/train_stream/Task000 = 3308.5664\n",
            "\tTime_Epoch/train_phase/train_stream/Task000 = 23.0837\n",
            "\tTop1_Acc_Epoch/train_phase/train_stream/Task000 = 0.9437\n",
            "-- >> End of training phase << --\n",
            "Training completed\n",
            "Computing accuracy on the whole test set\n",
            "-- >> Start of eval phase << --\n",
            "-- Starting eval on experience 0 (Task 0) from test stream --\n"
          ]
        },
        {
          "output_type": "stream",
          "name": "stderr",
          "text": [
            "/usr/local/lib/python3.7/dist-packages/torch/utils/data/dataloader.py:481: UserWarning: This DataLoader will create 4 worker processes in total. Our suggested max number of worker in current system is 2, which is smaller than what this DataLoader is going to create. Please be aware that excessive worker creation might get DataLoader running slow or even freeze, lower the worker number to avoid potential slowness/freeze if necessary.\n",
            "  cpuset_checked))\n"
          ]
        },
        {
          "output_type": "stream",
          "name": "stdout",
          "text": [
            "100%|██████████| 20/20 [00:01<00:00, 16.27it/s]\n",
            "> Eval on experience 0 (Task 0) from test stream ended.\n",
            "\tCPUUsage_Exp/eval_phase/test_stream/Task000/Exp000 = 49.8421\n",
            "\tDiskUsage_Exp/eval_phase/test_stream/Task000/Exp000 = 55532.3242\n",
            "\tMaxGPU0Usage_Experience/eval_phase/test_stream/Task000/Exp000 = 0\n",
            "\tMaxRAMUsage_Experience/eval_phase/test_stream/Task000/Exp000 = 3307.1523\n",
            "\tTime_Exp/eval_phase/test_stream/Task000/Exp000 = 1.1643\n",
            "\tTop1_Acc_Exp/eval_phase/test_stream/Task000/Exp000 = 0.9699\n",
            "-- Starting eval on experience 1 (Task 0) from test stream --\n"
          ]
        },
        {
          "output_type": "stream",
          "name": "stderr",
          "text": [
            "/usr/local/lib/python3.7/dist-packages/torch/utils/data/dataloader.py:481: UserWarning: This DataLoader will create 4 worker processes in total. Our suggested max number of worker in current system is 2, which is smaller than what this DataLoader is going to create. Please be aware that excessive worker creation might get DataLoader running slow or even freeze, lower the worker number to avoid potential slowness/freeze if necessary.\n",
            "  cpuset_checked))\n"
          ]
        },
        {
          "output_type": "stream",
          "name": "stdout",
          "text": [
            "100%|██████████| 22/22 [00:01<00:00, 15.96it/s]\n",
            "> Eval on experience 1 (Task 0) from test stream ended.\n",
            "\tCPUUsage_Exp/eval_phase/test_stream/Task000/Exp001 = 52.9397\n",
            "\tDiskUsage_Exp/eval_phase/test_stream/Task000/Exp001 = 55532.3242\n",
            "\tMaxGPU0Usage_Experience/eval_phase/test_stream/Task000/Exp001 = 0\n",
            "\tMaxRAMUsage_Experience/eval_phase/test_stream/Task000/Exp001 = 3307.1641\n",
            "\tTime_Exp/eval_phase/test_stream/Task000/Exp001 = 1.3037\n",
            "\tTop1_Acc_Exp/eval_phase/test_stream/Task000/Exp001 = 0.9631\n",
            "-- Starting eval on experience 2 (Task 0) from test stream --\n"
          ]
        },
        {
          "output_type": "stream",
          "name": "stderr",
          "text": [
            "/usr/local/lib/python3.7/dist-packages/torch/utils/data/dataloader.py:481: UserWarning: This DataLoader will create 4 worker processes in total. Our suggested max number of worker in current system is 2, which is smaller than what this DataLoader is going to create. Please be aware that excessive worker creation might get DataLoader running slow or even freeze, lower the worker number to avoid potential slowness/freeze if necessary.\n",
            "  cpuset_checked))\n"
          ]
        },
        {
          "output_type": "stream",
          "name": "stdout",
          "text": [
            "100%|██████████| 20/20 [00:01<00:00, 16.57it/s]\n",
            "> Eval on experience 2 (Task 0) from test stream ended.\n",
            "\tCPUUsage_Exp/eval_phase/test_stream/Task000/Exp002 = 50.4760\n",
            "\tDiskUsage_Exp/eval_phase/test_stream/Task000/Exp002 = 55532.3242\n",
            "\tMaxGPU0Usage_Experience/eval_phase/test_stream/Task000/Exp002 = 0\n",
            "\tMaxRAMUsage_Experience/eval_phase/test_stream/Task000/Exp002 = 3307.1523\n",
            "\tTime_Exp/eval_phase/test_stream/Task000/Exp002 = 1.1296\n",
            "\tTop1_Acc_Exp/eval_phase/test_stream/Task000/Exp002 = 0.4821\n",
            "-- Starting eval on experience 3 (Task 0) from test stream --\n"
          ]
        },
        {
          "output_type": "stream",
          "name": "stderr",
          "text": [
            "/usr/local/lib/python3.7/dist-packages/torch/utils/data/dataloader.py:481: UserWarning: This DataLoader will create 4 worker processes in total. Our suggested max number of worker in current system is 2, which is smaller than what this DataLoader is going to create. Please be aware that excessive worker creation might get DataLoader running slow or even freeze, lower the worker number to avoid potential slowness/freeze if necessary.\n",
            "  cpuset_checked))\n"
          ]
        },
        {
          "output_type": "stream",
          "name": "stdout",
          "text": [
            "\r0it [00:00, ?it/s]"
          ]
        },
        {
          "output_type": "stream",
          "name": "stderr",
          "text": [
            "/usr/local/lib/python3.7/dist-packages/torch/utils/data/dataloader.py:481: UserWarning: This DataLoader will create 4 worker processes in total. Our suggested max number of worker in current system is 2, which is smaller than what this DataLoader is going to create. Please be aware that excessive worker creation might get DataLoader running slow or even freeze, lower the worker number to avoid potential slowness/freeze if necessary.\n",
            "  cpuset_checked))\n"
          ]
        },
        {
          "output_type": "stream",
          "name": "stdout",
          "text": [
            "100%|██████████| 19/19 [00:01<00:00, 15.38it/s]\n",
            "> Eval on experience 3 (Task 0) from test stream ended.\n",
            "\tCPUUsage_Exp/eval_phase/test_stream/Task000/Exp003 = 49.1986\n",
            "\tDiskUsage_Exp/eval_phase/test_stream/Task000/Exp003 = 55532.3242\n",
            "\tMaxGPU0Usage_Experience/eval_phase/test_stream/Task000/Exp003 = 0\n",
            "\tMaxRAMUsage_Experience/eval_phase/test_stream/Task000/Exp003 = 3307.1641\n",
            "\tTime_Exp/eval_phase/test_stream/Task000/Exp003 = 1.2214\n",
            "\tTop1_Acc_Exp/eval_phase/test_stream/Task000/Exp003 = 0.7035\n",
            "-- Starting eval on experience 4 (Task 0) from test stream --\n"
          ]
        },
        {
          "output_type": "stream",
          "name": "stderr",
          "text": [
            "/usr/local/lib/python3.7/dist-packages/torch/utils/data/dataloader.py:481: UserWarning: This DataLoader will create 4 worker processes in total. Our suggested max number of worker in current system is 2, which is smaller than what this DataLoader is going to create. Please be aware that excessive worker creation might get DataLoader running slow or even freeze, lower the worker number to avoid potential slowness/freeze if necessary.\n",
            "  cpuset_checked))\n"
          ]
        },
        {
          "output_type": "stream",
          "name": "stdout",
          "text": [
            "100%|██████████| 20/20 [00:01<00:00, 14.72it/s]\n",
            "> Eval on experience 4 (Task 0) from test stream ended.\n",
            "\tCPUUsage_Exp/eval_phase/test_stream/Task000/Exp004 = 52.3383\n",
            "\tDiskUsage_Exp/eval_phase/test_stream/Task000/Exp004 = 55532.3242\n",
            "\tMaxGPU0Usage_Experience/eval_phase/test_stream/Task000/Exp004 = 0\n",
            "\tMaxRAMUsage_Experience/eval_phase/test_stream/Task000/Exp004 = 3307.1641\n",
            "\tTime_Exp/eval_phase/test_stream/Task000/Exp004 = 1.2805\n",
            "\tTop1_Acc_Exp/eval_phase/test_stream/Task000/Exp004 = 0.7946\n",
            "-- >> End of eval phase << --\n",
            "\tDiskUsage_Stream/eval_phase/test_stream/Task000 = 55532.3242\n",
            "\tMaxGPU0Usage_Stream/eval_phase/test_stream/Task000 = 0\n",
            "\tMaxRAMUsage_Stream/eval_phase/test_stream/Task000 = 3307.1641\n",
            "\tTop1_Acc_Stream/eval_phase/test_stream/Task000 = 0.7870\n",
            "Start of experience:  2\n",
            "Current Classes:  [8, 9]\n",
            "-- >> Start of training phase << --\n",
            "-- Starting training on experience 2 (Task 0) from train stream --\n"
          ]
        },
        {
          "output_type": "stream",
          "name": "stderr",
          "text": [
            "/usr/local/lib/python3.7/dist-packages/torch/utils/data/dataloader.py:481: UserWarning: This DataLoader will create 4 worker processes in total. Our suggested max number of worker in current system is 2, which is smaller than what this DataLoader is going to create. Please be aware that excessive worker creation might get DataLoader running slow or even freeze, lower the worker number to avoid potential slowness/freeze if necessary.\n",
            "  cpuset_checked))\n"
          ]
        },
        {
          "output_type": "stream",
          "name": "stdout",
          "text": [
            "  2%|▏         | 1/48 [00:01<00:48,  1.03s/it]"
          ]
        },
        {
          "output_type": "stream",
          "name": "stderr",
          "text": [
            "/usr/local/lib/python3.7/dist-packages/torch/utils/data/dataloader.py:481: UserWarning: This DataLoader will create 4 worker processes in total. Our suggested max number of worker in current system is 2, which is smaller than what this DataLoader is going to create. Please be aware that excessive worker creation might get DataLoader running slow or even freeze, lower the worker number to avoid potential slowness/freeze if necessary.\n",
            "  cpuset_checked))\n"
          ]
        },
        {
          "output_type": "stream",
          "name": "stdout",
          "text": [
            "  4%|▍         | 2/48 [00:01<00:32,  1.43it/s]"
          ]
        },
        {
          "output_type": "stream",
          "name": "stderr",
          "text": [
            "/usr/local/lib/python3.7/dist-packages/torch/utils/data/dataloader.py:481: UserWarning: This DataLoader will create 4 worker processes in total. Our suggested max number of worker in current system is 2, which is smaller than what this DataLoader is going to create. Please be aware that excessive worker creation might get DataLoader running slow or even freeze, lower the worker number to avoid potential slowness/freeze if necessary.\n",
            "  cpuset_checked))\n"
          ]
        },
        {
          "output_type": "stream",
          "name": "stdout",
          "text": [
            "  6%|▋         | 3/48 [00:01<00:26,  1.73it/s]"
          ]
        },
        {
          "output_type": "stream",
          "name": "stderr",
          "text": [
            "/usr/local/lib/python3.7/dist-packages/torch/utils/data/dataloader.py:481: UserWarning: This DataLoader will create 4 worker processes in total. Our suggested max number of worker in current system is 2, which is smaller than what this DataLoader is going to create. Please be aware that excessive worker creation might get DataLoader running slow or even freeze, lower the worker number to avoid potential slowness/freeze if necessary.\n",
            "  cpuset_checked))\n"
          ]
        },
        {
          "output_type": "stream",
          "name": "stdout",
          "text": [
            "  8%|▊         | 4/48 [00:02<00:22,  1.93it/s]"
          ]
        },
        {
          "output_type": "stream",
          "name": "stderr",
          "text": [
            "/usr/local/lib/python3.7/dist-packages/torch/utils/data/dataloader.py:481: UserWarning: This DataLoader will create 4 worker processes in total. Our suggested max number of worker in current system is 2, which is smaller than what this DataLoader is going to create. Please be aware that excessive worker creation might get DataLoader running slow or even freeze, lower the worker number to avoid potential slowness/freeze if necessary.\n",
            "  cpuset_checked))\n"
          ]
        },
        {
          "output_type": "stream",
          "name": "stdout",
          "text": [
            " 10%|█         | 5/48 [00:02<00:21,  1.99it/s]"
          ]
        },
        {
          "output_type": "stream",
          "name": "stderr",
          "text": [
            "/usr/local/lib/python3.7/dist-packages/torch/utils/data/dataloader.py:481: UserWarning: This DataLoader will create 4 worker processes in total. Our suggested max number of worker in current system is 2, which is smaller than what this DataLoader is going to create. Please be aware that excessive worker creation might get DataLoader running slow or even freeze, lower the worker number to avoid potential slowness/freeze if necessary.\n",
            "  cpuset_checked))\n"
          ]
        },
        {
          "output_type": "stream",
          "name": "stdout",
          "text": [
            " 12%|█▎        | 6/48 [00:03<00:20,  2.10it/s]"
          ]
        },
        {
          "output_type": "stream",
          "name": "stderr",
          "text": [
            "/usr/local/lib/python3.7/dist-packages/torch/utils/data/dataloader.py:481: UserWarning: This DataLoader will create 4 worker processes in total. Our suggested max number of worker in current system is 2, which is smaller than what this DataLoader is going to create. Please be aware that excessive worker creation might get DataLoader running slow or even freeze, lower the worker number to avoid potential slowness/freeze if necessary.\n",
            "  cpuset_checked))\n"
          ]
        },
        {
          "output_type": "stream",
          "name": "stdout",
          "text": [
            " 15%|█▍        | 7/48 [00:03<00:19,  2.13it/s]"
          ]
        },
        {
          "output_type": "stream",
          "name": "stderr",
          "text": [
            "/usr/local/lib/python3.7/dist-packages/torch/utils/data/dataloader.py:481: UserWarning: This DataLoader will create 4 worker processes in total. Our suggested max number of worker in current system is 2, which is smaller than what this DataLoader is going to create. Please be aware that excessive worker creation might get DataLoader running slow or even freeze, lower the worker number to avoid potential slowness/freeze if necessary.\n",
            "  cpuset_checked))\n"
          ]
        },
        {
          "output_type": "stream",
          "name": "stdout",
          "text": [
            " 17%|█▋        | 8/48 [00:04<00:18,  2.16it/s]"
          ]
        },
        {
          "output_type": "stream",
          "name": "stderr",
          "text": [
            "/usr/local/lib/python3.7/dist-packages/torch/utils/data/dataloader.py:481: UserWarning: This DataLoader will create 4 worker processes in total. Our suggested max number of worker in current system is 2, which is smaller than what this DataLoader is going to create. Please be aware that excessive worker creation might get DataLoader running slow or even freeze, lower the worker number to avoid potential slowness/freeze if necessary.\n",
            "  cpuset_checked))\n"
          ]
        },
        {
          "output_type": "stream",
          "name": "stdout",
          "text": [
            " 21%|██        | 10/48 [00:05<00:17,  2.22it/s]"
          ]
        },
        {
          "output_type": "stream",
          "name": "stderr",
          "text": [
            "/usr/local/lib/python3.7/dist-packages/torch/utils/data/dataloader.py:481: UserWarning: This DataLoader will create 4 worker processes in total. Our suggested max number of worker in current system is 2, which is smaller than what this DataLoader is going to create. Please be aware that excessive worker creation might get DataLoader running slow or even freeze, lower the worker number to avoid potential slowness/freeze if necessary.\n",
            "  cpuset_checked))\n"
          ]
        },
        {
          "output_type": "stream",
          "name": "stdout",
          "text": [
            " 23%|██▎       | 11/48 [00:05<00:16,  2.21it/s]"
          ]
        },
        {
          "output_type": "stream",
          "name": "stderr",
          "text": [
            "/usr/local/lib/python3.7/dist-packages/torch/utils/data/dataloader.py:481: UserWarning: This DataLoader will create 4 worker processes in total. Our suggested max number of worker in current system is 2, which is smaller than what this DataLoader is going to create. Please be aware that excessive worker creation might get DataLoader running slow or even freeze, lower the worker number to avoid potential slowness/freeze if necessary.\n",
            "  cpuset_checked))\n"
          ]
        },
        {
          "output_type": "stream",
          "name": "stdout",
          "text": [
            " 25%|██▌       | 12/48 [00:05<00:16,  2.23it/s]"
          ]
        },
        {
          "output_type": "stream",
          "name": "stderr",
          "text": [
            "/usr/local/lib/python3.7/dist-packages/torch/utils/data/dataloader.py:481: UserWarning: This DataLoader will create 4 worker processes in total. Our suggested max number of worker in current system is 2, which is smaller than what this DataLoader is going to create. Please be aware that excessive worker creation might get DataLoader running slow or even freeze, lower the worker number to avoid potential slowness/freeze if necessary.\n",
            "  cpuset_checked))\n"
          ]
        },
        {
          "output_type": "stream",
          "name": "stdout",
          "text": [
            " 27%|██▋       | 13/48 [00:06<00:15,  2.22it/s]"
          ]
        },
        {
          "output_type": "stream",
          "name": "stderr",
          "text": [
            "/usr/local/lib/python3.7/dist-packages/torch/utils/data/dataloader.py:481: UserWarning: This DataLoader will create 4 worker processes in total. Our suggested max number of worker in current system is 2, which is smaller than what this DataLoader is going to create. Please be aware that excessive worker creation might get DataLoader running slow or even freeze, lower the worker number to avoid potential slowness/freeze if necessary.\n",
            "  cpuset_checked))\n"
          ]
        },
        {
          "output_type": "stream",
          "name": "stdout",
          "text": [
            " 29%|██▉       | 14/48 [00:06<00:15,  2.21it/s]"
          ]
        },
        {
          "output_type": "stream",
          "name": "stderr",
          "text": [
            "/usr/local/lib/python3.7/dist-packages/torch/utils/data/dataloader.py:481: UserWarning: This DataLoader will create 4 worker processes in total. Our suggested max number of worker in current system is 2, which is smaller than what this DataLoader is going to create. Please be aware that excessive worker creation might get DataLoader running slow or even freeze, lower the worker number to avoid potential slowness/freeze if necessary.\n",
            "  cpuset_checked))\n"
          ]
        },
        {
          "output_type": "stream",
          "name": "stdout",
          "text": [
            " 31%|███▏      | 15/48 [00:07<00:14,  2.27it/s]"
          ]
        },
        {
          "output_type": "stream",
          "name": "stderr",
          "text": [
            "/usr/local/lib/python3.7/dist-packages/torch/utils/data/dataloader.py:481: UserWarning: This DataLoader will create 4 worker processes in total. Our suggested max number of worker in current system is 2, which is smaller than what this DataLoader is going to create. Please be aware that excessive worker creation might get DataLoader running slow or even freeze, lower the worker number to avoid potential slowness/freeze if necessary.\n",
            "  cpuset_checked))\n"
          ]
        },
        {
          "output_type": "stream",
          "name": "stdout",
          "text": [
            " 33%|███▎      | 16/48 [00:07<00:14,  2.23it/s]"
          ]
        },
        {
          "output_type": "stream",
          "name": "stderr",
          "text": [
            "/usr/local/lib/python3.7/dist-packages/torch/utils/data/dataloader.py:481: UserWarning: This DataLoader will create 4 worker processes in total. Our suggested max number of worker in current system is 2, which is smaller than what this DataLoader is going to create. Please be aware that excessive worker creation might get DataLoader running slow or even freeze, lower the worker number to avoid potential slowness/freeze if necessary.\n",
            "  cpuset_checked))\n"
          ]
        },
        {
          "output_type": "stream",
          "name": "stdout",
          "text": [
            " 35%|███▌      | 17/48 [00:08<00:14,  2.20it/s]"
          ]
        },
        {
          "output_type": "stream",
          "name": "stderr",
          "text": [
            "/usr/local/lib/python3.7/dist-packages/torch/utils/data/dataloader.py:481: UserWarning: This DataLoader will create 4 worker processes in total. Our suggested max number of worker in current system is 2, which is smaller than what this DataLoader is going to create. Please be aware that excessive worker creation might get DataLoader running slow or even freeze, lower the worker number to avoid potential slowness/freeze if necessary.\n",
            "  cpuset_checked))\n"
          ]
        },
        {
          "output_type": "stream",
          "name": "stdout",
          "text": [
            " 40%|███▉      | 19/48 [00:09<00:13,  2.21it/s]"
          ]
        },
        {
          "output_type": "stream",
          "name": "stderr",
          "text": [
            "/usr/local/lib/python3.7/dist-packages/torch/utils/data/dataloader.py:481: UserWarning: This DataLoader will create 4 worker processes in total. Our suggested max number of worker in current system is 2, which is smaller than what this DataLoader is going to create. Please be aware that excessive worker creation might get DataLoader running slow or even freeze, lower the worker number to avoid potential slowness/freeze if necessary.\n",
            "  cpuset_checked))\n"
          ]
        },
        {
          "output_type": "stream",
          "name": "stdout",
          "text": [
            " 42%|████▏     | 20/48 [00:09<00:12,  2.23it/s]"
          ]
        },
        {
          "output_type": "stream",
          "name": "stderr",
          "text": [
            "/usr/local/lib/python3.7/dist-packages/torch/utils/data/dataloader.py:481: UserWarning: This DataLoader will create 4 worker processes in total. Our suggested max number of worker in current system is 2, which is smaller than what this DataLoader is going to create. Please be aware that excessive worker creation might get DataLoader running slow or even freeze, lower the worker number to avoid potential slowness/freeze if necessary.\n",
            "  cpuset_checked))\n"
          ]
        },
        {
          "output_type": "stream",
          "name": "stdout",
          "text": [
            " 44%|████▍     | 21/48 [00:10<00:12,  2.22it/s]"
          ]
        },
        {
          "output_type": "stream",
          "name": "stderr",
          "text": [
            "/usr/local/lib/python3.7/dist-packages/torch/utils/data/dataloader.py:481: UserWarning: This DataLoader will create 4 worker processes in total. Our suggested max number of worker in current system is 2, which is smaller than what this DataLoader is going to create. Please be aware that excessive worker creation might get DataLoader running slow or even freeze, lower the worker number to avoid potential slowness/freeze if necessary.\n",
            "  cpuset_checked))\n"
          ]
        },
        {
          "output_type": "stream",
          "name": "stdout",
          "text": [
            " 46%|████▌     | 22/48 [00:10<00:11,  2.23it/s]"
          ]
        },
        {
          "output_type": "stream",
          "name": "stderr",
          "text": [
            "/usr/local/lib/python3.7/dist-packages/torch/utils/data/dataloader.py:481: UserWarning: This DataLoader will create 4 worker processes in total. Our suggested max number of worker in current system is 2, which is smaller than what this DataLoader is going to create. Please be aware that excessive worker creation might get DataLoader running slow or even freeze, lower the worker number to avoid potential slowness/freeze if necessary.\n",
            "  cpuset_checked))\n"
          ]
        },
        {
          "output_type": "stream",
          "name": "stdout",
          "text": [
            " 48%|████▊     | 23/48 [00:10<00:11,  2.24it/s]"
          ]
        },
        {
          "output_type": "stream",
          "name": "stderr",
          "text": [
            "/usr/local/lib/python3.7/dist-packages/torch/utils/data/dataloader.py:481: UserWarning: This DataLoader will create 4 worker processes in total. Our suggested max number of worker in current system is 2, which is smaller than what this DataLoader is going to create. Please be aware that excessive worker creation might get DataLoader running slow or even freeze, lower the worker number to avoid potential slowness/freeze if necessary.\n",
            "  cpuset_checked))\n"
          ]
        },
        {
          "output_type": "stream",
          "name": "stdout",
          "text": [
            " 50%|█████     | 24/48 [00:11<00:10,  2.24it/s]"
          ]
        },
        {
          "output_type": "stream",
          "name": "stderr",
          "text": [
            "/usr/local/lib/python3.7/dist-packages/torch/utils/data/dataloader.py:481: UserWarning: This DataLoader will create 4 worker processes in total. Our suggested max number of worker in current system is 2, which is smaller than what this DataLoader is going to create. Please be aware that excessive worker creation might get DataLoader running slow or even freeze, lower the worker number to avoid potential slowness/freeze if necessary.\n",
            "  cpuset_checked))\n"
          ]
        },
        {
          "output_type": "stream",
          "name": "stdout",
          "text": [
            " 52%|█████▏    | 25/48 [00:11<00:10,  2.26it/s]"
          ]
        },
        {
          "output_type": "stream",
          "name": "stderr",
          "text": [
            "/usr/local/lib/python3.7/dist-packages/torch/utils/data/dataloader.py:481: UserWarning: This DataLoader will create 4 worker processes in total. Our suggested max number of worker in current system is 2, which is smaller than what this DataLoader is going to create. Please be aware that excessive worker creation might get DataLoader running slow or even freeze, lower the worker number to avoid potential slowness/freeze if necessary.\n",
            "  cpuset_checked))\n"
          ]
        },
        {
          "output_type": "stream",
          "name": "stdout",
          "text": [
            " 54%|█████▍    | 26/48 [00:12<00:09,  2.23it/s]"
          ]
        },
        {
          "output_type": "stream",
          "name": "stderr",
          "text": [
            "/usr/local/lib/python3.7/dist-packages/torch/utils/data/dataloader.py:481: UserWarning: This DataLoader will create 4 worker processes in total. Our suggested max number of worker in current system is 2, which is smaller than what this DataLoader is going to create. Please be aware that excessive worker creation might get DataLoader running slow or even freeze, lower the worker number to avoid potential slowness/freeze if necessary.\n",
            "  cpuset_checked))\n"
          ]
        },
        {
          "output_type": "stream",
          "name": "stdout",
          "text": [
            " 56%|█████▋    | 27/48 [00:12<00:09,  2.19it/s]"
          ]
        },
        {
          "output_type": "stream",
          "name": "stderr",
          "text": [
            "/usr/local/lib/python3.7/dist-packages/torch/utils/data/dataloader.py:481: UserWarning: This DataLoader will create 4 worker processes in total. Our suggested max number of worker in current system is 2, which is smaller than what this DataLoader is going to create. Please be aware that excessive worker creation might get DataLoader running slow or even freeze, lower the worker number to avoid potential slowness/freeze if necessary.\n",
            "  cpuset_checked))\n"
          ]
        },
        {
          "output_type": "stream",
          "name": "stdout",
          "text": [
            " 58%|█████▊    | 28/48 [00:13<00:09,  2.15it/s]"
          ]
        },
        {
          "output_type": "stream",
          "name": "stderr",
          "text": [
            "/usr/local/lib/python3.7/dist-packages/torch/utils/data/dataloader.py:481: UserWarning: This DataLoader will create 4 worker processes in total. Our suggested max number of worker in current system is 2, which is smaller than what this DataLoader is going to create. Please be aware that excessive worker creation might get DataLoader running slow or even freeze, lower the worker number to avoid potential slowness/freeze if necessary.\n",
            "  cpuset_checked))\n"
          ]
        },
        {
          "output_type": "stream",
          "name": "stdout",
          "text": [
            " 62%|██████▎   | 30/48 [00:14<00:08,  2.15it/s]"
          ]
        },
        {
          "output_type": "stream",
          "name": "stderr",
          "text": [
            "/usr/local/lib/python3.7/dist-packages/torch/utils/data/dataloader.py:481: UserWarning: This DataLoader will create 4 worker processes in total. Our suggested max number of worker in current system is 2, which is smaller than what this DataLoader is going to create. Please be aware that excessive worker creation might get DataLoader running slow or even freeze, lower the worker number to avoid potential slowness/freeze if necessary.\n",
            "  cpuset_checked))\n"
          ]
        },
        {
          "output_type": "stream",
          "name": "stdout",
          "text": [
            " 65%|██████▍   | 31/48 [00:14<00:07,  2.16it/s]"
          ]
        },
        {
          "output_type": "stream",
          "name": "stderr",
          "text": [
            "/usr/local/lib/python3.7/dist-packages/torch/utils/data/dataloader.py:481: UserWarning: This DataLoader will create 4 worker processes in total. Our suggested max number of worker in current system is 2, which is smaller than what this DataLoader is going to create. Please be aware that excessive worker creation might get DataLoader running slow or even freeze, lower the worker number to avoid potential slowness/freeze if necessary.\n",
            "  cpuset_checked))\n"
          ]
        },
        {
          "output_type": "stream",
          "name": "stdout",
          "text": [
            " 67%|██████▋   | 32/48 [00:15<00:07,  2.16it/s]"
          ]
        },
        {
          "output_type": "stream",
          "name": "stderr",
          "text": [
            "/usr/local/lib/python3.7/dist-packages/torch/utils/data/dataloader.py:481: UserWarning: This DataLoader will create 4 worker processes in total. Our suggested max number of worker in current system is 2, which is smaller than what this DataLoader is going to create. Please be aware that excessive worker creation might get DataLoader running slow or even freeze, lower the worker number to avoid potential slowness/freeze if necessary.\n",
            "  cpuset_checked))\n"
          ]
        },
        {
          "output_type": "stream",
          "name": "stdout",
          "text": [
            " 69%|██████▉   | 33/48 [00:15<00:06,  2.16it/s]"
          ]
        },
        {
          "output_type": "stream",
          "name": "stderr",
          "text": [
            "/usr/local/lib/python3.7/dist-packages/torch/utils/data/dataloader.py:481: UserWarning: This DataLoader will create 4 worker processes in total. Our suggested max number of worker in current system is 2, which is smaller than what this DataLoader is going to create. Please be aware that excessive worker creation might get DataLoader running slow or even freeze, lower the worker number to avoid potential slowness/freeze if necessary.\n",
            "  cpuset_checked))\n"
          ]
        },
        {
          "output_type": "stream",
          "name": "stdout",
          "text": [
            " 71%|███████   | 34/48 [00:15<00:06,  2.13it/s]"
          ]
        },
        {
          "output_type": "stream",
          "name": "stderr",
          "text": [
            "/usr/local/lib/python3.7/dist-packages/torch/utils/data/dataloader.py:481: UserWarning: This DataLoader will create 4 worker processes in total. Our suggested max number of worker in current system is 2, which is smaller than what this DataLoader is going to create. Please be aware that excessive worker creation might get DataLoader running slow or even freeze, lower the worker number to avoid potential slowness/freeze if necessary.\n",
            "  cpuset_checked))\n"
          ]
        },
        {
          "output_type": "stream",
          "name": "stdout",
          "text": [
            " 73%|███████▎  | 35/48 [00:16<00:06,  2.14it/s]"
          ]
        },
        {
          "output_type": "stream",
          "name": "stderr",
          "text": [
            "/usr/local/lib/python3.7/dist-packages/torch/utils/data/dataloader.py:481: UserWarning: This DataLoader will create 4 worker processes in total. Our suggested max number of worker in current system is 2, which is smaller than what this DataLoader is going to create. Please be aware that excessive worker creation might get DataLoader running slow or even freeze, lower the worker number to avoid potential slowness/freeze if necessary.\n",
            "  cpuset_checked))\n"
          ]
        },
        {
          "output_type": "stream",
          "name": "stdout",
          "text": [
            " 75%|███████▌  | 36/48 [00:16<00:05,  2.18it/s]"
          ]
        },
        {
          "output_type": "stream",
          "name": "stderr",
          "text": [
            "/usr/local/lib/python3.7/dist-packages/torch/utils/data/dataloader.py:481: UserWarning: This DataLoader will create 4 worker processes in total. Our suggested max number of worker in current system is 2, which is smaller than what this DataLoader is going to create. Please be aware that excessive worker creation might get DataLoader running slow or even freeze, lower the worker number to avoid potential slowness/freeze if necessary.\n",
            "  cpuset_checked))\n"
          ]
        },
        {
          "output_type": "stream",
          "name": "stdout",
          "text": [
            " 77%|███████▋  | 37/48 [00:17<00:05,  2.19it/s]"
          ]
        },
        {
          "output_type": "stream",
          "name": "stderr",
          "text": [
            "/usr/local/lib/python3.7/dist-packages/torch/utils/data/dataloader.py:481: UserWarning: This DataLoader will create 4 worker processes in total. Our suggested max number of worker in current system is 2, which is smaller than what this DataLoader is going to create. Please be aware that excessive worker creation might get DataLoader running slow or even freeze, lower the worker number to avoid potential slowness/freeze if necessary.\n",
            "  cpuset_checked))\n"
          ]
        },
        {
          "output_type": "stream",
          "name": "stdout",
          "text": [
            " 79%|███████▉  | 38/48 [00:17<00:04,  2.24it/s]"
          ]
        },
        {
          "output_type": "stream",
          "name": "stderr",
          "text": [
            "/usr/local/lib/python3.7/dist-packages/torch/utils/data/dataloader.py:481: UserWarning: This DataLoader will create 4 worker processes in total. Our suggested max number of worker in current system is 2, which is smaller than what this DataLoader is going to create. Please be aware that excessive worker creation might get DataLoader running slow or even freeze, lower the worker number to avoid potential slowness/freeze if necessary.\n",
            "  cpuset_checked))\n"
          ]
        },
        {
          "output_type": "stream",
          "name": "stdout",
          "text": [
            " 81%|████████▏ | 39/48 [00:18<00:04,  2.20it/s]"
          ]
        },
        {
          "output_type": "stream",
          "name": "stderr",
          "text": [
            "/usr/local/lib/python3.7/dist-packages/torch/utils/data/dataloader.py:481: UserWarning: This DataLoader will create 4 worker processes in total. Our suggested max number of worker in current system is 2, which is smaller than what this DataLoader is going to create. Please be aware that excessive worker creation might get DataLoader running slow or even freeze, lower the worker number to avoid potential slowness/freeze if necessary.\n",
            "  cpuset_checked))\n"
          ]
        },
        {
          "output_type": "stream",
          "name": "stdout",
          "text": [
            " 85%|████████▌ | 41/48 [00:19<00:03,  2.30it/s]"
          ]
        },
        {
          "output_type": "stream",
          "name": "stderr",
          "text": [
            "/usr/local/lib/python3.7/dist-packages/torch/utils/data/dataloader.py:481: UserWarning: This DataLoader will create 4 worker processes in total. Our suggested max number of worker in current system is 2, which is smaller than what this DataLoader is going to create. Please be aware that excessive worker creation might get DataLoader running slow or even freeze, lower the worker number to avoid potential slowness/freeze if necessary.\n",
            "  cpuset_checked))\n"
          ]
        },
        {
          "output_type": "stream",
          "name": "stdout",
          "text": [
            " 88%|████████▊ | 42/48 [00:19<00:02,  2.34it/s]"
          ]
        },
        {
          "output_type": "stream",
          "name": "stderr",
          "text": [
            "/usr/local/lib/python3.7/dist-packages/torch/utils/data/dataloader.py:481: UserWarning: This DataLoader will create 4 worker processes in total. Our suggested max number of worker in current system is 2, which is smaller than what this DataLoader is going to create. Please be aware that excessive worker creation might get DataLoader running slow or even freeze, lower the worker number to avoid potential slowness/freeze if necessary.\n",
            "  cpuset_checked))\n"
          ]
        },
        {
          "output_type": "stream",
          "name": "stdout",
          "text": [
            " 90%|████████▉ | 43/48 [00:19<00:02,  2.39it/s]"
          ]
        },
        {
          "output_type": "stream",
          "name": "stderr",
          "text": [
            "/usr/local/lib/python3.7/dist-packages/torch/utils/data/dataloader.py:481: UserWarning: This DataLoader will create 4 worker processes in total. Our suggested max number of worker in current system is 2, which is smaller than what this DataLoader is going to create. Please be aware that excessive worker creation might get DataLoader running slow or even freeze, lower the worker number to avoid potential slowness/freeze if necessary.\n",
            "  cpuset_checked))\n"
          ]
        },
        {
          "output_type": "stream",
          "name": "stdout",
          "text": [
            " 92%|█████████▏| 44/48 [00:20<00:01,  2.48it/s]"
          ]
        },
        {
          "output_type": "stream",
          "name": "stderr",
          "text": [
            "/usr/local/lib/python3.7/dist-packages/torch/utils/data/dataloader.py:481: UserWarning: This DataLoader will create 4 worker processes in total. Our suggested max number of worker in current system is 2, which is smaller than what this DataLoader is going to create. Please be aware that excessive worker creation might get DataLoader running slow or even freeze, lower the worker number to avoid potential slowness/freeze if necessary.\n",
            "  cpuset_checked))\n"
          ]
        },
        {
          "output_type": "stream",
          "name": "stdout",
          "text": [
            " 96%|█████████▌| 46/48 [00:21<00:00,  2.48it/s]"
          ]
        },
        {
          "output_type": "stream",
          "name": "stderr",
          "text": [
            "/usr/local/lib/python3.7/dist-packages/torch/utils/data/dataloader.py:481: UserWarning: This DataLoader will create 4 worker processes in total. Our suggested max number of worker in current system is 2, which is smaller than what this DataLoader is going to create. Please be aware that excessive worker creation might get DataLoader running slow or even freeze, lower the worker number to avoid potential slowness/freeze if necessary.\n",
            "  cpuset_checked))\n"
          ]
        },
        {
          "output_type": "stream",
          "name": "stdout",
          "text": [
            " 98%|█████████▊| 47/48 [00:21<00:00,  2.50it/s]"
          ]
        },
        {
          "output_type": "stream",
          "name": "stderr",
          "text": [
            "/usr/local/lib/python3.7/dist-packages/torch/utils/data/dataloader.py:481: UserWarning: This DataLoader will create 4 worker processes in total. Our suggested max number of worker in current system is 2, which is smaller than what this DataLoader is going to create. Please be aware that excessive worker creation might get DataLoader running slow or even freeze, lower the worker number to avoid potential slowness/freeze if necessary.\n",
            "  cpuset_checked))\n"
          ]
        },
        {
          "output_type": "stream",
          "name": "stdout",
          "text": [
            "100%|██████████| 48/48 [00:22<00:00,  2.18it/s]\n",
            "Epoch 0 ended.\n",
            "\tDiskUsage_Epoch/train_phase/train_stream/Task000 = 55532.3242\n",
            "\tMaxGPU0Usage_Epoch/train_phase/train_stream/Task000 = 0\n",
            "\tMaxRAMUsage_Epoch/train_phase/train_stream/Task000 = 3308.5508\n",
            "\tTime_Epoch/train_phase/train_stream/Task000 = 21.8324\n",
            "\tTop1_Acc_Epoch/train_phase/train_stream/Task000 = 0.8616\n",
            "-- >> End of training phase << --\n",
            "Training completed\n",
            "Computing accuracy on the whole test set\n",
            "-- >> Start of eval phase << --\n",
            "-- Starting eval on experience 0 (Task 0) from test stream --\n"
          ]
        },
        {
          "output_type": "stream",
          "name": "stderr",
          "text": [
            "/usr/local/lib/python3.7/dist-packages/torch/utils/data/dataloader.py:481: UserWarning: This DataLoader will create 4 worker processes in total. Our suggested max number of worker in current system is 2, which is smaller than what this DataLoader is going to create. Please be aware that excessive worker creation might get DataLoader running slow or even freeze, lower the worker number to avoid potential slowness/freeze if necessary.\n",
            "  cpuset_checked))\n"
          ]
        },
        {
          "output_type": "stream",
          "name": "stdout",
          "text": [
            "\r0it [00:00, ?it/s]"
          ]
        },
        {
          "output_type": "stream",
          "name": "stderr",
          "text": [
            "/usr/local/lib/python3.7/dist-packages/torch/utils/data/dataloader.py:481: UserWarning: This DataLoader will create 4 worker processes in total. Our suggested max number of worker in current system is 2, which is smaller than what this DataLoader is going to create. Please be aware that excessive worker creation might get DataLoader running slow or even freeze, lower the worker number to avoid potential slowness/freeze if necessary.\n",
            "  cpuset_checked))\n"
          ]
        },
        {
          "output_type": "stream",
          "name": "stdout",
          "text": [
            "100%|██████████| 20/20 [00:01<00:00, 16.15it/s]\n",
            "> Eval on experience 0 (Task 0) from test stream ended.\n",
            "\tCPUUsage_Exp/eval_phase/test_stream/Task000/Exp000 = 50.8475\n",
            "\tDiskUsage_Exp/eval_phase/test_stream/Task000/Exp000 = 55532.3242\n",
            "\tMaxGPU0Usage_Experience/eval_phase/test_stream/Task000/Exp000 = 0\n",
            "\tMaxRAMUsage_Experience/eval_phase/test_stream/Task000/Exp000 = 3307.1602\n",
            "\tTime_Exp/eval_phase/test_stream/Task000/Exp000 = 1.2004\n",
            "\tTop1_Acc_Exp/eval_phase/test_stream/Task000/Exp000 = 0.8700\n",
            "-- Starting eval on experience 1 (Task 0) from test stream --\n"
          ]
        },
        {
          "output_type": "stream",
          "name": "stderr",
          "text": [
            "/usr/local/lib/python3.7/dist-packages/torch/utils/data/dataloader.py:481: UserWarning: This DataLoader will create 4 worker processes in total. Our suggested max number of worker in current system is 2, which is smaller than what this DataLoader is going to create. Please be aware that excessive worker creation might get DataLoader running slow or even freeze, lower the worker number to avoid potential slowness/freeze if necessary.\n",
            "  cpuset_checked))\n"
          ]
        },
        {
          "output_type": "stream",
          "name": "stdout",
          "text": [
            "100%|██████████| 22/22 [00:01<00:00, 15.63it/s]\n",
            "> Eval on experience 1 (Task 0) from test stream ended.\n",
            "\tCPUUsage_Exp/eval_phase/test_stream/Task000/Exp001 = 52.2641\n",
            "\tDiskUsage_Exp/eval_phase/test_stream/Task000/Exp001 = 55532.3242\n",
            "\tMaxGPU0Usage_Experience/eval_phase/test_stream/Task000/Exp001 = 0\n",
            "\tMaxRAMUsage_Experience/eval_phase/test_stream/Task000/Exp001 = 3307.1641\n",
            "\tTime_Exp/eval_phase/test_stream/Task000/Exp001 = 1.3204\n",
            "\tTop1_Acc_Exp/eval_phase/test_stream/Task000/Exp001 = 0.9202\n",
            "-- Starting eval on experience 2 (Task 0) from test stream --\n"
          ]
        },
        {
          "output_type": "stream",
          "name": "stderr",
          "text": [
            "/usr/local/lib/python3.7/dist-packages/torch/utils/data/dataloader.py:481: UserWarning: This DataLoader will create 4 worker processes in total. Our suggested max number of worker in current system is 2, which is smaller than what this DataLoader is going to create. Please be aware that excessive worker creation might get DataLoader running slow or even freeze, lower the worker number to avoid potential slowness/freeze if necessary.\n",
            "  cpuset_checked))\n"
          ]
        },
        {
          "output_type": "stream",
          "name": "stdout",
          "text": [
            "100%|██████████| 20/20 [00:01<00:00, 13.87it/s]\n",
            "> Eval on experience 2 (Task 0) from test stream ended.\n",
            "\tCPUUsage_Exp/eval_phase/test_stream/Task000/Exp002 = 50.0417\n",
            "\tDiskUsage_Exp/eval_phase/test_stream/Task000/Exp002 = 55532.3242\n",
            "\tMaxGPU0Usage_Experience/eval_phase/test_stream/Task000/Exp002 = 0\n",
            "\tMaxRAMUsage_Experience/eval_phase/test_stream/Task000/Exp002 = 3307.1641\n",
            "\tTime_Exp/eval_phase/test_stream/Task000/Exp002 = 1.3588\n",
            "\tTop1_Acc_Exp/eval_phase/test_stream/Task000/Exp002 = 0.9465\n",
            "-- Starting eval on experience 3 (Task 0) from test stream --\n"
          ]
        },
        {
          "output_type": "stream",
          "name": "stderr",
          "text": [
            "/usr/local/lib/python3.7/dist-packages/torch/utils/data/dataloader.py:481: UserWarning: This DataLoader will create 4 worker processes in total. Our suggested max number of worker in current system is 2, which is smaller than what this DataLoader is going to create. Please be aware that excessive worker creation might get DataLoader running slow or even freeze, lower the worker number to avoid potential slowness/freeze if necessary.\n",
            "  cpuset_checked))\n"
          ]
        },
        {
          "output_type": "stream",
          "name": "stdout",
          "text": [
            "100%|██████████| 19/19 [00:01<00:00, 14.56it/s]\n",
            "> Eval on experience 3 (Task 0) from test stream ended.\n",
            "\tCPUUsage_Exp/eval_phase/test_stream/Task000/Exp003 = 50.1718\n",
            "\tDiskUsage_Exp/eval_phase/test_stream/Task000/Exp003 = 55532.3242\n",
            "\tMaxGPU0Usage_Experience/eval_phase/test_stream/Task000/Exp003 = 0\n",
            "\tMaxRAMUsage_Experience/eval_phase/test_stream/Task000/Exp003 = 3307.1641\n",
            "\tTime_Exp/eval_phase/test_stream/Task000/Exp003 = 1.1773\n",
            "\tTop1_Acc_Exp/eval_phase/test_stream/Task000/Exp003 = 0.6720\n",
            "-- Starting eval on experience 4 (Task 0) from test stream --\n"
          ]
        },
        {
          "output_type": "stream",
          "name": "stderr",
          "text": [
            "/usr/local/lib/python3.7/dist-packages/torch/utils/data/dataloader.py:481: UserWarning: This DataLoader will create 4 worker processes in total. Our suggested max number of worker in current system is 2, which is smaller than what this DataLoader is going to create. Please be aware that excessive worker creation might get DataLoader running slow or even freeze, lower the worker number to avoid potential slowness/freeze if necessary.\n",
            "  cpuset_checked))\n"
          ]
        },
        {
          "output_type": "stream",
          "name": "stdout",
          "text": [
            "100%|██████████| 20/20 [00:01<00:00, 15.67it/s]\n",
            "> Eval on experience 4 (Task 0) from test stream ended.\n",
            "\tCPUUsage_Exp/eval_phase/test_stream/Task000/Exp004 = 49.1006\n",
            "\tDiskUsage_Exp/eval_phase/test_stream/Task000/Exp004 = 55532.3242\n",
            "\tMaxGPU0Usage_Experience/eval_phase/test_stream/Task000/Exp004 = 0\n",
            "\tMaxRAMUsage_Experience/eval_phase/test_stream/Task000/Exp004 = 3307.1641\n",
            "\tTime_Exp/eval_phase/test_stream/Task000/Exp004 = 1.2018\n",
            "\tTop1_Acc_Exp/eval_phase/test_stream/Task000/Exp004 = 0.6067\n",
            "-- >> End of eval phase << --\n",
            "\tDiskUsage_Stream/eval_phase/test_stream/Task000 = 55532.3242\n",
            "\tMaxGPU0Usage_Stream/eval_phase/test_stream/Task000 = 0\n",
            "\tMaxRAMUsage_Stream/eval_phase/test_stream/Task000 = 3307.1641\n",
            "\tTop1_Acc_Stream/eval_phase/test_stream/Task000 = 0.8067\n",
            "Start of experience:  3\n",
            "Current Classes:  [0, 5]\n",
            "-- >> Start of training phase << --\n",
            "-- Starting training on experience 3 (Task 0) from train stream --\n"
          ]
        },
        {
          "output_type": "stream",
          "name": "stderr",
          "text": [
            "/usr/local/lib/python3.7/dist-packages/torch/utils/data/dataloader.py:481: UserWarning: This DataLoader will create 4 worker processes in total. Our suggested max number of worker in current system is 2, which is smaller than what this DataLoader is going to create. Please be aware that excessive worker creation might get DataLoader running slow or even freeze, lower the worker number to avoid potential slowness/freeze if necessary.\n",
            "  cpuset_checked))\n"
          ]
        },
        {
          "output_type": "stream",
          "name": "stdout",
          "text": [
            "  2%|▏         | 1/46 [00:01<00:47,  1.05s/it]"
          ]
        },
        {
          "output_type": "stream",
          "name": "stderr",
          "text": [
            "/usr/local/lib/python3.7/dist-packages/torch/utils/data/dataloader.py:481: UserWarning: This DataLoader will create 4 worker processes in total. Our suggested max number of worker in current system is 2, which is smaller than what this DataLoader is going to create. Please be aware that excessive worker creation might get DataLoader running slow or even freeze, lower the worker number to avoid potential slowness/freeze if necessary.\n",
            "  cpuset_checked))\n"
          ]
        },
        {
          "output_type": "stream",
          "name": "stdout",
          "text": [
            "  4%|▍         | 2/46 [00:01<00:31,  1.40it/s]"
          ]
        },
        {
          "output_type": "stream",
          "name": "stderr",
          "text": [
            "/usr/local/lib/python3.7/dist-packages/torch/utils/data/dataloader.py:481: UserWarning: This DataLoader will create 4 worker processes in total. Our suggested max number of worker in current system is 2, which is smaller than what this DataLoader is going to create. Please be aware that excessive worker creation might get DataLoader running slow or even freeze, lower the worker number to avoid potential slowness/freeze if necessary.\n",
            "  cpuset_checked))\n"
          ]
        },
        {
          "output_type": "stream",
          "name": "stdout",
          "text": [
            "  7%|▋         | 3/46 [00:01<00:25,  1.67it/s]"
          ]
        },
        {
          "output_type": "stream",
          "name": "stderr",
          "text": [
            "/usr/local/lib/python3.7/dist-packages/torch/utils/data/dataloader.py:481: UserWarning: This DataLoader will create 4 worker processes in total. Our suggested max number of worker in current system is 2, which is smaller than what this DataLoader is going to create. Please be aware that excessive worker creation might get DataLoader running slow or even freeze, lower the worker number to avoid potential slowness/freeze if necessary.\n",
            "  cpuset_checked))\n"
          ]
        },
        {
          "output_type": "stream",
          "name": "stdout",
          "text": [
            "  9%|▊         | 4/46 [00:02<00:22,  1.86it/s]"
          ]
        },
        {
          "output_type": "stream",
          "name": "stderr",
          "text": [
            "/usr/local/lib/python3.7/dist-packages/torch/utils/data/dataloader.py:481: UserWarning: This DataLoader will create 4 worker processes in total. Our suggested max number of worker in current system is 2, which is smaller than what this DataLoader is going to create. Please be aware that excessive worker creation might get DataLoader running slow or even freeze, lower the worker number to avoid potential slowness/freeze if necessary.\n",
            "  cpuset_checked))\n"
          ]
        },
        {
          "output_type": "stream",
          "name": "stdout",
          "text": [
            " 11%|█         | 5/46 [00:02<00:20,  1.99it/s]"
          ]
        },
        {
          "output_type": "stream",
          "name": "stderr",
          "text": [
            "/usr/local/lib/python3.7/dist-packages/torch/utils/data/dataloader.py:481: UserWarning: This DataLoader will create 4 worker processes in total. Our suggested max number of worker in current system is 2, which is smaller than what this DataLoader is going to create. Please be aware that excessive worker creation might get DataLoader running slow or even freeze, lower the worker number to avoid potential slowness/freeze if necessary.\n",
            "  cpuset_checked))\n"
          ]
        },
        {
          "output_type": "stream",
          "name": "stdout",
          "text": [
            " 13%|█▎        | 6/46 [00:03<00:19,  2.03it/s]"
          ]
        },
        {
          "output_type": "stream",
          "name": "stderr",
          "text": [
            "/usr/local/lib/python3.7/dist-packages/torch/utils/data/dataloader.py:481: UserWarning: This DataLoader will create 4 worker processes in total. Our suggested max number of worker in current system is 2, which is smaller than what this DataLoader is going to create. Please be aware that excessive worker creation might get DataLoader running slow or even freeze, lower the worker number to avoid potential slowness/freeze if necessary.\n",
            "  cpuset_checked))\n"
          ]
        },
        {
          "output_type": "stream",
          "name": "stdout",
          "text": [
            " 15%|█▌        | 7/46 [00:03<00:18,  2.15it/s]"
          ]
        },
        {
          "output_type": "stream",
          "name": "stderr",
          "text": [
            "/usr/local/lib/python3.7/dist-packages/torch/utils/data/dataloader.py:481: UserWarning: This DataLoader will create 4 worker processes in total. Our suggested max number of worker in current system is 2, which is smaller than what this DataLoader is going to create. Please be aware that excessive worker creation might get DataLoader running slow or even freeze, lower the worker number to avoid potential slowness/freeze if necessary.\n",
            "  cpuset_checked))\n"
          ]
        },
        {
          "output_type": "stream",
          "name": "stdout",
          "text": [
            " 17%|█▋        | 8/46 [00:04<00:17,  2.13it/s]"
          ]
        },
        {
          "output_type": "stream",
          "name": "stderr",
          "text": [
            "/usr/local/lib/python3.7/dist-packages/torch/utils/data/dataloader.py:481: UserWarning: This DataLoader will create 4 worker processes in total. Our suggested max number of worker in current system is 2, which is smaller than what this DataLoader is going to create. Please be aware that excessive worker creation might get DataLoader running slow or even freeze, lower the worker number to avoid potential slowness/freeze if necessary.\n",
            "  cpuset_checked))\n"
          ]
        },
        {
          "output_type": "stream",
          "name": "stdout",
          "text": [
            " 20%|█▉        | 9/46 [00:04<00:17,  2.17it/s]"
          ]
        },
        {
          "output_type": "stream",
          "name": "stderr",
          "text": [
            "/usr/local/lib/python3.7/dist-packages/torch/utils/data/dataloader.py:481: UserWarning: This DataLoader will create 4 worker processes in total. Our suggested max number of worker in current system is 2, which is smaller than what this DataLoader is going to create. Please be aware that excessive worker creation might get DataLoader running slow or even freeze, lower the worker number to avoid potential slowness/freeze if necessary.\n",
            "  cpuset_checked))\n"
          ]
        },
        {
          "output_type": "stream",
          "name": "stdout",
          "text": [
            " 22%|██▏       | 10/46 [00:05<00:16,  2.15it/s]"
          ]
        },
        {
          "output_type": "stream",
          "name": "stderr",
          "text": [
            "/usr/local/lib/python3.7/dist-packages/torch/utils/data/dataloader.py:481: UserWarning: This DataLoader will create 4 worker processes in total. Our suggested max number of worker in current system is 2, which is smaller than what this DataLoader is going to create. Please be aware that excessive worker creation might get DataLoader running slow or even freeze, lower the worker number to avoid potential slowness/freeze if necessary.\n",
            "  cpuset_checked))\n"
          ]
        },
        {
          "output_type": "stream",
          "name": "stdout",
          "text": [
            " 26%|██▌       | 12/46 [00:06<00:15,  2.14it/s]"
          ]
        },
        {
          "output_type": "stream",
          "name": "stderr",
          "text": [
            "/usr/local/lib/python3.7/dist-packages/torch/utils/data/dataloader.py:481: UserWarning: This DataLoader will create 4 worker processes in total. Our suggested max number of worker in current system is 2, which is smaller than what this DataLoader is going to create. Please be aware that excessive worker creation might get DataLoader running slow or even freeze, lower the worker number to avoid potential slowness/freeze if necessary.\n",
            "  cpuset_checked))\n"
          ]
        },
        {
          "output_type": "stream",
          "name": "stdout",
          "text": [
            " 28%|██▊       | 13/46 [00:06<00:15,  2.13it/s]"
          ]
        },
        {
          "output_type": "stream",
          "name": "stderr",
          "text": [
            "/usr/local/lib/python3.7/dist-packages/torch/utils/data/dataloader.py:481: UserWarning: This DataLoader will create 4 worker processes in total. Our suggested max number of worker in current system is 2, which is smaller than what this DataLoader is going to create. Please be aware that excessive worker creation might get DataLoader running slow or even freeze, lower the worker number to avoid potential slowness/freeze if necessary.\n",
            "  cpuset_checked))\n"
          ]
        },
        {
          "output_type": "stream",
          "name": "stdout",
          "text": [
            " 30%|███       | 14/46 [00:07<00:14,  2.13it/s]"
          ]
        },
        {
          "output_type": "stream",
          "name": "stderr",
          "text": [
            "/usr/local/lib/python3.7/dist-packages/torch/utils/data/dataloader.py:481: UserWarning: This DataLoader will create 4 worker processes in total. Our suggested max number of worker in current system is 2, which is smaller than what this DataLoader is going to create. Please be aware that excessive worker creation might get DataLoader running slow or even freeze, lower the worker number to avoid potential slowness/freeze if necessary.\n",
            "  cpuset_checked))\n"
          ]
        },
        {
          "output_type": "stream",
          "name": "stdout",
          "text": [
            " 33%|███▎      | 15/46 [00:07<00:14,  2.16it/s]"
          ]
        },
        {
          "output_type": "stream",
          "name": "stderr",
          "text": [
            "/usr/local/lib/python3.7/dist-packages/torch/utils/data/dataloader.py:481: UserWarning: This DataLoader will create 4 worker processes in total. Our suggested max number of worker in current system is 2, which is smaller than what this DataLoader is going to create. Please be aware that excessive worker creation might get DataLoader running slow or even freeze, lower the worker number to avoid potential slowness/freeze if necessary.\n",
            "  cpuset_checked))\n"
          ]
        },
        {
          "output_type": "stream",
          "name": "stdout",
          "text": [
            " 35%|███▍      | 16/46 [00:07<00:13,  2.14it/s]"
          ]
        },
        {
          "output_type": "stream",
          "name": "stderr",
          "text": [
            "/usr/local/lib/python3.7/dist-packages/torch/utils/data/dataloader.py:481: UserWarning: This DataLoader will create 4 worker processes in total. Our suggested max number of worker in current system is 2, which is smaller than what this DataLoader is going to create. Please be aware that excessive worker creation might get DataLoader running slow or even freeze, lower the worker number to avoid potential slowness/freeze if necessary.\n",
            "  cpuset_checked))\n"
          ]
        },
        {
          "output_type": "stream",
          "name": "stdout",
          "text": [
            " 37%|███▋      | 17/46 [00:08<00:13,  2.16it/s]"
          ]
        },
        {
          "output_type": "stream",
          "name": "stderr",
          "text": [
            "/usr/local/lib/python3.7/dist-packages/torch/utils/data/dataloader.py:481: UserWarning: This DataLoader will create 4 worker processes in total. Our suggested max number of worker in current system is 2, which is smaller than what this DataLoader is going to create. Please be aware that excessive worker creation might get DataLoader running slow or even freeze, lower the worker number to avoid potential slowness/freeze if necessary.\n",
            "  cpuset_checked))\n"
          ]
        },
        {
          "output_type": "stream",
          "name": "stdout",
          "text": [
            " 39%|███▉      | 18/46 [00:08<00:12,  2.17it/s]"
          ]
        },
        {
          "output_type": "stream",
          "name": "stderr",
          "text": [
            "/usr/local/lib/python3.7/dist-packages/torch/utils/data/dataloader.py:481: UserWarning: This DataLoader will create 4 worker processes in total. Our suggested max number of worker in current system is 2, which is smaller than what this DataLoader is going to create. Please be aware that excessive worker creation might get DataLoader running slow or even freeze, lower the worker number to avoid potential slowness/freeze if necessary.\n",
            "  cpuset_checked))\n"
          ]
        },
        {
          "output_type": "stream",
          "name": "stdout",
          "text": [
            " 41%|████▏     | 19/46 [00:09<00:12,  2.15it/s]"
          ]
        },
        {
          "output_type": "stream",
          "name": "stderr",
          "text": [
            "/usr/local/lib/python3.7/dist-packages/torch/utils/data/dataloader.py:481: UserWarning: This DataLoader will create 4 worker processes in total. Our suggested max number of worker in current system is 2, which is smaller than what this DataLoader is going to create. Please be aware that excessive worker creation might get DataLoader running slow or even freeze, lower the worker number to avoid potential slowness/freeze if necessary.\n",
            "  cpuset_checked))\n"
          ]
        },
        {
          "output_type": "stream",
          "name": "stdout",
          "text": [
            " 43%|████▎     | 20/46 [00:09<00:11,  2.22it/s]"
          ]
        },
        {
          "output_type": "stream",
          "name": "stderr",
          "text": [
            "/usr/local/lib/python3.7/dist-packages/torch/utils/data/dataloader.py:481: UserWarning: This DataLoader will create 4 worker processes in total. Our suggested max number of worker in current system is 2, which is smaller than what this DataLoader is going to create. Please be aware that excessive worker creation might get DataLoader running slow or even freeze, lower the worker number to avoid potential slowness/freeze if necessary.\n",
            "  cpuset_checked))\n"
          ]
        },
        {
          "output_type": "stream",
          "name": "stdout",
          "text": [
            " 46%|████▌     | 21/46 [00:10<00:11,  2.22it/s]"
          ]
        },
        {
          "output_type": "stream",
          "name": "stderr",
          "text": [
            "/usr/local/lib/python3.7/dist-packages/torch/utils/data/dataloader.py:481: UserWarning: This DataLoader will create 4 worker processes in total. Our suggested max number of worker in current system is 2, which is smaller than what this DataLoader is going to create. Please be aware that excessive worker creation might get DataLoader running slow or even freeze, lower the worker number to avoid potential slowness/freeze if necessary.\n",
            "  cpuset_checked))\n"
          ]
        },
        {
          "output_type": "stream",
          "name": "stdout",
          "text": [
            " 48%|████▊     | 22/46 [00:10<00:10,  2.23it/s]"
          ]
        },
        {
          "output_type": "stream",
          "name": "stderr",
          "text": [
            "/usr/local/lib/python3.7/dist-packages/torch/utils/data/dataloader.py:481: UserWarning: This DataLoader will create 4 worker processes in total. Our suggested max number of worker in current system is 2, which is smaller than what this DataLoader is going to create. Please be aware that excessive worker creation might get DataLoader running slow or even freeze, lower the worker number to avoid potential slowness/freeze if necessary.\n",
            "  cpuset_checked))\n"
          ]
        },
        {
          "output_type": "stream",
          "name": "stdout",
          "text": [
            " 52%|█████▏    | 24/46 [00:11<00:09,  2.23it/s]"
          ]
        },
        {
          "output_type": "stream",
          "name": "stderr",
          "text": [
            "/usr/local/lib/python3.7/dist-packages/torch/utils/data/dataloader.py:481: UserWarning: This DataLoader will create 4 worker processes in total. Our suggested max number of worker in current system is 2, which is smaller than what this DataLoader is going to create. Please be aware that excessive worker creation might get DataLoader running slow or even freeze, lower the worker number to avoid potential slowness/freeze if necessary.\n",
            "  cpuset_checked))\n"
          ]
        },
        {
          "output_type": "stream",
          "name": "stdout",
          "text": [
            " 54%|█████▍    | 25/46 [00:12<00:09,  2.21it/s]"
          ]
        },
        {
          "output_type": "stream",
          "name": "stderr",
          "text": [
            "/usr/local/lib/python3.7/dist-packages/torch/utils/data/dataloader.py:481: UserWarning: This DataLoader will create 4 worker processes in total. Our suggested max number of worker in current system is 2, which is smaller than what this DataLoader is going to create. Please be aware that excessive worker creation might get DataLoader running slow or even freeze, lower the worker number to avoid potential slowness/freeze if necessary.\n",
            "  cpuset_checked))\n"
          ]
        },
        {
          "output_type": "stream",
          "name": "stdout",
          "text": [
            " 57%|█████▋    | 26/46 [00:12<00:09,  2.19it/s]"
          ]
        },
        {
          "output_type": "stream",
          "name": "stderr",
          "text": [
            "/usr/local/lib/python3.7/dist-packages/torch/utils/data/dataloader.py:481: UserWarning: This DataLoader will create 4 worker processes in total. Our suggested max number of worker in current system is 2, which is smaller than what this DataLoader is going to create. Please be aware that excessive worker creation might get DataLoader running slow or even freeze, lower the worker number to avoid potential slowness/freeze if necessary.\n",
            "  cpuset_checked))\n"
          ]
        },
        {
          "output_type": "stream",
          "name": "stdout",
          "text": [
            " 59%|█████▊    | 27/46 [00:12<00:08,  2.21it/s]"
          ]
        },
        {
          "output_type": "stream",
          "name": "stderr",
          "text": [
            "/usr/local/lib/python3.7/dist-packages/torch/utils/data/dataloader.py:481: UserWarning: This DataLoader will create 4 worker processes in total. Our suggested max number of worker in current system is 2, which is smaller than what this DataLoader is going to create. Please be aware that excessive worker creation might get DataLoader running slow or even freeze, lower the worker number to avoid potential slowness/freeze if necessary.\n",
            "  cpuset_checked))\n"
          ]
        },
        {
          "output_type": "stream",
          "name": "stdout",
          "text": [
            " 61%|██████    | 28/46 [00:13<00:08,  2.21it/s]"
          ]
        },
        {
          "output_type": "stream",
          "name": "stderr",
          "text": [
            "/usr/local/lib/python3.7/dist-packages/torch/utils/data/dataloader.py:481: UserWarning: This DataLoader will create 4 worker processes in total. Our suggested max number of worker in current system is 2, which is smaller than what this DataLoader is going to create. Please be aware that excessive worker creation might get DataLoader running slow or even freeze, lower the worker number to avoid potential slowness/freeze if necessary.\n",
            "  cpuset_checked))\n"
          ]
        },
        {
          "output_type": "stream",
          "name": "stdout",
          "text": [
            " 63%|██████▎   | 29/46 [00:13<00:07,  2.25it/s]"
          ]
        },
        {
          "output_type": "stream",
          "name": "stderr",
          "text": [
            "/usr/local/lib/python3.7/dist-packages/torch/utils/data/dataloader.py:481: UserWarning: This DataLoader will create 4 worker processes in total. Our suggested max number of worker in current system is 2, which is smaller than what this DataLoader is going to create. Please be aware that excessive worker creation might get DataLoader running slow or even freeze, lower the worker number to avoid potential slowness/freeze if necessary.\n",
            "  cpuset_checked))\n"
          ]
        },
        {
          "output_type": "stream",
          "name": "stdout",
          "text": [
            " 65%|██████▌   | 30/46 [00:14<00:07,  2.25it/s]"
          ]
        },
        {
          "output_type": "stream",
          "name": "stderr",
          "text": [
            "/usr/local/lib/python3.7/dist-packages/torch/utils/data/dataloader.py:481: UserWarning: This DataLoader will create 4 worker processes in total. Our suggested max number of worker in current system is 2, which is smaller than what this DataLoader is going to create. Please be aware that excessive worker creation might get DataLoader running slow or even freeze, lower the worker number to avoid potential slowness/freeze if necessary.\n",
            "  cpuset_checked))\n"
          ]
        },
        {
          "output_type": "stream",
          "name": "stdout",
          "text": [
            " 67%|██████▋   | 31/46 [00:14<00:06,  2.22it/s]"
          ]
        },
        {
          "output_type": "stream",
          "name": "stderr",
          "text": [
            "/usr/local/lib/python3.7/dist-packages/torch/utils/data/dataloader.py:481: UserWarning: This DataLoader will create 4 worker processes in total. Our suggested max number of worker in current system is 2, which is smaller than what this DataLoader is going to create. Please be aware that excessive worker creation might get DataLoader running slow or even freeze, lower the worker number to avoid potential slowness/freeze if necessary.\n",
            "  cpuset_checked))\n"
          ]
        },
        {
          "output_type": "stream",
          "name": "stdout",
          "text": [
            " 70%|██████▉   | 32/46 [00:15<00:06,  2.21it/s]"
          ]
        },
        {
          "output_type": "stream",
          "name": "stderr",
          "text": [
            "/usr/local/lib/python3.7/dist-packages/torch/utils/data/dataloader.py:481: UserWarning: This DataLoader will create 4 worker processes in total. Our suggested max number of worker in current system is 2, which is smaller than what this DataLoader is going to create. Please be aware that excessive worker creation might get DataLoader running slow or even freeze, lower the worker number to avoid potential slowness/freeze if necessary.\n",
            "  cpuset_checked))\n"
          ]
        },
        {
          "output_type": "stream",
          "name": "stdout",
          "text": [
            " 72%|███████▏  | 33/46 [00:15<00:06,  2.15it/s]"
          ]
        },
        {
          "output_type": "stream",
          "name": "stderr",
          "text": [
            "/usr/local/lib/python3.7/dist-packages/torch/utils/data/dataloader.py:481: UserWarning: This DataLoader will create 4 worker processes in total. Our suggested max number of worker in current system is 2, which is smaller than what this DataLoader is going to create. Please be aware that excessive worker creation might get DataLoader running slow or even freeze, lower the worker number to avoid potential slowness/freeze if necessary.\n",
            "  cpuset_checked))\n"
          ]
        },
        {
          "output_type": "stream",
          "name": "stdout",
          "text": [
            " 74%|███████▍  | 34/46 [00:16<00:05,  2.13it/s]"
          ]
        },
        {
          "output_type": "stream",
          "name": "stderr",
          "text": [
            "/usr/local/lib/python3.7/dist-packages/torch/utils/data/dataloader.py:481: UserWarning: This DataLoader will create 4 worker processes in total. Our suggested max number of worker in current system is 2, which is smaller than what this DataLoader is going to create. Please be aware that excessive worker creation might get DataLoader running slow or even freeze, lower the worker number to avoid potential slowness/freeze if necessary.\n",
            "  cpuset_checked))\n"
          ]
        },
        {
          "output_type": "stream",
          "name": "stdout",
          "text": [
            " 78%|███████▊  | 36/46 [00:17<00:04,  2.13it/s]"
          ]
        },
        {
          "output_type": "stream",
          "name": "stderr",
          "text": [
            "/usr/local/lib/python3.7/dist-packages/torch/utils/data/dataloader.py:481: UserWarning: This DataLoader will create 4 worker processes in total. Our suggested max number of worker in current system is 2, which is smaller than what this DataLoader is going to create. Please be aware that excessive worker creation might get DataLoader running slow or even freeze, lower the worker number to avoid potential slowness/freeze if necessary.\n",
            "  cpuset_checked))\n"
          ]
        },
        {
          "output_type": "stream",
          "name": "stdout",
          "text": [
            " 80%|████████  | 37/46 [00:17<00:04,  1.98it/s]"
          ]
        },
        {
          "output_type": "stream",
          "name": "stderr",
          "text": [
            "/usr/local/lib/python3.7/dist-packages/torch/utils/data/dataloader.py:481: UserWarning: This DataLoader will create 4 worker processes in total. Our suggested max number of worker in current system is 2, which is smaller than what this DataLoader is going to create. Please be aware that excessive worker creation might get DataLoader running slow or even freeze, lower the worker number to avoid potential slowness/freeze if necessary.\n",
            "  cpuset_checked))\n"
          ]
        },
        {
          "output_type": "stream",
          "name": "stdout",
          "text": [
            " 85%|████████▍ | 39/46 [00:18<00:03,  2.20it/s]"
          ]
        },
        {
          "output_type": "stream",
          "name": "stderr",
          "text": [
            "/usr/local/lib/python3.7/dist-packages/torch/utils/data/dataloader.py:481: UserWarning: This DataLoader will create 4 worker processes in total. Our suggested max number of worker in current system is 2, which is smaller than what this DataLoader is going to create. Please be aware that excessive worker creation might get DataLoader running slow or even freeze, lower the worker number to avoid potential slowness/freeze if necessary.\n",
            "  cpuset_checked))\n"
          ]
        },
        {
          "output_type": "stream",
          "name": "stdout",
          "text": [
            " 87%|████████▋ | 40/46 [00:18<00:02,  2.27it/s]"
          ]
        },
        {
          "output_type": "stream",
          "name": "stderr",
          "text": [
            "/usr/local/lib/python3.7/dist-packages/torch/utils/data/dataloader.py:481: UserWarning: This DataLoader will create 4 worker processes in total. Our suggested max number of worker in current system is 2, which is smaller than what this DataLoader is going to create. Please be aware that excessive worker creation might get DataLoader running slow or even freeze, lower the worker number to avoid potential slowness/freeze if necessary.\n",
            "  cpuset_checked))\n"
          ]
        },
        {
          "output_type": "stream",
          "name": "stdout",
          "text": [
            " 89%|████████▉ | 41/46 [00:19<00:02,  2.39it/s]"
          ]
        },
        {
          "output_type": "stream",
          "name": "stderr",
          "text": [
            "/usr/local/lib/python3.7/dist-packages/torch/utils/data/dataloader.py:481: UserWarning: This DataLoader will create 4 worker processes in total. Our suggested max number of worker in current system is 2, which is smaller than what this DataLoader is going to create. Please be aware that excessive worker creation might get DataLoader running slow or even freeze, lower the worker number to avoid potential slowness/freeze if necessary.\n",
            "  cpuset_checked))\n"
          ]
        },
        {
          "output_type": "stream",
          "name": "stdout",
          "text": [
            " 91%|█████████▏| 42/46 [00:19<00:01,  2.38it/s]"
          ]
        },
        {
          "output_type": "stream",
          "name": "stderr",
          "text": [
            "/usr/local/lib/python3.7/dist-packages/torch/utils/data/dataloader.py:481: UserWarning: This DataLoader will create 4 worker processes in total. Our suggested max number of worker in current system is 2, which is smaller than what this DataLoader is going to create. Please be aware that excessive worker creation might get DataLoader running slow or even freeze, lower the worker number to avoid potential slowness/freeze if necessary.\n",
            "  cpuset_checked))\n"
          ]
        },
        {
          "output_type": "stream",
          "name": "stdout",
          "text": [
            " 96%|█████████▌| 44/46 [00:20<00:00,  2.44it/s]"
          ]
        },
        {
          "output_type": "stream",
          "name": "stderr",
          "text": [
            "/usr/local/lib/python3.7/dist-packages/torch/utils/data/dataloader.py:481: UserWarning: This DataLoader will create 4 worker processes in total. Our suggested max number of worker in current system is 2, which is smaller than what this DataLoader is going to create. Please be aware that excessive worker creation might get DataLoader running slow or even freeze, lower the worker number to avoid potential slowness/freeze if necessary.\n",
            "  cpuset_checked))\n"
          ]
        },
        {
          "output_type": "stream",
          "name": "stdout",
          "text": [
            " 98%|█████████▊| 45/46 [00:20<00:00,  2.44it/s]"
          ]
        },
        {
          "output_type": "stream",
          "name": "stderr",
          "text": [
            "/usr/local/lib/python3.7/dist-packages/torch/utils/data/dataloader.py:481: UserWarning: This DataLoader will create 4 worker processes in total. Our suggested max number of worker in current system is 2, which is smaller than what this DataLoader is going to create. Please be aware that excessive worker creation might get DataLoader running slow or even freeze, lower the worker number to avoid potential slowness/freeze if necessary.\n",
            "  cpuset_checked))\n"
          ]
        },
        {
          "output_type": "stream",
          "name": "stdout",
          "text": [
            "100%|██████████| 46/46 [00:21<00:00,  2.14it/s]\n",
            "Epoch 0 ended.\n",
            "\tDiskUsage_Epoch/train_phase/train_stream/Task000 = 55532.3242\n",
            "\tMaxGPU0Usage_Epoch/train_phase/train_stream/Task000 = 0\n",
            "\tMaxRAMUsage_Epoch/train_phase/train_stream/Task000 = 3308.5742\n",
            "\tTime_Epoch/train_phase/train_stream/Task000 = 21.2581\n",
            "\tTop1_Acc_Epoch/train_phase/train_stream/Task000 = 0.8786\n",
            "-- >> End of training phase << --\n",
            "Training completed\n",
            "Computing accuracy on the whole test set\n",
            "-- >> Start of eval phase << --\n",
            "-- Starting eval on experience 0 (Task 0) from test stream --\n"
          ]
        },
        {
          "output_type": "stream",
          "name": "stderr",
          "text": [
            "/usr/local/lib/python3.7/dist-packages/torch/utils/data/dataloader.py:481: UserWarning: This DataLoader will create 4 worker processes in total. Our suggested max number of worker in current system is 2, which is smaller than what this DataLoader is going to create. Please be aware that excessive worker creation might get DataLoader running slow or even freeze, lower the worker number to avoid potential slowness/freeze if necessary.\n",
            "  cpuset_checked))\n"
          ]
        },
        {
          "output_type": "stream",
          "name": "stdout",
          "text": [
            "\r0it [00:00, ?it/s]"
          ]
        },
        {
          "output_type": "stream",
          "name": "stderr",
          "text": [
            "/usr/local/lib/python3.7/dist-packages/torch/utils/data/dataloader.py:481: UserWarning: This DataLoader will create 4 worker processes in total. Our suggested max number of worker in current system is 2, which is smaller than what this DataLoader is going to create. Please be aware that excessive worker creation might get DataLoader running slow or even freeze, lower the worker number to avoid potential slowness/freeze if necessary.\n",
            "  cpuset_checked))\n"
          ]
        },
        {
          "output_type": "stream",
          "name": "stdout",
          "text": [
            "100%|██████████| 20/20 [00:01<00:00, 15.36it/s]\n",
            "> Eval on experience 0 (Task 0) from test stream ended.\n",
            "\tCPUUsage_Exp/eval_phase/test_stream/Task000/Exp000 = 49.5822\n",
            "\tDiskUsage_Exp/eval_phase/test_stream/Task000/Exp000 = 55532.3242\n",
            "\tMaxGPU0Usage_Experience/eval_phase/test_stream/Task000/Exp000 = 0\n",
            "\tMaxRAMUsage_Experience/eval_phase/test_stream/Task000/Exp000 = 3308.4023\n",
            "\tTime_Exp/eval_phase/test_stream/Task000/Exp000 = 1.2515\n",
            "\tTop1_Acc_Exp/eval_phase/test_stream/Task000/Exp000 = 0.8655\n",
            "-- Starting eval on experience 1 (Task 0) from test stream --\n"
          ]
        },
        {
          "output_type": "stream",
          "name": "stderr",
          "text": [
            "/usr/local/lib/python3.7/dist-packages/torch/utils/data/dataloader.py:481: UserWarning: This DataLoader will create 4 worker processes in total. Our suggested max number of worker in current system is 2, which is smaller than what this DataLoader is going to create. Please be aware that excessive worker creation might get DataLoader running slow or even freeze, lower the worker number to avoid potential slowness/freeze if necessary.\n",
            "  cpuset_checked))\n"
          ]
        },
        {
          "output_type": "stream",
          "name": "stdout",
          "text": [
            "100%|██████████| 22/22 [00:01<00:00, 15.19it/s]\n",
            "> Eval on experience 1 (Task 0) from test stream ended.\n",
            "\tCPUUsage_Exp/eval_phase/test_stream/Task000/Exp001 = 46.9363\n",
            "\tDiskUsage_Exp/eval_phase/test_stream/Task000/Exp001 = 55532.3242\n",
            "\tMaxGPU0Usage_Experience/eval_phase/test_stream/Task000/Exp001 = 0\n",
            "\tMaxRAMUsage_Experience/eval_phase/test_stream/Task000/Exp001 = 3308.4102\n",
            "\tTime_Exp/eval_phase/test_stream/Task000/Exp001 = 1.3643\n",
            "\tTop1_Acc_Exp/eval_phase/test_stream/Task000/Exp001 = 0.9340\n",
            "-- Starting eval on experience 2 (Task 0) from test stream --\n"
          ]
        },
        {
          "output_type": "stream",
          "name": "stderr",
          "text": [
            "/usr/local/lib/python3.7/dist-packages/torch/utils/data/dataloader.py:481: UserWarning: This DataLoader will create 4 worker processes in total. Our suggested max number of worker in current system is 2, which is smaller than what this DataLoader is going to create. Please be aware that excessive worker creation might get DataLoader running slow or even freeze, lower the worker number to avoid potential slowness/freeze if necessary.\n",
            "  cpuset_checked))\n"
          ]
        },
        {
          "output_type": "stream",
          "name": "stdout",
          "text": [
            "100%|██████████| 20/20 [00:01<00:00, 14.12it/s]\n",
            "> Eval on experience 2 (Task 0) from test stream ended.\n",
            "\tCPUUsage_Exp/eval_phase/test_stream/Task000/Exp002 = 50.5805\n",
            "\tDiskUsage_Exp/eval_phase/test_stream/Task000/Exp002 = 55532.3242\n",
            "\tMaxGPU0Usage_Experience/eval_phase/test_stream/Task000/Exp002 = 0\n",
            "\tMaxRAMUsage_Experience/eval_phase/test_stream/Task000/Exp002 = 3308.4102\n",
            "\tTime_Exp/eval_phase/test_stream/Task000/Exp002 = 1.3250\n",
            "\tTop1_Acc_Exp/eval_phase/test_stream/Task000/Exp002 = 0.8472\n",
            "-- Starting eval on experience 3 (Task 0) from test stream --\n"
          ]
        },
        {
          "output_type": "stream",
          "name": "stderr",
          "text": [
            "/usr/local/lib/python3.7/dist-packages/torch/utils/data/dataloader.py:481: UserWarning: This DataLoader will create 4 worker processes in total. Our suggested max number of worker in current system is 2, which is smaller than what this DataLoader is going to create. Please be aware that excessive worker creation might get DataLoader running slow or even freeze, lower the worker number to avoid potential slowness/freeze if necessary.\n",
            "  cpuset_checked))\n"
          ]
        },
        {
          "output_type": "stream",
          "name": "stdout",
          "text": [
            "100%|██████████| 19/19 [00:01<00:00, 15.02it/s]\n",
            "> Eval on experience 3 (Task 0) from test stream ended.\n",
            "\tCPUUsage_Exp/eval_phase/test_stream/Task000/Exp003 = 47.4637\n",
            "\tDiskUsage_Exp/eval_phase/test_stream/Task000/Exp003 = 55532.3242\n",
            "\tMaxGPU0Usage_Experience/eval_phase/test_stream/Task000/Exp003 = 0\n",
            "\tMaxRAMUsage_Experience/eval_phase/test_stream/Task000/Exp003 = 3308.4102\n",
            "\tTime_Exp/eval_phase/test_stream/Task000/Exp003 = 1.1393\n",
            "\tTop1_Acc_Exp/eval_phase/test_stream/Task000/Exp003 = 0.9567\n",
            "-- Starting eval on experience 4 (Task 0) from test stream --\n"
          ]
        },
        {
          "output_type": "stream",
          "name": "stderr",
          "text": [
            "/usr/local/lib/python3.7/dist-packages/torch/utils/data/dataloader.py:481: UserWarning: This DataLoader will create 4 worker processes in total. Our suggested max number of worker in current system is 2, which is smaller than what this DataLoader is going to create. Please be aware that excessive worker creation might get DataLoader running slow or even freeze, lower the worker number to avoid potential slowness/freeze if necessary.\n",
            "  cpuset_checked))\n"
          ]
        },
        {
          "output_type": "stream",
          "name": "stdout",
          "text": [
            "100%|██████████| 20/20 [00:01<00:00, 15.18it/s]\n",
            "> Eval on experience 4 (Task 0) from test stream ended.\n",
            "\tCPUUsage_Exp/eval_phase/test_stream/Task000/Exp004 = 48.0322\n",
            "\tDiskUsage_Exp/eval_phase/test_stream/Task000/Exp004 = 55532.3242\n",
            "\tMaxGPU0Usage_Experience/eval_phase/test_stream/Task000/Exp004 = 0\n",
            "\tMaxRAMUsage_Experience/eval_phase/test_stream/Task000/Exp004 = 3308.3945\n",
            "\tTime_Exp/eval_phase/test_stream/Task000/Exp004 = 1.2285\n",
            "\tTop1_Acc_Exp/eval_phase/test_stream/Task000/Exp004 = 0.6793\n",
            "-- >> End of eval phase << --\n",
            "\tDiskUsage_Stream/eval_phase/test_stream/Task000 = 55532.3242\n",
            "\tMaxGPU0Usage_Stream/eval_phase/test_stream/Task000 = 0\n",
            "\tMaxRAMUsage_Stream/eval_phase/test_stream/Task000 = 3308.4102\n",
            "\tTop1_Acc_Stream/eval_phase/test_stream/Task000 = 0.8568\n",
            "Start of experience:  4\n",
            "Current Classes:  [6, 7]\n",
            "-- >> Start of training phase << --\n",
            "-- Starting training on experience 4 (Task 0) from train stream --\n"
          ]
        },
        {
          "output_type": "stream",
          "name": "stderr",
          "text": [
            "/usr/local/lib/python3.7/dist-packages/torch/utils/data/dataloader.py:481: UserWarning: This DataLoader will create 4 worker processes in total. Our suggested max number of worker in current system is 2, which is smaller than what this DataLoader is going to create. Please be aware that excessive worker creation might get DataLoader running slow or even freeze, lower the worker number to avoid potential slowness/freeze if necessary.\n",
            "  cpuset_checked))\n"
          ]
        },
        {
          "output_type": "stream",
          "name": "stdout",
          "text": [
            "  2%|▏         | 1/49 [00:01<00:52,  1.08s/it]"
          ]
        },
        {
          "output_type": "stream",
          "name": "stderr",
          "text": [
            "/usr/local/lib/python3.7/dist-packages/torch/utils/data/dataloader.py:481: UserWarning: This DataLoader will create 4 worker processes in total. Our suggested max number of worker in current system is 2, which is smaller than what this DataLoader is going to create. Please be aware that excessive worker creation might get DataLoader running slow or even freeze, lower the worker number to avoid potential slowness/freeze if necessary.\n",
            "  cpuset_checked))\n"
          ]
        },
        {
          "output_type": "stream",
          "name": "stdout",
          "text": [
            "  4%|▍         | 2/49 [00:01<00:34,  1.37it/s]"
          ]
        },
        {
          "output_type": "stream",
          "name": "stderr",
          "text": [
            "/usr/local/lib/python3.7/dist-packages/torch/utils/data/dataloader.py:481: UserWarning: This DataLoader will create 4 worker processes in total. Our suggested max number of worker in current system is 2, which is smaller than what this DataLoader is going to create. Please be aware that excessive worker creation might get DataLoader running slow or even freeze, lower the worker number to avoid potential slowness/freeze if necessary.\n",
            "  cpuset_checked))\n"
          ]
        },
        {
          "output_type": "stream",
          "name": "stdout",
          "text": [
            "  6%|▌         | 3/49 [00:02<00:28,  1.63it/s]"
          ]
        },
        {
          "output_type": "stream",
          "name": "stderr",
          "text": [
            "/usr/local/lib/python3.7/dist-packages/torch/utils/data/dataloader.py:481: UserWarning: This DataLoader will create 4 worker processes in total. Our suggested max number of worker in current system is 2, which is smaller than what this DataLoader is going to create. Please be aware that excessive worker creation might get DataLoader running slow or even freeze, lower the worker number to avoid potential slowness/freeze if necessary.\n",
            "  cpuset_checked))\n"
          ]
        },
        {
          "output_type": "stream",
          "name": "stdout",
          "text": [
            "  8%|▊         | 4/49 [00:02<00:24,  1.81it/s]"
          ]
        },
        {
          "output_type": "stream",
          "name": "stderr",
          "text": [
            "/usr/local/lib/python3.7/dist-packages/torch/utils/data/dataloader.py:481: UserWarning: This DataLoader will create 4 worker processes in total. Our suggested max number of worker in current system is 2, which is smaller than what this DataLoader is going to create. Please be aware that excessive worker creation might get DataLoader running slow or even freeze, lower the worker number to avoid potential slowness/freeze if necessary.\n",
            "  cpuset_checked))\n"
          ]
        },
        {
          "output_type": "stream",
          "name": "stdout",
          "text": [
            " 10%|█         | 5/49 [00:02<00:22,  1.92it/s]"
          ]
        },
        {
          "output_type": "stream",
          "name": "stderr",
          "text": [
            "/usr/local/lib/python3.7/dist-packages/torch/utils/data/dataloader.py:481: UserWarning: This DataLoader will create 4 worker processes in total. Our suggested max number of worker in current system is 2, which is smaller than what this DataLoader is going to create. Please be aware that excessive worker creation might get DataLoader running slow or even freeze, lower the worker number to avoid potential slowness/freeze if necessary.\n",
            "  cpuset_checked))\n"
          ]
        },
        {
          "output_type": "stream",
          "name": "stdout",
          "text": [
            " 12%|█▏        | 6/49 [00:03<00:21,  2.02it/s]"
          ]
        },
        {
          "output_type": "stream",
          "name": "stderr",
          "text": [
            "/usr/local/lib/python3.7/dist-packages/torch/utils/data/dataloader.py:481: UserWarning: This DataLoader will create 4 worker processes in total. Our suggested max number of worker in current system is 2, which is smaller than what this DataLoader is going to create. Please be aware that excessive worker creation might get DataLoader running slow or even freeze, lower the worker number to avoid potential slowness/freeze if necessary.\n",
            "  cpuset_checked))\n"
          ]
        },
        {
          "output_type": "stream",
          "name": "stdout",
          "text": [
            " 14%|█▍        | 7/49 [00:03<00:20,  2.07it/s]"
          ]
        },
        {
          "output_type": "stream",
          "name": "stderr",
          "text": [
            "/usr/local/lib/python3.7/dist-packages/torch/utils/data/dataloader.py:481: UserWarning: This DataLoader will create 4 worker processes in total. Our suggested max number of worker in current system is 2, which is smaller than what this DataLoader is going to create. Please be aware that excessive worker creation might get DataLoader running slow or even freeze, lower the worker number to avoid potential slowness/freeze if necessary.\n",
            "  cpuset_checked))\n"
          ]
        },
        {
          "output_type": "stream",
          "name": "stdout",
          "text": [
            " 16%|█▋        | 8/49 [00:04<00:19,  2.12it/s]"
          ]
        },
        {
          "output_type": "stream",
          "name": "stderr",
          "text": [
            "/usr/local/lib/python3.7/dist-packages/torch/utils/data/dataloader.py:481: UserWarning: This DataLoader will create 4 worker processes in total. Our suggested max number of worker in current system is 2, which is smaller than what this DataLoader is going to create. Please be aware that excessive worker creation might get DataLoader running slow or even freeze, lower the worker number to avoid potential slowness/freeze if necessary.\n",
            "  cpuset_checked))\n"
          ]
        },
        {
          "output_type": "stream",
          "name": "stdout",
          "text": [
            " 18%|█▊        | 9/49 [00:04<00:18,  2.12it/s]"
          ]
        },
        {
          "output_type": "stream",
          "name": "stderr",
          "text": [
            "/usr/local/lib/python3.7/dist-packages/torch/utils/data/dataloader.py:481: UserWarning: This DataLoader will create 4 worker processes in total. Our suggested max number of worker in current system is 2, which is smaller than what this DataLoader is going to create. Please be aware that excessive worker creation might get DataLoader running slow or even freeze, lower the worker number to avoid potential slowness/freeze if necessary.\n",
            "  cpuset_checked))\n"
          ]
        },
        {
          "output_type": "stream",
          "name": "stdout",
          "text": [
            " 20%|██        | 10/49 [00:05<00:18,  2.16it/s]"
          ]
        },
        {
          "output_type": "stream",
          "name": "stderr",
          "text": [
            "/usr/local/lib/python3.7/dist-packages/torch/utils/data/dataloader.py:481: UserWarning: This DataLoader will create 4 worker processes in total. Our suggested max number of worker in current system is 2, which is smaller than what this DataLoader is going to create. Please be aware that excessive worker creation might get DataLoader running slow or even freeze, lower the worker number to avoid potential slowness/freeze if necessary.\n",
            "  cpuset_checked))\n"
          ]
        },
        {
          "output_type": "stream",
          "name": "stdout",
          "text": [
            " 22%|██▏       | 11/49 [00:05<00:17,  2.13it/s]"
          ]
        },
        {
          "output_type": "stream",
          "name": "stderr",
          "text": [
            "/usr/local/lib/python3.7/dist-packages/torch/utils/data/dataloader.py:481: UserWarning: This DataLoader will create 4 worker processes in total. Our suggested max number of worker in current system is 2, which is smaller than what this DataLoader is going to create. Please be aware that excessive worker creation might get DataLoader running slow or even freeze, lower the worker number to avoid potential slowness/freeze if necessary.\n",
            "  cpuset_checked))\n"
          ]
        },
        {
          "output_type": "stream",
          "name": "stdout",
          "text": [
            " 24%|██▍       | 12/49 [00:06<00:17,  2.14it/s]"
          ]
        },
        {
          "output_type": "stream",
          "name": "stderr",
          "text": [
            "/usr/local/lib/python3.7/dist-packages/torch/utils/data/dataloader.py:481: UserWarning: This DataLoader will create 4 worker processes in total. Our suggested max number of worker in current system is 2, which is smaller than what this DataLoader is going to create. Please be aware that excessive worker creation might get DataLoader running slow or even freeze, lower the worker number to avoid potential slowness/freeze if necessary.\n",
            "  cpuset_checked))\n"
          ]
        },
        {
          "output_type": "stream",
          "name": "stdout",
          "text": [
            " 27%|██▋       | 13/49 [00:06<00:16,  2.14it/s]"
          ]
        },
        {
          "output_type": "stream",
          "name": "stderr",
          "text": [
            "/usr/local/lib/python3.7/dist-packages/torch/utils/data/dataloader.py:481: UserWarning: This DataLoader will create 4 worker processes in total. Our suggested max number of worker in current system is 2, which is smaller than what this DataLoader is going to create. Please be aware that excessive worker creation might get DataLoader running slow or even freeze, lower the worker number to avoid potential slowness/freeze if necessary.\n",
            "  cpuset_checked))\n"
          ]
        },
        {
          "output_type": "stream",
          "name": "stdout",
          "text": [
            " 31%|███       | 15/49 [00:07<00:15,  2.15it/s]"
          ]
        },
        {
          "output_type": "stream",
          "name": "stderr",
          "text": [
            "/usr/local/lib/python3.7/dist-packages/torch/utils/data/dataloader.py:481: UserWarning: This DataLoader will create 4 worker processes in total. Our suggested max number of worker in current system is 2, which is smaller than what this DataLoader is going to create. Please be aware that excessive worker creation might get DataLoader running slow or even freeze, lower the worker number to avoid potential slowness/freeze if necessary.\n",
            "  cpuset_checked))\n"
          ]
        },
        {
          "output_type": "stream",
          "name": "stdout",
          "text": [
            " 33%|███▎      | 16/49 [00:08<00:15,  2.14it/s]"
          ]
        },
        {
          "output_type": "stream",
          "name": "stderr",
          "text": [
            "/usr/local/lib/python3.7/dist-packages/torch/utils/data/dataloader.py:481: UserWarning: This DataLoader will create 4 worker processes in total. Our suggested max number of worker in current system is 2, which is smaller than what this DataLoader is going to create. Please be aware that excessive worker creation might get DataLoader running slow or even freeze, lower the worker number to avoid potential slowness/freeze if necessary.\n",
            "  cpuset_checked))\n"
          ]
        },
        {
          "output_type": "stream",
          "name": "stdout",
          "text": [
            " 35%|███▍      | 17/49 [00:08<00:14,  2.15it/s]"
          ]
        },
        {
          "output_type": "stream",
          "name": "stderr",
          "text": [
            "/usr/local/lib/python3.7/dist-packages/torch/utils/data/dataloader.py:481: UserWarning: This DataLoader will create 4 worker processes in total. Our suggested max number of worker in current system is 2, which is smaller than what this DataLoader is going to create. Please be aware that excessive worker creation might get DataLoader running slow or even freeze, lower the worker number to avoid potential slowness/freeze if necessary.\n",
            "  cpuset_checked))\n"
          ]
        },
        {
          "output_type": "stream",
          "name": "stdout",
          "text": [
            " 37%|███▋      | 18/49 [00:08<00:14,  2.14it/s]"
          ]
        },
        {
          "output_type": "stream",
          "name": "stderr",
          "text": [
            "/usr/local/lib/python3.7/dist-packages/torch/utils/data/dataloader.py:481: UserWarning: This DataLoader will create 4 worker processes in total. Our suggested max number of worker in current system is 2, which is smaller than what this DataLoader is going to create. Please be aware that excessive worker creation might get DataLoader running slow or even freeze, lower the worker number to avoid potential slowness/freeze if necessary.\n",
            "  cpuset_checked))\n"
          ]
        },
        {
          "output_type": "stream",
          "name": "stdout",
          "text": [
            " 39%|███▉      | 19/49 [00:09<00:14,  2.02it/s]"
          ]
        },
        {
          "output_type": "stream",
          "name": "stderr",
          "text": [
            "/usr/local/lib/python3.7/dist-packages/torch/utils/data/dataloader.py:481: UserWarning: This DataLoader will create 4 worker processes in total. Our suggested max number of worker in current system is 2, which is smaller than what this DataLoader is going to create. Please be aware that excessive worker creation might get DataLoader running slow or even freeze, lower the worker number to avoid potential slowness/freeze if necessary.\n",
            "  cpuset_checked))\n"
          ]
        },
        {
          "output_type": "stream",
          "name": "stdout",
          "text": [
            " 41%|████      | 20/49 [00:10<00:14,  1.98it/s]"
          ]
        },
        {
          "output_type": "stream",
          "name": "stderr",
          "text": [
            "/usr/local/lib/python3.7/dist-packages/torch/utils/data/dataloader.py:481: UserWarning: This DataLoader will create 4 worker processes in total. Our suggested max number of worker in current system is 2, which is smaller than what this DataLoader is going to create. Please be aware that excessive worker creation might get DataLoader running slow or even freeze, lower the worker number to avoid potential slowness/freeze if necessary.\n",
            "  cpuset_checked))\n"
          ]
        },
        {
          "output_type": "stream",
          "name": "stdout",
          "text": [
            " 43%|████▎     | 21/49 [00:10<00:14,  1.89it/s]"
          ]
        },
        {
          "output_type": "stream",
          "name": "stderr",
          "text": [
            "/usr/local/lib/python3.7/dist-packages/torch/utils/data/dataloader.py:481: UserWarning: This DataLoader will create 4 worker processes in total. Our suggested max number of worker in current system is 2, which is smaller than what this DataLoader is going to create. Please be aware that excessive worker creation might get DataLoader running slow or even freeze, lower the worker number to avoid potential slowness/freeze if necessary.\n",
            "  cpuset_checked))\n"
          ]
        },
        {
          "output_type": "stream",
          "name": "stdout",
          "text": [
            " 45%|████▍     | 22/49 [00:11<00:14,  1.87it/s]"
          ]
        },
        {
          "output_type": "stream",
          "name": "stderr",
          "text": [
            "/usr/local/lib/python3.7/dist-packages/torch/utils/data/dataloader.py:481: UserWarning: This DataLoader will create 4 worker processes in total. Our suggested max number of worker in current system is 2, which is smaller than what this DataLoader is going to create. Please be aware that excessive worker creation might get DataLoader running slow or even freeze, lower the worker number to avoid potential slowness/freeze if necessary.\n",
            "  cpuset_checked))\n"
          ]
        },
        {
          "output_type": "stream",
          "name": "stdout",
          "text": [
            " 47%|████▋     | 23/49 [00:11<00:14,  1.78it/s]"
          ]
        },
        {
          "output_type": "stream",
          "name": "stderr",
          "text": [
            "/usr/local/lib/python3.7/dist-packages/torch/utils/data/dataloader.py:481: UserWarning: This DataLoader will create 4 worker processes in total. Our suggested max number of worker in current system is 2, which is smaller than what this DataLoader is going to create. Please be aware that excessive worker creation might get DataLoader running slow or even freeze, lower the worker number to avoid potential slowness/freeze if necessary.\n",
            "  cpuset_checked))\n"
          ]
        },
        {
          "output_type": "stream",
          "name": "stdout",
          "text": [
            " 49%|████▉     | 24/49 [00:12<00:14,  1.77it/s]"
          ]
        },
        {
          "output_type": "stream",
          "name": "stderr",
          "text": [
            "/usr/local/lib/python3.7/dist-packages/torch/utils/data/dataloader.py:481: UserWarning: This DataLoader will create 4 worker processes in total. Our suggested max number of worker in current system is 2, which is smaller than what this DataLoader is going to create. Please be aware that excessive worker creation might get DataLoader running slow or even freeze, lower the worker number to avoid potential slowness/freeze if necessary.\n",
            "  cpuset_checked))\n"
          ]
        },
        {
          "output_type": "stream",
          "name": "stdout",
          "text": [
            " 51%|█████     | 25/49 [00:12<00:12,  1.90it/s]"
          ]
        },
        {
          "output_type": "stream",
          "name": "stderr",
          "text": [
            "/usr/local/lib/python3.7/dist-packages/torch/utils/data/dataloader.py:481: UserWarning: This DataLoader will create 4 worker processes in total. Our suggested max number of worker in current system is 2, which is smaller than what this DataLoader is going to create. Please be aware that excessive worker creation might get DataLoader running slow or even freeze, lower the worker number to avoid potential slowness/freeze if necessary.\n",
            "  cpuset_checked))\n"
          ]
        },
        {
          "output_type": "stream",
          "name": "stdout",
          "text": [
            " 53%|█████▎    | 26/49 [00:13<00:11,  1.97it/s]"
          ]
        },
        {
          "output_type": "stream",
          "name": "stderr",
          "text": [
            "/usr/local/lib/python3.7/dist-packages/torch/utils/data/dataloader.py:481: UserWarning: This DataLoader will create 4 worker processes in total. Our suggested max number of worker in current system is 2, which is smaller than what this DataLoader is going to create. Please be aware that excessive worker creation might get DataLoader running slow or even freeze, lower the worker number to avoid potential slowness/freeze if necessary.\n",
            "  cpuset_checked))\n"
          ]
        },
        {
          "output_type": "stream",
          "name": "stdout",
          "text": [
            " 55%|█████▌    | 27/49 [00:13<00:10,  2.06it/s]"
          ]
        },
        {
          "output_type": "stream",
          "name": "stderr",
          "text": [
            "/usr/local/lib/python3.7/dist-packages/torch/utils/data/dataloader.py:481: UserWarning: This DataLoader will create 4 worker processes in total. Our suggested max number of worker in current system is 2, which is smaller than what this DataLoader is going to create. Please be aware that excessive worker creation might get DataLoader running slow or even freeze, lower the worker number to avoid potential slowness/freeze if necessary.\n",
            "  cpuset_checked))\n"
          ]
        },
        {
          "output_type": "stream",
          "name": "stdout",
          "text": [
            " 57%|█████▋    | 28/49 [00:14<00:10,  2.08it/s]"
          ]
        },
        {
          "output_type": "stream",
          "name": "stderr",
          "text": [
            "/usr/local/lib/python3.7/dist-packages/torch/utils/data/dataloader.py:481: UserWarning: This DataLoader will create 4 worker processes in total. Our suggested max number of worker in current system is 2, which is smaller than what this DataLoader is going to create. Please be aware that excessive worker creation might get DataLoader running slow or even freeze, lower the worker number to avoid potential slowness/freeze if necessary.\n",
            "  cpuset_checked))\n"
          ]
        },
        {
          "output_type": "stream",
          "name": "stdout",
          "text": [
            " 59%|█████▉    | 29/49 [00:14<00:09,  2.12it/s]"
          ]
        },
        {
          "output_type": "stream",
          "name": "stderr",
          "text": [
            "/usr/local/lib/python3.7/dist-packages/torch/utils/data/dataloader.py:481: UserWarning: This DataLoader will create 4 worker processes in total. Our suggested max number of worker in current system is 2, which is smaller than what this DataLoader is going to create. Please be aware that excessive worker creation might get DataLoader running slow or even freeze, lower the worker number to avoid potential slowness/freeze if necessary.\n",
            "  cpuset_checked))\n"
          ]
        },
        {
          "output_type": "stream",
          "name": "stdout",
          "text": [
            " 63%|██████▎   | 31/49 [00:15<00:08,  2.13it/s]"
          ]
        },
        {
          "output_type": "stream",
          "name": "stderr",
          "text": [
            "/usr/local/lib/python3.7/dist-packages/torch/utils/data/dataloader.py:481: UserWarning: This DataLoader will create 4 worker processes in total. Our suggested max number of worker in current system is 2, which is smaller than what this DataLoader is going to create. Please be aware that excessive worker creation might get DataLoader running slow or even freeze, lower the worker number to avoid potential slowness/freeze if necessary.\n",
            "  cpuset_checked))\n"
          ]
        },
        {
          "output_type": "stream",
          "name": "stdout",
          "text": [
            " 65%|██████▌   | 32/49 [00:16<00:08,  2.09it/s]"
          ]
        },
        {
          "output_type": "stream",
          "name": "stderr",
          "text": [
            "/usr/local/lib/python3.7/dist-packages/torch/utils/data/dataloader.py:481: UserWarning: This DataLoader will create 4 worker processes in total. Our suggested max number of worker in current system is 2, which is smaller than what this DataLoader is going to create. Please be aware that excessive worker creation might get DataLoader running slow or even freeze, lower the worker number to avoid potential slowness/freeze if necessary.\n",
            "  cpuset_checked))\n"
          ]
        },
        {
          "output_type": "stream",
          "name": "stdout",
          "text": [
            " 67%|██████▋   | 33/49 [00:16<00:07,  2.09it/s]"
          ]
        },
        {
          "output_type": "stream",
          "name": "stderr",
          "text": [
            "/usr/local/lib/python3.7/dist-packages/torch/utils/data/dataloader.py:481: UserWarning: This DataLoader will create 4 worker processes in total. Our suggested max number of worker in current system is 2, which is smaller than what this DataLoader is going to create. Please be aware that excessive worker creation might get DataLoader running slow or even freeze, lower the worker number to avoid potential slowness/freeze if necessary.\n",
            "  cpuset_checked))\n"
          ]
        },
        {
          "output_type": "stream",
          "name": "stdout",
          "text": [
            " 69%|██████▉   | 34/49 [00:17<00:07,  2.10it/s]"
          ]
        },
        {
          "output_type": "stream",
          "name": "stderr",
          "text": [
            "/usr/local/lib/python3.7/dist-packages/torch/utils/data/dataloader.py:481: UserWarning: This DataLoader will create 4 worker processes in total. Our suggested max number of worker in current system is 2, which is smaller than what this DataLoader is going to create. Please be aware that excessive worker creation might get DataLoader running slow or even freeze, lower the worker number to avoid potential slowness/freeze if necessary.\n",
            "  cpuset_checked))\n"
          ]
        },
        {
          "output_type": "stream",
          "name": "stdout",
          "text": [
            " 71%|███████▏  | 35/49 [00:17<00:06,  2.09it/s]"
          ]
        },
        {
          "output_type": "stream",
          "name": "stderr",
          "text": [
            "/usr/local/lib/python3.7/dist-packages/torch/utils/data/dataloader.py:481: UserWarning: This DataLoader will create 4 worker processes in total. Our suggested max number of worker in current system is 2, which is smaller than what this DataLoader is going to create. Please be aware that excessive worker creation might get DataLoader running slow or even freeze, lower the worker number to avoid potential slowness/freeze if necessary.\n",
            "  cpuset_checked))\n"
          ]
        },
        {
          "output_type": "stream",
          "name": "stdout",
          "text": [
            " 73%|███████▎  | 36/49 [00:17<00:06,  2.09it/s]"
          ]
        },
        {
          "output_type": "stream",
          "name": "stderr",
          "text": [
            "/usr/local/lib/python3.7/dist-packages/torch/utils/data/dataloader.py:481: UserWarning: This DataLoader will create 4 worker processes in total. Our suggested max number of worker in current system is 2, which is smaller than what this DataLoader is going to create. Please be aware that excessive worker creation might get DataLoader running slow or even freeze, lower the worker number to avoid potential slowness/freeze if necessary.\n",
            "  cpuset_checked))\n"
          ]
        },
        {
          "output_type": "stream",
          "name": "stdout",
          "text": [
            " 76%|███████▌  | 37/49 [00:18<00:05,  2.13it/s]"
          ]
        },
        {
          "output_type": "stream",
          "name": "stderr",
          "text": [
            "/usr/local/lib/python3.7/dist-packages/torch/utils/data/dataloader.py:481: UserWarning: This DataLoader will create 4 worker processes in total. Our suggested max number of worker in current system is 2, which is smaller than what this DataLoader is going to create. Please be aware that excessive worker creation might get DataLoader running slow or even freeze, lower the worker number to avoid potential slowness/freeze if necessary.\n",
            "  cpuset_checked))\n"
          ]
        },
        {
          "output_type": "stream",
          "name": "stdout",
          "text": [
            " 78%|███████▊  | 38/49 [00:18<00:05,  2.18it/s]"
          ]
        },
        {
          "output_type": "stream",
          "name": "stderr",
          "text": [
            "/usr/local/lib/python3.7/dist-packages/torch/utils/data/dataloader.py:481: UserWarning: This DataLoader will create 4 worker processes in total. Our suggested max number of worker in current system is 2, which is smaller than what this DataLoader is going to create. Please be aware that excessive worker creation might get DataLoader running slow or even freeze, lower the worker number to avoid potential slowness/freeze if necessary.\n",
            "  cpuset_checked))\n"
          ]
        },
        {
          "output_type": "stream",
          "name": "stdout",
          "text": [
            " 80%|███████▉  | 39/49 [00:19<00:04,  2.19it/s]"
          ]
        },
        {
          "output_type": "stream",
          "name": "stderr",
          "text": [
            "/usr/local/lib/python3.7/dist-packages/torch/utils/data/dataloader.py:481: UserWarning: This DataLoader will create 4 worker processes in total. Our suggested max number of worker in current system is 2, which is smaller than what this DataLoader is going to create. Please be aware that excessive worker creation might get DataLoader running slow or even freeze, lower the worker number to avoid potential slowness/freeze if necessary.\n",
            "  cpuset_checked))\n"
          ]
        },
        {
          "output_type": "stream",
          "name": "stdout",
          "text": [
            " 82%|████████▏ | 40/49 [00:19<00:04,  2.24it/s]"
          ]
        },
        {
          "output_type": "stream",
          "name": "stderr",
          "text": [
            "/usr/local/lib/python3.7/dist-packages/torch/utils/data/dataloader.py:481: UserWarning: This DataLoader will create 4 worker processes in total. Our suggested max number of worker in current system is 2, which is smaller than what this DataLoader is going to create. Please be aware that excessive worker creation might get DataLoader running slow or even freeze, lower the worker number to avoid potential slowness/freeze if necessary.\n",
            "  cpuset_checked))\n"
          ]
        },
        {
          "output_type": "stream",
          "name": "stdout",
          "text": [
            " 84%|████████▎ | 41/49 [00:20<00:03,  2.25it/s]"
          ]
        },
        {
          "output_type": "stream",
          "name": "stderr",
          "text": [
            "/usr/local/lib/python3.7/dist-packages/torch/utils/data/dataloader.py:481: UserWarning: This DataLoader will create 4 worker processes in total. Our suggested max number of worker in current system is 2, which is smaller than what this DataLoader is going to create. Please be aware that excessive worker creation might get DataLoader running slow or even freeze, lower the worker number to avoid potential slowness/freeze if necessary.\n",
            "  cpuset_checked))\n"
          ]
        },
        {
          "output_type": "stream",
          "name": "stdout",
          "text": [
            " 88%|████████▊ | 43/49 [00:21<00:02,  2.33it/s]"
          ]
        },
        {
          "output_type": "stream",
          "name": "stderr",
          "text": [
            "/usr/local/lib/python3.7/dist-packages/torch/utils/data/dataloader.py:481: UserWarning: This DataLoader will create 4 worker processes in total. Our suggested max number of worker in current system is 2, which is smaller than what this DataLoader is going to create. Please be aware that excessive worker creation might get DataLoader running slow or even freeze, lower the worker number to avoid potential slowness/freeze if necessary.\n",
            "  cpuset_checked))\n"
          ]
        },
        {
          "output_type": "stream",
          "name": "stdout",
          "text": [
            " 90%|████████▉ | 44/49 [00:21<00:02,  2.35it/s]"
          ]
        },
        {
          "output_type": "stream",
          "name": "stderr",
          "text": [
            "/usr/local/lib/python3.7/dist-packages/torch/utils/data/dataloader.py:481: UserWarning: This DataLoader will create 4 worker processes in total. Our suggested max number of worker in current system is 2, which is smaller than what this DataLoader is going to create. Please be aware that excessive worker creation might get DataLoader running slow or even freeze, lower the worker number to avoid potential slowness/freeze if necessary.\n",
            "  cpuset_checked))\n"
          ]
        },
        {
          "output_type": "stream",
          "name": "stdout",
          "text": [
            " 92%|█████████▏| 45/49 [00:21<00:01,  2.35it/s]"
          ]
        },
        {
          "output_type": "stream",
          "name": "stderr",
          "text": [
            "/usr/local/lib/python3.7/dist-packages/torch/utils/data/dataloader.py:481: UserWarning: This DataLoader will create 4 worker processes in total. Our suggested max number of worker in current system is 2, which is smaller than what this DataLoader is going to create. Please be aware that excessive worker creation might get DataLoader running slow or even freeze, lower the worker number to avoid potential slowness/freeze if necessary.\n",
            "  cpuset_checked))\n"
          ]
        },
        {
          "output_type": "stream",
          "name": "stdout",
          "text": [
            " 94%|█████████▍| 46/49 [00:22<00:01,  2.41it/s]"
          ]
        },
        {
          "output_type": "stream",
          "name": "stderr",
          "text": [
            "/usr/local/lib/python3.7/dist-packages/torch/utils/data/dataloader.py:481: UserWarning: This DataLoader will create 4 worker processes in total. Our suggested max number of worker in current system is 2, which is smaller than what this DataLoader is going to create. Please be aware that excessive worker creation might get DataLoader running slow or even freeze, lower the worker number to avoid potential slowness/freeze if necessary.\n",
            "  cpuset_checked))\n"
          ]
        },
        {
          "output_type": "stream",
          "name": "stdout",
          "text": [
            " 96%|█████████▌| 47/49 [00:22<00:00,  2.35it/s]"
          ]
        },
        {
          "output_type": "stream",
          "name": "stderr",
          "text": [
            "/usr/local/lib/python3.7/dist-packages/torch/utils/data/dataloader.py:481: UserWarning: This DataLoader will create 4 worker processes in total. Our suggested max number of worker in current system is 2, which is smaller than what this DataLoader is going to create. Please be aware that excessive worker creation might get DataLoader running slow or even freeze, lower the worker number to avoid potential slowness/freeze if necessary.\n",
            "  cpuset_checked))\n"
          ]
        },
        {
          "output_type": "stream",
          "name": "stdout",
          "text": [
            "100%|██████████| 49/49 [00:23<00:00,  2.06it/s]\n",
            "Epoch 0 ended.\n",
            "\tDiskUsage_Epoch/train_phase/train_stream/Task000 = 55532.3242\n",
            "\tMaxGPU0Usage_Epoch/train_phase/train_stream/Task000 = 0\n",
            "\tMaxRAMUsage_Epoch/train_phase/train_stream/Task000 = 3310.5195\n",
            "\tTime_Epoch/train_phase/train_stream/Task000 = 23.5416\n",
            "\tTop1_Acc_Epoch/train_phase/train_stream/Task000 = 0.8769\n",
            "-- >> End of training phase << --\n",
            "Training completed\n",
            "Computing accuracy on the whole test set\n",
            "-- >> Start of eval phase << --\n",
            "-- Starting eval on experience 0 (Task 0) from test stream --\n"
          ]
        },
        {
          "output_type": "stream",
          "name": "stderr",
          "text": [
            "/usr/local/lib/python3.7/dist-packages/torch/utils/data/dataloader.py:481: UserWarning: This DataLoader will create 4 worker processes in total. Our suggested max number of worker in current system is 2, which is smaller than what this DataLoader is going to create. Please be aware that excessive worker creation might get DataLoader running slow or even freeze, lower the worker number to avoid potential slowness/freeze if necessary.\n",
            "  cpuset_checked))\n"
          ]
        },
        {
          "output_type": "stream",
          "name": "stdout",
          "text": [
            "100%|██████████| 20/20 [00:01<00:00, 14.92it/s]\n",
            "> Eval on experience 0 (Task 0) from test stream ended.\n",
            "\tCPUUsage_Exp/eval_phase/test_stream/Task000/Exp000 = 47.5737\n",
            "\tDiskUsage_Exp/eval_phase/test_stream/Task000/Exp000 = 55532.3242\n",
            "\tMaxGPU0Usage_Experience/eval_phase/test_stream/Task000/Exp000 = 0\n",
            "\tMaxRAMUsage_Experience/eval_phase/test_stream/Task000/Exp000 = 3308.9023\n",
            "\tTime_Exp/eval_phase/test_stream/Task000/Exp000 = 1.2412\n",
            "\tTop1_Acc_Exp/eval_phase/test_stream/Task000/Exp000 = 0.8670\n",
            "-- Starting eval on experience 1 (Task 0) from test stream --\n"
          ]
        },
        {
          "output_type": "stream",
          "name": "stderr",
          "text": [
            "/usr/local/lib/python3.7/dist-packages/torch/utils/data/dataloader.py:481: UserWarning: This DataLoader will create 4 worker processes in total. Our suggested max number of worker in current system is 2, which is smaller than what this DataLoader is going to create. Please be aware that excessive worker creation might get DataLoader running slow or even freeze, lower the worker number to avoid potential slowness/freeze if necessary.\n",
            "  cpuset_checked))\n"
          ]
        },
        {
          "output_type": "stream",
          "name": "stdout",
          "text": [
            "100%|██████████| 22/22 [00:01<00:00, 13.78it/s]\n",
            "> Eval on experience 1 (Task 0) from test stream ended.\n",
            "\tCPUUsage_Exp/eval_phase/test_stream/Task000/Exp001 = 48.4716\n",
            "\tDiskUsage_Exp/eval_phase/test_stream/Task000/Exp001 = 55532.3242\n",
            "\tMaxGPU0Usage_Experience/eval_phase/test_stream/Task000/Exp001 = 0\n",
            "\tMaxRAMUsage_Experience/eval_phase/test_stream/Task000/Exp001 = 3308.9453\n",
            "\tTime_Exp/eval_phase/test_stream/Task000/Exp001 = 1.4512\n",
            "\tTop1_Acc_Exp/eval_phase/test_stream/Task000/Exp001 = 0.8952\n",
            "-- Starting eval on experience 2 (Task 0) from test stream --\n"
          ]
        },
        {
          "output_type": "stream",
          "name": "stderr",
          "text": [
            "/usr/local/lib/python3.7/dist-packages/torch/utils/data/dataloader.py:481: UserWarning: This DataLoader will create 4 worker processes in total. Our suggested max number of worker in current system is 2, which is smaller than what this DataLoader is going to create. Please be aware that excessive worker creation might get DataLoader running slow or even freeze, lower the worker number to avoid potential slowness/freeze if necessary.\n",
            "  cpuset_checked))\n"
          ]
        },
        {
          "output_type": "stream",
          "name": "stdout",
          "text": [
            "100%|██████████| 20/20 [00:01<00:00, 15.08it/s]\n",
            "> Eval on experience 2 (Task 0) from test stream ended.\n",
            "\tCPUUsage_Exp/eval_phase/test_stream/Task000/Exp002 = 47.6754\n",
            "\tDiskUsage_Exp/eval_phase/test_stream/Task000/Exp002 = 55532.3242\n",
            "\tMaxGPU0Usage_Experience/eval_phase/test_stream/Task000/Exp002 = 0\n",
            "\tMaxRAMUsage_Experience/eval_phase/test_stream/Task000/Exp002 = 3308.9492\n",
            "\tTime_Exp/eval_phase/test_stream/Task000/Exp002 = 1.2583\n",
            "\tTop1_Acc_Exp/eval_phase/test_stream/Task000/Exp002 = 0.7897\n",
            "-- Starting eval on experience 3 (Task 0) from test stream --\n"
          ]
        },
        {
          "output_type": "stream",
          "name": "stderr",
          "text": [
            "/usr/local/lib/python3.7/dist-packages/torch/utils/data/dataloader.py:481: UserWarning: This DataLoader will create 4 worker processes in total. Our suggested max number of worker in current system is 2, which is smaller than what this DataLoader is going to create. Please be aware that excessive worker creation might get DataLoader running slow or even freeze, lower the worker number to avoid potential slowness/freeze if necessary.\n",
            "  cpuset_checked))\n"
          ]
        },
        {
          "output_type": "stream",
          "name": "stdout",
          "text": [
            "100%|██████████| 19/19 [00:01<00:00, 13.55it/s]\n",
            "> Eval on experience 3 (Task 0) from test stream ended.\n",
            "\tCPUUsage_Exp/eval_phase/test_stream/Task000/Exp003 = 50.6066\n",
            "\tDiskUsage_Exp/eval_phase/test_stream/Task000/Exp003 = 55532.3242\n",
            "\tMaxGPU0Usage_Experience/eval_phase/test_stream/Task000/Exp003 = 0\n",
            "\tMaxRAMUsage_Experience/eval_phase/test_stream/Task000/Exp003 = 3308.9531\n",
            "\tTime_Exp/eval_phase/test_stream/Task000/Exp003 = 1.3042\n",
            "\tTop1_Acc_Exp/eval_phase/test_stream/Task000/Exp003 = 0.8980\n",
            "-- Starting eval on experience 4 (Task 0) from test stream --\n"
          ]
        },
        {
          "output_type": "stream",
          "name": "stderr",
          "text": [
            "/usr/local/lib/python3.7/dist-packages/torch/utils/data/dataloader.py:481: UserWarning: This DataLoader will create 4 worker processes in total. Our suggested max number of worker in current system is 2, which is smaller than what this DataLoader is going to create. Please be aware that excessive worker creation might get DataLoader running slow or even freeze, lower the worker number to avoid potential slowness/freeze if necessary.\n",
            "  cpuset_checked))\n"
          ]
        },
        {
          "output_type": "stream",
          "name": "stdout",
          "text": [
            "100%|██████████| 20/20 [00:01<00:00, 14.38it/s]\n",
            "> Eval on experience 4 (Task 0) from test stream ended.\n",
            "\tCPUUsage_Exp/eval_phase/test_stream/Task000/Exp004 = 46.6933\n",
            "\tDiskUsage_Exp/eval_phase/test_stream/Task000/Exp004 = 55532.3242\n",
            "\tMaxGPU0Usage_Experience/eval_phase/test_stream/Task000/Exp004 = 0\n",
            "\tMaxRAMUsage_Experience/eval_phase/test_stream/Task000/Exp004 = 3308.9766\n",
            "\tTime_Exp/eval_phase/test_stream/Task000/Exp004 = 1.2853\n",
            "\tTop1_Acc_Exp/eval_phase/test_stream/Task000/Exp004 = 0.9597\n",
            "-- >> End of eval phase << --\n",
            "\tDiskUsage_Stream/eval_phase/test_stream/Task000 = 55532.3242\n",
            "\tMaxGPU0Usage_Stream/eval_phase/test_stream/Task000 = 0\n",
            "\tMaxRAMUsage_Stream/eval_phase/test_stream/Task000 = 3308.9766\n",
            "\tTop1_Acc_Stream/eval_phase/test_stream/Task000 = 0.8820\n"
          ]
        }
      ]
    },
    {
      "cell_type": "code",
      "source": [
        "results_cl"
      ],
      "metadata": {
        "colab": {
          "base_uri": "https://localhost:8080/"
        },
        "id": "puS36MdWy4q4",
        "outputId": "2ae84a8e-7d34-48e2-e801-466f9e6e8b49"
      },
      "execution_count": 23,
      "outputs": [
        {
          "output_type": "execute_result",
          "data": {
            "text/plain": [
              "[{'CPUUsage_Exp/eval_phase/test_stream/Task000/Exp000': 51.16330504936534,\n",
              "  'CPUUsage_Exp/eval_phase/test_stream/Task000/Exp001': 52.91518854964126,\n",
              "  'CPUUsage_Exp/eval_phase/test_stream/Task000/Exp002': 52.76507541971666,\n",
              "  'CPUUsage_Exp/eval_phase/test_stream/Task000/Exp003': 50.653716400855345,\n",
              "  'CPUUsage_Exp/eval_phase/test_stream/Task000/Exp004': 51.311224261214846,\n",
              "  'DiskUsage_Epoch/train_phase/train_stream/Task000': 55532.32421875,\n",
              "  'DiskUsage_Exp/eval_phase/test_stream/Task000/Exp000': 55532.32421875,\n",
              "  'DiskUsage_Exp/eval_phase/test_stream/Task000/Exp001': 55532.32421875,\n",
              "  'DiskUsage_Exp/eval_phase/test_stream/Task000/Exp002': 55532.32421875,\n",
              "  'DiskUsage_Exp/eval_phase/test_stream/Task000/Exp003': 55532.32421875,\n",
              "  'DiskUsage_Exp/eval_phase/test_stream/Task000/Exp004': 55532.32421875,\n",
              "  'DiskUsage_Stream/eval_phase/test_stream/Task000': 55532.32421875,\n",
              "  'MaxGPU0Usage_Epoch/train_phase/train_stream/Task000': 0,\n",
              "  'MaxGPU0Usage_Experience/eval_phase/test_stream/Task000/Exp000': 0,\n",
              "  'MaxGPU0Usage_Experience/eval_phase/test_stream/Task000/Exp001': 0,\n",
              "  'MaxGPU0Usage_Experience/eval_phase/test_stream/Task000/Exp002': 0,\n",
              "  'MaxGPU0Usage_Experience/eval_phase/test_stream/Task000/Exp003': 0,\n",
              "  'MaxGPU0Usage_Experience/eval_phase/test_stream/Task000/Exp004': 0,\n",
              "  'MaxGPU0Usage_Stream/eval_phase/test_stream/Task000': 0,\n",
              "  'MaxRAMUsage_Epoch/train_phase/train_stream/Task000': 3306.03515625,\n",
              "  'MaxRAMUsage_Experience/eval_phase/test_stream/Task000/Exp000': 3306.80078125,\n",
              "  'MaxRAMUsage_Experience/eval_phase/test_stream/Task000/Exp001': 3306.80859375,\n",
              "  'MaxRAMUsage_Experience/eval_phase/test_stream/Task000/Exp002': 3306.82421875,\n",
              "  'MaxRAMUsage_Experience/eval_phase/test_stream/Task000/Exp003': 3306.80859375,\n",
              "  'MaxRAMUsage_Experience/eval_phase/test_stream/Task000/Exp004': 3306.80859375,\n",
              "  'MaxRAMUsage_Stream/eval_phase/test_stream/Task000': 3306.82421875,\n",
              "  'Time_Epoch/train_phase/train_stream/Task000': 4.529606031000185,\n",
              "  'Time_Exp/eval_phase/test_stream/Task000/Exp000': 1.1929821019998599,\n",
              "  'Time_Exp/eval_phase/test_stream/Task000/Exp001': 1.3231419409999035,\n",
              "  'Time_Exp/eval_phase/test_stream/Task000/Exp002': 1.118342868000127,\n",
              "  'Time_Exp/eval_phase/test_stream/Task000/Exp003': 1.1084295869995913,\n",
              "  'Time_Exp/eval_phase/test_stream/Task000/Exp004': 1.1503481689996988,\n",
              "  'Top1_Acc_Epoch/train_phase/train_stream/Task000': 0.9305103148751357,\n",
              "  'Top1_Acc_Exp/eval_phase/test_stream/Task000/Exp000': 0.9819277108433735,\n",
              "  'Top1_Acc_Exp/eval_phase/test_stream/Task000/Exp001': 0.8772496538994001,\n",
              "  'Top1_Acc_Exp/eval_phase/test_stream/Task000/Exp002': 0.6071608673726677,\n",
              "  'Top1_Acc_Exp/eval_phase/test_stream/Task000/Exp003': 0.7756410256410257,\n",
              "  'Top1_Acc_Exp/eval_phase/test_stream/Task000/Exp004': 0.8569989929506546,\n",
              "  'Top1_Acc_Stream/eval_phase/test_stream/Task000': 0.8215},\n",
              " {'CPUUsage_Exp/eval_phase/test_stream/Task000/Exp000': 49.84212275892314,\n",
              "  'CPUUsage_Exp/eval_phase/test_stream/Task000/Exp001': 52.93970541689489,\n",
              "  'CPUUsage_Exp/eval_phase/test_stream/Task000/Exp002': 50.4760256974766,\n",
              "  'CPUUsage_Exp/eval_phase/test_stream/Task000/Exp003': 49.19864707888268,\n",
              "  'CPUUsage_Exp/eval_phase/test_stream/Task000/Exp004': 52.33833996809555,\n",
              "  'DiskUsage_Epoch/train_phase/train_stream/Task000': 55532.32421875,\n",
              "  'DiskUsage_Exp/eval_phase/test_stream/Task000/Exp000': 55532.32421875,\n",
              "  'DiskUsage_Exp/eval_phase/test_stream/Task000/Exp001': 55532.32421875,\n",
              "  'DiskUsage_Exp/eval_phase/test_stream/Task000/Exp002': 55532.32421875,\n",
              "  'DiskUsage_Exp/eval_phase/test_stream/Task000/Exp003': 55532.32421875,\n",
              "  'DiskUsage_Exp/eval_phase/test_stream/Task000/Exp004': 55532.32421875,\n",
              "  'DiskUsage_Stream/eval_phase/test_stream/Task000': 55532.32421875,\n",
              "  'MaxGPU0Usage_Epoch/train_phase/train_stream/Task000': 0,\n",
              "  'MaxGPU0Usage_Experience/eval_phase/test_stream/Task000/Exp000': 0,\n",
              "  'MaxGPU0Usage_Experience/eval_phase/test_stream/Task000/Exp001': 0,\n",
              "  'MaxGPU0Usage_Experience/eval_phase/test_stream/Task000/Exp002': 0,\n",
              "  'MaxGPU0Usage_Experience/eval_phase/test_stream/Task000/Exp003': 0,\n",
              "  'MaxGPU0Usage_Experience/eval_phase/test_stream/Task000/Exp004': 0,\n",
              "  'MaxGPU0Usage_Stream/eval_phase/test_stream/Task000': 0,\n",
              "  'MaxRAMUsage_Epoch/train_phase/train_stream/Task000': 3308.56640625,\n",
              "  'MaxRAMUsage_Experience/eval_phase/test_stream/Task000/Exp000': 3307.15234375,\n",
              "  'MaxRAMUsage_Experience/eval_phase/test_stream/Task000/Exp001': 3307.1640625,\n",
              "  'MaxRAMUsage_Experience/eval_phase/test_stream/Task000/Exp002': 3307.15234375,\n",
              "  'MaxRAMUsage_Experience/eval_phase/test_stream/Task000/Exp003': 3307.1640625,\n",
              "  'MaxRAMUsage_Experience/eval_phase/test_stream/Task000/Exp004': 3307.1640625,\n",
              "  'MaxRAMUsage_Stream/eval_phase/test_stream/Task000': 3307.1640625,\n",
              "  'Time_Epoch/train_phase/train_stream/Task000': 23.08369349800023,\n",
              "  'Time_Exp/eval_phase/test_stream/Task000/Exp000': 1.164267190999908,\n",
              "  'Time_Exp/eval_phase/test_stream/Task000/Exp001': 1.3037003039999036,\n",
              "  'Time_Exp/eval_phase/test_stream/Task000/Exp002': 1.1296407039999394,\n",
              "  'Time_Exp/eval_phase/test_stream/Task000/Exp003': 1.2214286900002662,\n",
              "  'Time_Exp/eval_phase/test_stream/Task000/Exp004': 1.2805101680000917,\n",
              "  'Top1_Acc_Epoch/train_phase/train_stream/Task000': 0.9436681222707424,\n",
              "  'Top1_Acc_Exp/eval_phase/test_stream/Task000/Exp000': 0.9698795180722891,\n",
              "  'Top1_Acc_Exp/eval_phase/test_stream/Task000/Exp001': 0.9630826026765114,\n",
              "  'Top1_Acc_Exp/eval_phase/test_stream/Task000/Exp002': 0.4820978315683308,\n",
              "  'Top1_Acc_Exp/eval_phase/test_stream/Task000/Exp003': 0.7035256410256411,\n",
              "  'Top1_Acc_Exp/eval_phase/test_stream/Task000/Exp004': 0.7945619335347432,\n",
              "  'Top1_Acc_Stream/eval_phase/test_stream/Task000': 0.787},\n",
              " {'CPUUsage_Exp/eval_phase/test_stream/Task000/Exp000': 50.847495479813425,\n",
              "  'CPUUsage_Exp/eval_phase/test_stream/Task000/Exp001': 52.26407716313676,\n",
              "  'CPUUsage_Exp/eval_phase/test_stream/Task000/Exp002': 50.04167273256862,\n",
              "  'CPUUsage_Exp/eval_phase/test_stream/Task000/Exp003': 50.17179622146632,\n",
              "  'CPUUsage_Exp/eval_phase/test_stream/Task000/Exp004': 49.10055597745276,\n",
              "  'DiskUsage_Epoch/train_phase/train_stream/Task000': 55532.32421875,\n",
              "  'DiskUsage_Exp/eval_phase/test_stream/Task000/Exp000': 55532.32421875,\n",
              "  'DiskUsage_Exp/eval_phase/test_stream/Task000/Exp001': 55532.32421875,\n",
              "  'DiskUsage_Exp/eval_phase/test_stream/Task000/Exp002': 55532.32421875,\n",
              "  'DiskUsage_Exp/eval_phase/test_stream/Task000/Exp003': 55532.32421875,\n",
              "  'DiskUsage_Exp/eval_phase/test_stream/Task000/Exp004': 55532.32421875,\n",
              "  'DiskUsage_Stream/eval_phase/test_stream/Task000': 55532.32421875,\n",
              "  'MaxGPU0Usage_Epoch/train_phase/train_stream/Task000': 0,\n",
              "  'MaxGPU0Usage_Experience/eval_phase/test_stream/Task000/Exp000': 0,\n",
              "  'MaxGPU0Usage_Experience/eval_phase/test_stream/Task000/Exp001': 0,\n",
              "  'MaxGPU0Usage_Experience/eval_phase/test_stream/Task000/Exp002': 0,\n",
              "  'MaxGPU0Usage_Experience/eval_phase/test_stream/Task000/Exp003': 0,\n",
              "  'MaxGPU0Usage_Experience/eval_phase/test_stream/Task000/Exp004': 0,\n",
              "  'MaxGPU0Usage_Stream/eval_phase/test_stream/Task000': 0,\n",
              "  'MaxRAMUsage_Epoch/train_phase/train_stream/Task000': 3308.55078125,\n",
              "  'MaxRAMUsage_Experience/eval_phase/test_stream/Task000/Exp000': 3307.16015625,\n",
              "  'MaxRAMUsage_Experience/eval_phase/test_stream/Task000/Exp001': 3307.1640625,\n",
              "  'MaxRAMUsage_Experience/eval_phase/test_stream/Task000/Exp002': 3307.1640625,\n",
              "  'MaxRAMUsage_Experience/eval_phase/test_stream/Task000/Exp003': 3307.1640625,\n",
              "  'MaxRAMUsage_Experience/eval_phase/test_stream/Task000/Exp004': 3307.1640625,\n",
              "  'MaxRAMUsage_Stream/eval_phase/test_stream/Task000': 3307.1640625,\n",
              "  'Time_Epoch/train_phase/train_stream/Task000': 21.832405280999865,\n",
              "  'Time_Exp/eval_phase/test_stream/Task000/Exp000': 1.2004394979999233,\n",
              "  'Time_Exp/eval_phase/test_stream/Task000/Exp001': 1.3203571919998467,\n",
              "  'Time_Exp/eval_phase/test_stream/Task000/Exp002': 1.3587742279996746,\n",
              "  'Time_Exp/eval_phase/test_stream/Task000/Exp003': 1.1772837449998406,\n",
              "  'Time_Exp/eval_phase/test_stream/Task000/Exp004': 1.2018302699998458,\n",
              "  'Top1_Acc_Epoch/train_phase/train_stream/Task000': 0.8616355140186915,\n",
              "  'Top1_Acc_Exp/eval_phase/test_stream/Task000/Exp000': 0.8699799196787149,\n",
              "  'Top1_Acc_Exp/eval_phase/test_stream/Task000/Exp001': 0.9201661282879557,\n",
              "  'Top1_Acc_Exp/eval_phase/test_stream/Task000/Exp002': 0.9465456379223399,\n",
              "  'Top1_Acc_Exp/eval_phase/test_stream/Task000/Exp003': 0.6720085470085471,\n",
              "  'Top1_Acc_Exp/eval_phase/test_stream/Task000/Exp004': 0.6067472306143001,\n",
              "  'Top1_Acc_Stream/eval_phase/test_stream/Task000': 0.8067},\n",
              " {'CPUUsage_Exp/eval_phase/test_stream/Task000/Exp000': 49.58222642027883,\n",
              "  'CPUUsage_Exp/eval_phase/test_stream/Task000/Exp001': 46.93631413471435,\n",
              "  'CPUUsage_Exp/eval_phase/test_stream/Task000/Exp002': 50.58050003169076,\n",
              "  'CPUUsage_Exp/eval_phase/test_stream/Task000/Exp003': 47.46369921538999,\n",
              "  'CPUUsage_Exp/eval_phase/test_stream/Task000/Exp004': 48.032161586349595,\n",
              "  'DiskUsage_Epoch/train_phase/train_stream/Task000': 55532.32421875,\n",
              "  'DiskUsage_Exp/eval_phase/test_stream/Task000/Exp000': 55532.32421875,\n",
              "  'DiskUsage_Exp/eval_phase/test_stream/Task000/Exp001': 55532.32421875,\n",
              "  'DiskUsage_Exp/eval_phase/test_stream/Task000/Exp002': 55532.32421875,\n",
              "  'DiskUsage_Exp/eval_phase/test_stream/Task000/Exp003': 55532.32421875,\n",
              "  'DiskUsage_Exp/eval_phase/test_stream/Task000/Exp004': 55532.32421875,\n",
              "  'DiskUsage_Stream/eval_phase/test_stream/Task000': 55532.32421875,\n",
              "  'MaxGPU0Usage_Epoch/train_phase/train_stream/Task000': 0,\n",
              "  'MaxGPU0Usage_Experience/eval_phase/test_stream/Task000/Exp000': 0,\n",
              "  'MaxGPU0Usage_Experience/eval_phase/test_stream/Task000/Exp001': 0,\n",
              "  'MaxGPU0Usage_Experience/eval_phase/test_stream/Task000/Exp002': 0,\n",
              "  'MaxGPU0Usage_Experience/eval_phase/test_stream/Task000/Exp003': 0,\n",
              "  'MaxGPU0Usage_Experience/eval_phase/test_stream/Task000/Exp004': 0,\n",
              "  'MaxGPU0Usage_Stream/eval_phase/test_stream/Task000': 0,\n",
              "  'MaxRAMUsage_Epoch/train_phase/train_stream/Task000': 3308.57421875,\n",
              "  'MaxRAMUsage_Experience/eval_phase/test_stream/Task000/Exp000': 3308.40234375,\n",
              "  'MaxRAMUsage_Experience/eval_phase/test_stream/Task000/Exp001': 3308.41015625,\n",
              "  'MaxRAMUsage_Experience/eval_phase/test_stream/Task000/Exp002': 3308.41015625,\n",
              "  'MaxRAMUsage_Experience/eval_phase/test_stream/Task000/Exp003': 3308.41015625,\n",
              "  'MaxRAMUsage_Experience/eval_phase/test_stream/Task000/Exp004': 3308.39453125,\n",
              "  'MaxRAMUsage_Stream/eval_phase/test_stream/Task000': 3308.41015625,\n",
              "  'Time_Epoch/train_phase/train_stream/Task000': 21.25811329399994,\n",
              "  'Time_Exp/eval_phase/test_stream/Task000/Exp000': 1.2515225270003612,\n",
              "  'Time_Exp/eval_phase/test_stream/Task000/Exp001': 1.364297933999751,\n",
              "  'Time_Exp/eval_phase/test_stream/Task000/Exp002': 1.3249970540000504,\n",
              "  'Time_Exp/eval_phase/test_stream/Task000/Exp003': 1.139315099000214,\n",
              "  'Time_Exp/eval_phase/test_stream/Task000/Exp004': 1.2284920540000712,\n",
              "  'Top1_Acc_Epoch/train_phase/train_stream/Task000': 0.8785533489096573,\n",
              "  'Top1_Acc_Exp/eval_phase/test_stream/Task000/Exp000': 0.8654618473895582,\n",
              "  'Top1_Acc_Exp/eval_phase/test_stream/Task000/Exp001': 0.934010152284264,\n",
              "  'Top1_Acc_Exp/eval_phase/test_stream/Task000/Exp002': 0.8472012102874432,\n",
              "  'Top1_Acc_Exp/eval_phase/test_stream/Task000/Exp003': 0.9567307692307693,\n",
              "  'Top1_Acc_Exp/eval_phase/test_stream/Task000/Exp004': 0.6792547834843907,\n",
              "  'Top1_Acc_Stream/eval_phase/test_stream/Task000': 0.8568},\n",
              " {'CPUUsage_Exp/eval_phase/test_stream/Task000/Exp000': 47.573705419610185,\n",
              "  'CPUUsage_Exp/eval_phase/test_stream/Task000/Exp001': 48.4715761910471,\n",
              "  'CPUUsage_Exp/eval_phase/test_stream/Task000/Exp002': 47.675394935172726,\n",
              "  'CPUUsage_Exp/eval_phase/test_stream/Task000/Exp003': 50.606566520570134,\n",
              "  'CPUUsage_Exp/eval_phase/test_stream/Task000/Exp004': 46.693288004043886,\n",
              "  'DiskUsage_Epoch/train_phase/train_stream/Task000': 55532.32421875,\n",
              "  'DiskUsage_Exp/eval_phase/test_stream/Task000/Exp000': 55532.32421875,\n",
              "  'DiskUsage_Exp/eval_phase/test_stream/Task000/Exp001': 55532.32421875,\n",
              "  'DiskUsage_Exp/eval_phase/test_stream/Task000/Exp002': 55532.32421875,\n",
              "  'DiskUsage_Exp/eval_phase/test_stream/Task000/Exp003': 55532.32421875,\n",
              "  'DiskUsage_Exp/eval_phase/test_stream/Task000/Exp004': 55532.32421875,\n",
              "  'DiskUsage_Stream/eval_phase/test_stream/Task000': 55532.32421875,\n",
              "  'MaxGPU0Usage_Epoch/train_phase/train_stream/Task000': 0,\n",
              "  'MaxGPU0Usage_Experience/eval_phase/test_stream/Task000/Exp000': 0,\n",
              "  'MaxGPU0Usage_Experience/eval_phase/test_stream/Task000/Exp001': 0,\n",
              "  'MaxGPU0Usage_Experience/eval_phase/test_stream/Task000/Exp002': 0,\n",
              "  'MaxGPU0Usage_Experience/eval_phase/test_stream/Task000/Exp003': 0,\n",
              "  'MaxGPU0Usage_Experience/eval_phase/test_stream/Task000/Exp004': 0,\n",
              "  'MaxGPU0Usage_Stream/eval_phase/test_stream/Task000': 0,\n",
              "  'MaxRAMUsage_Epoch/train_phase/train_stream/Task000': 3310.51953125,\n",
              "  'MaxRAMUsage_Experience/eval_phase/test_stream/Task000/Exp000': 3308.90234375,\n",
              "  'MaxRAMUsage_Experience/eval_phase/test_stream/Task000/Exp001': 3308.9453125,\n",
              "  'MaxRAMUsage_Experience/eval_phase/test_stream/Task000/Exp002': 3308.94921875,\n",
              "  'MaxRAMUsage_Experience/eval_phase/test_stream/Task000/Exp003': 3308.953125,\n",
              "  'MaxRAMUsage_Experience/eval_phase/test_stream/Task000/Exp004': 3308.9765625,\n",
              "  'MaxRAMUsage_Stream/eval_phase/test_stream/Task000': 3308.9765625,\n",
              "  'Time_Epoch/train_phase/train_stream/Task000': 23.54160499200043,\n",
              "  'Time_Exp/eval_phase/test_stream/Task000/Exp000': 1.24115644099993,\n",
              "  'Time_Exp/eval_phase/test_stream/Task000/Exp001': 1.4512279440000384,\n",
              "  'Time_Exp/eval_phase/test_stream/Task000/Exp002': 1.258312801000102,\n",
              "  'Time_Exp/eval_phase/test_stream/Task000/Exp003': 1.3042182070003037,\n",
              "  'Time_Exp/eval_phase/test_stream/Task000/Exp004': 1.285327533000327,\n",
              "  'Top1_Acc_Epoch/train_phase/train_stream/Task000': 0.8768593913478597,\n",
              "  'Top1_Acc_Exp/eval_phase/test_stream/Task000/Exp000': 0.8669678714859438,\n",
              "  'Top1_Acc_Exp/eval_phase/test_stream/Task000/Exp001': 0.8952468850946008,\n",
              "  'Top1_Acc_Exp/eval_phase/test_stream/Task000/Exp002': 0.789712556732224,\n",
              "  'Top1_Acc_Exp/eval_phase/test_stream/Task000/Exp003': 0.8979700854700855,\n",
              "  'Top1_Acc_Exp/eval_phase/test_stream/Task000/Exp004': 0.959718026183283,\n",
              "  'Top1_Acc_Stream/eval_phase/test_stream/Task000': 0.882}]"
            ]
          },
          "metadata": {},
          "execution_count": 23
        }
      ]
    },
    {
      "cell_type": "markdown",
      "source": [
        "## Results and Plot\n",
        "\n",
        "- **Performance** (Stream Accuracy)\n",
        "- **Efficiency** ( timing_metrics, cpu_usage_metrics, disk_usage_metrics, gpu_usage_metrics, ram_usage_metrics) -> CL/N% CL/Cum%\n",
        "\n",
        "PLOT \n",
        "- Acc | Eff metrics | in experiences"
      ],
      "metadata": {
        "id": "ogF0gEVdmNKn"
      }
    },
    {
      "cell_type": "code",
      "source": [
        ""
      ],
      "metadata": {
        "id": "qJavG2sWmN7d"
      },
      "execution_count": null,
      "outputs": []
    },
    {
      "cell_type": "markdown",
      "source": [
        "# CORe50"
      ],
      "metadata": {
        "id": "-RmH5Q8Zlz4u"
      }
    },
    {
      "cell_type": "code",
      "source": [
        ""
      ],
      "metadata": {
        "id": "Vj1NdMjzl4sM"
      },
      "execution_count": null,
      "outputs": []
    },
    {
      "cell_type": "markdown",
      "source": [
        "## Naive"
      ],
      "metadata": {
        "id": "DaxvG52Al5Oz"
      }
    },
    {
      "cell_type": "code",
      "source": [
        ""
      ],
      "metadata": {
        "id": "hckEIe7Jl67a"
      },
      "execution_count": null,
      "outputs": []
    },
    {
      "cell_type": "markdown",
      "source": [
        "## Cumulative"
      ],
      "metadata": {
        "id": "Pk_Y5npSl7Pb"
      }
    },
    {
      "cell_type": "code",
      "source": [
        ""
      ],
      "metadata": {
        "id": "t1CZtCNEl8xF"
      },
      "execution_count": null,
      "outputs": []
    },
    {
      "cell_type": "markdown",
      "source": [
        "## CL strategy (Random Replay)"
      ],
      "metadata": {
        "id": "C8we8Uqfl_he"
      }
    },
    {
      "cell_type": "code",
      "source": [
        ""
      ],
      "metadata": {
        "id": "PoZBiSQKmD9e"
      },
      "execution_count": null,
      "outputs": []
    },
    {
      "cell_type": "markdown",
      "source": [
        "## Results and Plot\n",
        "\n",
        "- **Performance** (Stream Accuracy)\n",
        "- **Efficiency** ( timing_metrics, cpu_usage_metrics, disk_usage_metrics, gpu_usage_metrics, ram_usage_metrics)\n",
        "\n",
        "What Else?"
      ],
      "metadata": {
        "id": "gkJHX0TtmFFI"
      }
    },
    {
      "cell_type": "code",
      "source": [
        ""
      ],
      "metadata": {
        "id": "SunyF2hUmLG8"
      },
      "execution_count": null,
      "outputs": []
    }
  ]
}